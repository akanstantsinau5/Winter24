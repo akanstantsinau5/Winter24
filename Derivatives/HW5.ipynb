{
 "cells": [
  {
   "cell_type": "code",
   "execution_count": 15,
   "metadata": {},
   "outputs": [],
   "source": [
    "import numpy as np\n",
    "import pandas as pd\n",
    "import scipy.stats as stats\n",
    "import matplotlib.pyplot as plt\n",
    "import seaborn as sns"
   ]
  },
  {
   "cell_type": "code",
   "execution_count": 16,
   "metadata": {},
   "outputs": [
    {
     "name": "stdout",
     "output_type": "stream",
     "text": [
      "[6444.15978945 8080.21888132 5545.4340558  ... 5800.09060956 4514.98642137\n",
      " 4079.6156982 ]\n"
     ]
    }
   ],
   "source": [
    "default_S = 5000\n",
    "default_K = 5000\n",
    "default_r = 0.049\n",
    "default_y = 0.011\n",
    "default_sigma = 0.155\n",
    "default_T = 1\n",
    "\n",
    "# Problem 1a\n",
    "def box_muller(u1, u2):\n",
    "    z0 = np.sqrt(-2 * np.log(u1)) * np.cos(2 * np.pi * u2)\n",
    "    z1 = np.sqrt(-2 * np.log(u1)) * np.sin(2 * np.pi * u2)\n",
    "    return z0, z1\n",
    "\n",
    "def sobolNormalGen(length, dim, seed = 666):\n",
    "    sobol_engine = stats.qmc.Sobol(2*dim, bits=64, seed=seed)\n",
    "    uniform = sobol_engine.random(length)\n",
    "    samples = np.zeros((2*length, dim))\n",
    "    for i in range(dim):\n",
    "        z0, z1 = box_muller(uniform[:, 2*i], uniform[:, 2*i+1])\n",
    "        tempArray = np.zeros((length, 2))\n",
    "        tempArray[:, 0] = z0\n",
    "        tempArray[:, 1] = z1\n",
    "        samples[:, i] = tempArray.flatten()\n",
    "    return samples\n",
    "\n",
    "def stockSample(samples, S0 = default_S, r = default_r, y=default_y, sigma = default_sigma, T = default_T):\n",
    "    dt = T/samples.shape[1]\n",
    "    S = np.zeros((samples.shape[0], samples.shape[1]+1))\n",
    "    S[:, 0] = S0\n",
    "    for i in range(1, samples.shape[1]+1):\n",
    "        S[:, i] = S[:, i-1] * np.exp((r - y - 0.5 * sigma**2) * dt + sigma * np.sqrt(dt) * samples[:, i-1])\n",
    "    return S\n",
    "\n",
    "\n",
    "sobol_3 = sobolNormalGen(1000, 1)\n",
    "sobol_4 = sobolNormalGen(10000, 1)\n",
    "sobol_5 = sobolNormalGen(100000, 1)\n",
    "sobol_6 = sobolNormalGen(1000000, 1)\n",
    "\n",
    "sobol_3_stock = stockSample(sobol_3)\n",
    "sobol_4_stock = stockSample(sobol_4)\n",
    "sobol_5_stock = stockSample(sobol_5)\n",
    "sobol_6_stock = stockSample(sobol_6)\n",
    "\n",
    "\n",
    "print(sobol_3_stock[:, 1])\n"
   ]
  },
  {
   "cell_type": "code",
   "execution_count": 17,
   "metadata": {},
   "outputs": [
    {
     "name": "stdout",
     "output_type": "stream",
     "text": [
      "Array Size: 1000\n",
      "Mean: -0.00013859162531406133\n",
      "Variance: 0.9983815431779776\n",
      "Standard Deviation: 0.999190443898448\n",
      "Array Size: 10000\n",
      "Mean: -0.00010659732602558303\n",
      "Variance: 1.0002417017942762\n",
      "Standard Deviation: 1.0001208435955509\n",
      "Array Size: 100000\n",
      "Mean: 9.990618322101917e-06\n",
      "Variance: 0.9999988174567274\n",
      "Standard Deviation: 0.9999994087281889\n",
      "Array Size: 1000000\n",
      "Mean: -6.659640262826371e-08\n",
      "Variance: 0.9999994882489914\n",
      "Standard Deviation: 0.999999744124463\n"
     ]
    }
   ],
   "source": [
    "def momentStats(arr, consoleLog=False, asset=False):\n",
    "    mean = np.mean(arr)\n",
    "    variance = np.var(arr)\n",
    "    sdev = np.std(arr)\n",
    "    if asset:\n",
    "        logMean = np.mean(np.log(arr))\n",
    "        logVariance = np.var(np.log(arr))\n",
    "        logSdev = np.std(np.log(arr))\n",
    "    if print:\n",
    "        print(\"Mean:\", mean)\n",
    "        print(\"Variance:\", variance)\n",
    "        print(\"Standard Deviation:\", sdev)\n",
    "        if asset:\n",
    "            print(\"Log Mean:\", logMean)\n",
    "            print(\"Log Variance:\", logVariance)\n",
    "            print(\"Log Standard Deviation:\", logSdev)\n",
    "        return\n",
    "    if asset:\n",
    "        return mean, variance, sdev, logMean, logVariance, logSdev\n",
    "    return mean, variance, sdev\n",
    "\n",
    "# Print the results\n",
    "print(\"Array Size: 1000\")\n",
    "momentStats(sobol_3, consoleLog=True)\n",
    "\n",
    "print(\"Array Size: 10000\")\n",
    "momentStats(sobol_4, consoleLog=True)\n",
    "\n",
    "print(\"Array Size: 100000\")\n",
    "momentStats(sobol_5, consoleLog=True)\n",
    "\n",
    "print(\"Array Size: 1000000\")\n",
    "momentStats(sobol_6, consoleLog=True)\n"
   ]
  },
  {
   "cell_type": "code",
   "execution_count": 18,
   "metadata": {},
   "outputs": [
    {
     "name": "stdout",
     "output_type": "stream",
     "text": [
      "Mean: 5193.502841180549\n",
      "Variance: 656546.5311328218\n",
      "Standard Deviation: 810.2755896192491\n",
      "Log Mean: 8.543159209714315\n",
      "Log Variance: 0.023986116574850908\n",
      "Log Standard Deviation: 0.15487451880425943\n",
      "Mean: 5193.578150430015\n",
      "Variance: 655794.6794525896\n",
      "Standard Deviation: 809.8115085948024\n",
      "Log Mean: 8.543164168830703\n",
      "Log Variance: 0.024030806885607485\n",
      "Log Standard Deviation: 0.15501873075731037\n",
      "Mean: 5193.66416017122\n",
      "Variance: 655902.9925171373\n",
      "Standard Deviation: 809.8783813123655\n",
      "Log Mean: 8.543182239962077\n",
      "Log Variance: 0.02402497158939787\n",
      "Log Standard Deviation: 0.15499990835286925\n"
     ]
    },
    {
     "name": "stdout",
     "output_type": "stream",
     "text": [
      "Mean: 5193.656186837409\n",
      "Variance: 655903.0332668655\n",
      "Standard Deviation: 809.8784064702958\n",
      "Log Mean: 8.543180681093796\n",
      "Log Variance: 0.024024987705182018\n",
      "Log Standard Deviation: 0.15499996033929175\n"
     ]
    }
   ],
   "source": [
    "momentStats(sobol_3_stock[:,1], consoleLog=True, asset=True)\n",
    "momentStats(sobol_4_stock[:,1], consoleLog=True, asset=True)\n",
    "momentStats(sobol_5_stock[:,1], consoleLog=True, asset=True)\n",
    "momentStats(sobol_6_stock[:,1], consoleLog=True, asset=True)\n"
   ]
  },
  {
   "cell_type": "code",
   "execution_count": 19,
   "metadata": {},
   "outputs": [
    {
     "name": "stdout",
     "output_type": "stream",
     "text": [
      "Array Size: 1000\n",
      "Mean: 400.8128113371008\n",
      "Variance: 304072.7616814479\n",
      "Standard Deviation: 551.4279297255879\n",
      "Array Size: 10000\n",
      "Mean: 400.9140123318999\n",
      "Variance: 302770.89909779804\n",
      "Standard Deviation: 550.2462167955342\n",
      "Array Size: 100000\n",
      "Mean: 400.9441856639237\n",
      "Variance: 302960.0186480929\n",
      "Standard Deviation: 550.4180399006676\n",
      "Array Size: 1000000\n",
      "Mean: 400.9398975314181\n",
      "Variance: 302957.8685999229\n",
      "Standard Deviation: 550.4160867924583\n"
     ]
    }
   ],
   "source": [
    "def callSim(samples, S, K, r, y, sigma, T):\n",
    "    if samples.shape[1] == 1:\n",
    "        samples = stockSample(samples, S, r, y, sigma, T)[:, 1]\n",
    "    else:\n",
    "        raise ValueError(\"Samples must be 1D array\")\n",
    "    return np.exp(-r * default_T) * np.maximum(samples - K, 0)\n",
    "\n",
    "def putSim(samples, S, K, r, y, sigma, T):\n",
    "    if samples.shape[1] == 1:\n",
    "        samples = stockSample(samples, S, r, y, sigma, T)[:, 1]\n",
    "    else:\n",
    "        raise ValueError(\"Samples must be 1D array\")\n",
    "    return np.exp(-r * default_T) * np.maximum(K - samples, 0)\n",
    "\n",
    "#For Problem 2\n",
    "def logPutSim(samples, S, K, r, y, sigma, T):\n",
    "    if samples.shape[1] == 1:\n",
    "        stockPrices = stockSample(samples, S, r, y, sigma, T)[:, 1]\n",
    "    else:\n",
    "        raise ValueError(\"Samples must be 1D array\")\n",
    "    for i in range(len(stockPrices)):\n",
    "        stockPrices[i] = np.minimum(K, stockPrices[i])\n",
    "    return K*np.exp(-r * default_T) * (np.log(K) - np.log(stockPrices))\n",
    "\n",
    "def logCallSim(samples, S, K, r, y, sigma, T): \n",
    "    if samples.shape[1] == 1:\n",
    "        stockPrices = stockSample(samples, S, r, y, sigma, T)[:, 1]\n",
    "    else:\n",
    "        raise ValueError(\"Samples must be 1D array\")\n",
    "    for i in range(len(stockPrices)):\n",
    "        stockPrices[i] = np.maximum(K, stockPrices[i])\n",
    "    return K*np.exp(-r * default_T) * (np.log(stockPrices) - np.log(K))\n",
    "\n",
    "def antitheticCallSim(samples, S, K, r, y, sigma, T):\n",
    "    if samples.shape[1] == 1:\n",
    "        samples_plus = stockSample(samples, S, r, y, sigma, T)[:, 1]\n",
    "        samples_minus = stockSample(-1*samples, S, r, y, sigma, T)[:, 1]\n",
    "    else:\n",
    "        raise ValueError(\"Samples must be 1D array\")\n",
    "    return 0.5*np.exp(-r * default_T) * (np.maximum(samples_plus - K, 0) + np.maximum(samples_minus - K, 0))\n",
    "\n",
    "def antitheticPutSim(samples, S, K, r, y, sigma, T):\n",
    "    if samples.shape[1] == 1:\n",
    "        samples_plus = stockSample(samples, S, r, y, sigma, T)[:, 1]\n",
    "        samples_minus = stockSample(-1*samples, S, r, y, sigma, T)[:, 1]\n",
    "    else:\n",
    "        raise ValueError(\"Samples must be 1D array\")\n",
    "    return 0.5*np.exp(-r * default_T) * (np.maximum(K - samples_plus, 0) + np.maximum(K - samples_minus, 0))\n",
    "\n",
    "#For the sake of completeness\n",
    "def antitheticLogCallSim(samples, S, K, r, y, sigma, T):\n",
    "    if samples.shape[1] == 1:\n",
    "        stockPrices = stockSample(samples, S, r, y, sigma, T)\n",
    "        stockPrices_minus = stockSample(-1*samples, S, r, y, sigma, T)\n",
    "    else:\n",
    "        raise ValueError(\"Samples must be 1D array\")\n",
    "    for i in range(len(stockPrices)):\n",
    "        stockPrices[i] = np.maximum(K, stockPrices[i])\n",
    "        stockPrices_minus[i] = np.maximum(K, stockPrices_minus[i])\n",
    "    return K*np.exp(-r * default_T) * (np.log(stockPrices) - np.log(K) + np.log(stockPrices_minus) - np.log(K))\n",
    "\n",
    "def antitheticLogPutSim(samples, S, K, r, y, sigma, T):\n",
    "    if samples.shape[1] == 1:\n",
    "        stockPrices = stockSample(samples, S, r, y, sigma, T)\n",
    "        stockPrices_minus = stockSample(-1*samples, S, r, y, sigma, T)\n",
    "    else:\n",
    "        raise ValueError(\"Samples must be 1D array\")\n",
    "    for i in range(len(stockPrices)):\n",
    "        stockPrices[i] = np.minimum(K, stockPrices[i])\n",
    "        stockPrices_minus[i] = np.minimum(K, stockPrices_minus[i])\n",
    "    return K*np.exp(-r * default_T) * (np.log(K) - np.log(stockPrices) + np.log(K) - np.log(stockPrices_minus))\n",
    "\n",
    "\n",
    "# For Problems 1 & 2\n",
    "def simSwitch(samples, S, K, r, y, sigma, T, optionType, method):\n",
    "    if optionType == \"call\":\n",
    "        if method == \"standard\":\n",
    "            return callSim(samples, S, K, r, y, sigma, T)\n",
    "        if method == \"antithetic\":\n",
    "            return antitheticCallSim(samples, S, K, r, y, sigma, T)\n",
    "    if optionType == \"put\":\n",
    "        if method == \"standard\":\n",
    "            return putSim(samples, S, K, r, y, sigma, T)\n",
    "        if method == \"antithetic\":\n",
    "            return antitheticPutSim(samples, S, K, r, y, sigma, T)\n",
    "    if optionType == \"logCall\":\n",
    "        if method == \"standard\":\n",
    "            return logCallSim(samples, S, K, r, y, sigma, T)\n",
    "        if method == \"antithetic\":\n",
    "            return antitheticLogCallSim(samples, S, K, r, y, sigma, T)\n",
    "    if optionType == \"logPut\":\n",
    "        if method == \"standard\":\n",
    "            return logPutSim(samples, S, K, r, y, sigma, T)\n",
    "        if method == \"antithetic\":\n",
    "            return antitheticLogPutSim(samples, S, K, r, y, sigma, T)\n",
    "\n",
    "\n",
    "def estimatorStats(samples, S, K, r, y, sigma, T, optionType, method, consoleLog=False):\n",
    "    prices = simSwitch(samples, S, K, r, y, sigma, T, optionType, method)\n",
    "    mean = np.mean(prices)\n",
    "    variance = np.var(prices)\n",
    "    sdev = np.std(prices)\n",
    "    if consoleLog:\n",
    "        print(\"Mean:\", mean)\n",
    "        print(\"Variance:\", variance)\n",
    "        print(\"Standard Deviation:\", sdev)\n",
    "        return\n",
    "    return mean, variance, sdev\n",
    "\n",
    "\n",
    "print(\"Array Size: 1000\")\n",
    "estimatorStats(sobol_3, default_S, default_K, default_r, default_y, default_sigma, default_T, \"call\", \"standard\", consoleLog=True)\n",
    "\n",
    "print(\"Array Size: 10000\")\n",
    "estimatorStats(sobol_4, default_S, default_K, default_r, default_y, default_sigma, default_T, \"call\", \"standard\", consoleLog=True)\n",
    "\n",
    "print(\"Array Size: 100000\")\n",
    "estimatorStats(sobol_5, default_S, default_K, default_r, default_y, default_sigma, default_T, \"call\", \"standard\", consoleLog=True)\n",
    "\n",
    "print(\"Array Size: 1000000\")\n",
    "estimatorStats(sobol_6, default_S, default_K, default_r, default_y, default_sigma, default_T, \"call\", \"standard\", consoleLog=True)\n",
    "\n"
   ]
  },
  {
   "cell_type": "code",
   "execution_count": 20,
   "metadata": {},
   "outputs": [
    {
     "name": "stdout",
     "output_type": "stream",
     "text": [
      "Mean: 216.43058630988898\n",
      "Variance: 35549.71075299908\n",
      "Standard Deviation: 188.5463093062261\n",
      "Mean: 216.5548003213763\n",
      "Variance: 35604.22100234364\n",
      "Standard Deviation: 188.69080794342804\n",
      "Mean: 216.54427315233266\n",
      "Variance: 35591.21388786732\n",
      "Standard Deviation: 188.65633805379377\n"
     ]
    },
    {
     "name": "stdout",
     "output_type": "stream",
     "text": [
      "Mean: 216.54403298969808\n",
      "Variance: 35591.19815784825\n",
      "Standard Deviation: 188.65629636417717\n"
     ]
    }
   ],
   "source": [
    "estimatorStats(sobol_3, default_S, default_K, default_r, default_y, default_sigma, default_T, \"put\", \"antithetic\", consoleLog=True)\n",
    "estimatorStats(sobol_4, default_S, default_K, default_r, default_y, default_sigma, default_T, \"put\", \"antithetic\", consoleLog=True)\n",
    "estimatorStats(sobol_5, default_S, default_K, default_r, default_y, default_sigma, default_T, \"put\", \"antithetic\", consoleLog=True)\n",
    "estimatorStats(sobol_6, default_S, default_K, default_r, default_y, default_sigma, default_T, \"put\", \"antithetic\", consoleLog=True)"
   ]
  },
  {
   "cell_type": "code",
   "execution_count": 21,
   "metadata": {},
   "outputs": [
    {
     "name": "stdout",
     "output_type": "stream",
     "text": [
      "Antithetic Improvement Ratio for Array Size 1000: 3.3075356392191555\n",
      "Antithetic Improvement Ratio for Array Size 10000: 3.3179956749312636\n",
      "Antithetic Improvement Ratio for Array Size 100000: 3.317451882640637\n",
      "Antithetic Improvement Ratio for Array Size 1000000: 3.317492537014294\n"
     ]
    }
   ],
   "source": [
    "sobol_3_antithetic_sim_stats = estimatorStats(sobol_3, default_S, default_K, default_r, default_y, default_sigma, default_T, \"put\", \"antithetic\")\n",
    "sobol_4_antithetic_sim_stats = estimatorStats(sobol_4, default_S, default_K, default_r, default_y, default_sigma, default_T, \"put\", \"antithetic\")\n",
    "sobol_5_antithetic_sim_stats = estimatorStats(sobol_5, default_S, default_K, default_r, default_y, default_sigma, default_T, \"put\", \"antithetic\")\n",
    "sobol_6_antithetic_sim_stats = estimatorStats(sobol_6, default_S, default_K, default_r, default_y, default_sigma, default_T, \"put\", \"antithetic\")\n",
    "\n",
    "sobol_3_bareBones_sim_stats = estimatorStats(sobol_3, default_S, default_K, default_r, default_y, default_sigma, default_T, \"put\", \"standard\")\n",
    "sobol_4_bareBones_sim_stats = estimatorStats(sobol_4, default_S, default_K, default_r, default_y, default_sigma, default_T, \"put\", \"standard\")\n",
    "sobol_5_bareBones_sim_stats = estimatorStats(sobol_5, default_S, default_K, default_r, default_y, default_sigma, default_T, \"put\", \"standard\")\n",
    "sobol_6_bareBones_sim_stats = estimatorStats(sobol_6, default_S, default_K, default_r, default_y, default_sigma, default_T, \"put\", \"standard\")\n",
    "\n",
    "antithetic_improvement_ratio_3 = sobol_3_bareBones_sim_stats[1]/sobol_3_antithetic_sim_stats[1]\n",
    "antithetic_improvement_ratio_4 = sobol_4_bareBones_sim_stats[1]/sobol_4_antithetic_sim_stats[1]\n",
    "antithetic_improvement_ratio_5 = sobol_5_bareBones_sim_stats[1]/sobol_5_antithetic_sim_stats[1]\n",
    "antithetic_improvement_ratio_6 = sobol_6_bareBones_sim_stats[1]/sobol_6_antithetic_sim_stats[1]\n",
    "\n",
    "print(\"Antithetic Improvement Ratio for Array Size 1000:\", antithetic_improvement_ratio_3)\n",
    "print(\"Antithetic Improvement Ratio for Array Size 10000:\", antithetic_improvement_ratio_4)\n",
    "print(\"Antithetic Improvement Ratio for Array Size 100000:\", antithetic_improvement_ratio_5)\n",
    "print(\"Antithetic Improvement Ratio for Array Size 1000000:\", antithetic_improvement_ratio_6)"
   ]
  },
  {
   "cell_type": "code",
   "execution_count": 22,
   "metadata": {},
   "outputs": [
    {
     "name": "stdout",
     "output_type": "stream",
     "text": [
      "Efficiency Ratio for Array Size 1000: 0.6046798033813964\n",
      "Efficiency Ratio for Array Size 10000: 0.6027735403969243\n",
      "Efficiency Ratio for Array Size 100000: 0.602872346232203\n",
      "Efficiency Ratio for Array Size 1000000: 0.6028649583037126\n"
     ]
    }
   ],
   "source": [
    "eff_ratio_3 = 2*sobol_3_antithetic_sim_stats[1]/sobol_3_bareBones_sim_stats[1]\n",
    "eff_ratio_4 = 2*sobol_4_antithetic_sim_stats[1]/sobol_4_bareBones_sim_stats[1]\n",
    "eff_ratio_5 = 2*sobol_5_antithetic_sim_stats[1]/sobol_5_bareBones_sim_stats[1]\n",
    "eff_ratio_6 = 2*sobol_6_antithetic_sim_stats[1]/sobol_6_bareBones_sim_stats[1]\n",
    "\n",
    "print(\"Efficiency Ratio for Array Size 1000:\", eff_ratio_3)\n",
    "print(\"Efficiency Ratio for Array Size 10000:\", eff_ratio_4)\n",
    "print(\"Efficiency Ratio for Array Size 100000:\", eff_ratio_5)\n",
    "print(\"Efficiency Ratio for Array Size 1000000:\", eff_ratio_6)"
   ]
  },
  {
   "cell_type": "code",
   "execution_count": 23,
   "metadata": {},
   "outputs": [
    {
     "name": "stdout",
     "output_type": "stream",
     "text": [
      "Benchmarking Standard Call Simulation\n",
      "0.07459348440170288\n",
      "Benchmarking Antithetic Call Simulation\n",
      "0.17577041149139405\n"
     ]
    }
   ],
   "source": [
    "import time\n",
    "\n",
    "def simBenchmark(optionType, method, warmups, runs):\n",
    "    if optionType == \"call\" and method == \"standard\":\n",
    "        simFunc = callSim\n",
    "    elif optionType == \"call\" and method == \"antithetic\":\n",
    "        simFunc = antitheticCallSim\n",
    "    elif optionType == \"put\" and method == \"standard\":\n",
    "        simFunc = putSim\n",
    "    elif optionType == \"put\" and method == \"antithetic\":\n",
    "        simFunc = antitheticPutSim\n",
    "    else:\n",
    "        raise ValueError(\"Invalid optionType or method\")\n",
    "    for i in range(warmups):\n",
    "        simFunc(sobol_6, default_S, default_K, default_r, default_y, default_sigma, default_T)\n",
    "    start = time.time()\n",
    "    for i in range(runs):\n",
    "        simFunc(sobol_6, default_S, default_K, default_r, default_y, default_sigma, default_T)\n",
    "    end = time.time()\n",
    "    return (end - start)/runs\n",
    "\n",
    "print(\"Benchmarking Standard Call Simulation\")\n",
    "print(simBenchmark(\"call\", \"standard\", 100, 100))\n",
    "print(\"Benchmarking Antithetic Call Simulation\")\n",
    "print(simBenchmark(\"call\", \"antithetic\", 100, 100))\n",
    "\n"
   ]
  },
  {
   "cell_type": "markdown",
   "metadata": {},
   "source": []
  },
  {
   "cell_type": "markdown",
   "metadata": {},
   "source": [
    "# Problem 2:"
   ]
  },
  {
   "cell_type": "markdown",
   "metadata": {},
   "source": [
    "In risk neutral world we have $dS_t = (r - y)S_tdt + \\sigma S_tdW_t \\implies d(ln(S_t)) = (r - y- \\frac{sigma^2}{2}) + \\sigma dW_t$ which, integrating over $[t, T]$ yields $ln(S_T) = ln(S_t) + (r - y- \\frac{\\sigma^2}{2})(T-t) + \\sigma\\sqrt{T-t}z$ where $z \\sim \\mathcal{N}(0,1)$.\n",
    "\n",
    "The value of the log-put $LP(S_t, K) = e^{-r \\cdot T} \\cdot E[[ln(K/S_t)]_+] = e^{-r \\cdot T} \\cdot [ln(K/S_t) - (r - y -\\frac{\\sigma^2}{2})(T-t)] \\cdot \\mathcal{N}(-d2) - \\sigma\\sqrt{T-t}(e^{-\\frac{d2^2}{2}} - 1) = -\\sigma\\sqrt{T-t} \\cdot(d2 \\cdot N(-d2) + e^{-\\frac{d2^2}{2}} - 1)$."
   ]
  },
  {
   "cell_type": "code",
   "execution_count": 24,
   "metadata": {},
   "outputs": [
    {
     "name": "stdout",
     "output_type": "stream",
     "text": [
      "Array Size: 1000, Alpha: 0.001\n",
      "Log Option Power Approximation: 236.56130633958887\n",
      "Array Size: 10000, Alpha: 0.001\n",
      "Log Option Power Approximation: 236.70254634582048\n",
      "Array Size: 100000, Alpha: 0.001\n",
      "Log Option Power Approximation: 236.63629636937443\n",
      "Array Size: 1000000, Alpha: 0.001\n",
      "Log Option Power Approximation: 236.63994210689464\n"
     ]
    }
   ],
   "source": [
    "def logOptionPowerApprox(samples, S, K, r, y, sigma, T, alpha):\n",
    "    stockPrices = stockSample(samples, S, r, y, sigma, T)\n",
    "    sum = 0\n",
    "    for i in range(len(stockPrices)):\n",
    "        stockPrices[i] = np.minimum(K, stockPrices[i])\n",
    "        sum += 1 - (stockPrices[i]/K)**alpha\n",
    "    return (K*np.exp(-r*T)*sum/(len(samples)*alpha))[1]\n",
    "    \n",
    "logOption_approx_3 = logOptionPowerApprox(sobol_3, default_S, default_K, default_r, default_y, default_sigma, default_T, 0.001)\n",
    "logOption_approx_4 = logOptionPowerApprox(sobol_4, default_S, default_K, default_r, default_y, default_sigma, default_T, 0.001)\n",
    "logOption_approx_5 = logOptionPowerApprox(sobol_5, default_S, default_K, default_r, default_y, default_sigma, default_T, 0.001)\n",
    "logOption_approx_6 = logOptionPowerApprox(sobol_6, default_S, default_K, default_r, default_y, default_sigma, default_T, 0.001)\n",
    "\n",
    "print(\"Array Size: 1000, Alpha: 0.001\")\n",
    "print(\"Log Option Power Approximation:\", logOption_approx_3)\n",
    "print(\"Array Size: 10000, Alpha: 0.001\")\n",
    "print(\"Log Option Power Approximation:\", logOption_approx_4)\n",
    "print(\"Array Size: 100000, Alpha: 0.001\")\n",
    "print(\"Log Option Power Approximation:\", logOption_approx_5)\n",
    "print(\"Array Size: 1000000, Alpha: 0.001\")\n",
    "print(\"Log Option Power Approximation:\", logOption_approx_6)\n"
   ]
  },
  {
   "cell_type": "markdown",
   "metadata": {},
   "source": [
    "**Problem 2)c)\n",
    "\n",
    "Using the Breeden-Litzenberger approach to design a static replicating portfolio consisting of Vanilla Puts of K $\\leq$ 5000, we begin by holding one ATM Vanilla Put to cover our first order sensitivity to $S_T$ and subsequently add $-\\partial^2_{SS} LP(S_T)$ puts at subsequently available strike.  "
   ]
  },
  {
   "cell_type": "code",
   "execution_count": 25,
   "metadata": {},
   "outputs": [
    {
     "name": "stdout",
     "output_type": "stream",
     "text": [
      "Array Size: 1000\n",
      "Log Put MC: (236.58288712360343, 149532.58319293684, 386.69443129289675)\n",
      "Array Size: 10000\n",
      "Log Put MC: (236.72427535337428, 150877.4266774413, 388.4294359049547)\n",
      "Array Size: 100000\n",
      "Log Put MC: (236.65800680772122, 150731.93864430173, 388.24211343477634)\n",
      "Array Size: 1000000\n",
      "Log Put MC: (236.66165290505262, 150733.6389457197, 388.2443031722677)\n"
     ]
    }
   ],
   "source": [
    "logPutMC_3 = estimatorStats(sobol_3, default_S, default_K, default_r, default_y, default_sigma, default_T, \"logPut\", \"standard\")\n",
    "logPutMC_4 = estimatorStats(sobol_4, default_S, default_K, default_r, default_y, default_sigma, default_T, \"logPut\", \"standard\")\n",
    "logPutMC_5 = estimatorStats(sobol_5, default_S, default_K, default_r, default_y, default_sigma, default_T, \"logPut\", \"standard\")\n",
    "logPutMC_6 = estimatorStats(sobol_6, default_S, default_K, default_r, default_y, default_sigma, default_T, \"logPut\", \"standard\")\n",
    "\n",
    "print(\"Array Size: 1000\")\n",
    "print(\"Log Put MC:\", logPutMC_3)\n",
    "\n",
    "print(\"Array Size: 10000\")\n",
    "print(\"Log Put MC:\", logPutMC_4)\n",
    "\n",
    "print(\"Array Size: 100000\")\n",
    "print(\"Log Put MC:\", logPutMC_5)\n",
    "\n",
    "print(\"Array Size: 1000000\")\n",
    "print(\"Log Put MC:\", logPutMC_6)"
   ]
  },
  {
   "cell_type": "code",
   "execution_count": 26,
   "metadata": {},
   "outputs": [],
   "source": [
    "sobol_3_put_sim_vals = putSim(sobol_3, default_S, default_K, default_r, default_y, default_sigma, default_T)\n",
    "sobol_4_put_sim_vals = putSim(sobol_4, default_S, default_K, default_r, default_y, default_sigma, default_T)\n",
    "sobol_5_put_sim_vals = putSim(sobol_5, default_S, default_K, default_r, default_y, default_sigma, default_T)\n",
    "sobol_6_put_sim_vals = putSim(sobol_6, default_S, default_K, default_r, default_y, default_sigma, default_T)\n",
    "\n",
    "sobol_3_LP_sim_vals = logPutSim(sobol_3, default_S, default_K, default_r, default_y, default_sigma, default_T)\n",
    "sobol_4_LP_sim_vals = logPutSim(sobol_4, default_S, default_K, default_r, default_y, default_sigma, default_T)\n",
    "sobol_5_LP_sim_vals = logPutSim(sobol_5, default_S, default_K, default_r, default_y, default_sigma, default_T)\n",
    "sobol_6_LP_sim_vals = logPutSim(sobol_6, default_S, default_K, default_r, default_y, default_sigma, default_T)\n",
    "\n",
    "cor_3 = np.corrcoef(sobol_3_put_sim_vals, sobol_3_LP_sim_vals)[0, 1]\n",
    "cor_4 = np.corrcoef(sobol_4_put_sim_vals, sobol_4_LP_sim_vals)[0, 1]\n",
    "cor_5 = np.corrcoef(sobol_5_put_sim_vals, sobol_5_LP_sim_vals)[0, 1]\n",
    "cor_6 = np.corrcoef(sobol_6_put_sim_vals, sobol_6_LP_sim_vals)[0, 1]\n",
    "\n",
    "cov_3 = np.cov(sobol_3_put_sim_vals, sobol_3_LP_sim_vals)\n",
    "cov_4 = np.cov(sobol_4_put_sim_vals, sobol_4_LP_sim_vals)\n",
    "cov_5 = np.cov(sobol_5_put_sim_vals, sobol_5_LP_sim_vals)\n",
    "cov_6 = np.cov(sobol_6_put_sim_vals, sobol_6_LP_sim_vals)\n",
    "\n",
    "\n",
    "\n"
   ]
  },
  {
   "cell_type": "code",
   "execution_count": 27,
   "metadata": {},
   "outputs": [
    {
     "name": "stdout",
     "output_type": "stream",
     "text": [
      "Array Size: 1000\n",
      "Correlation Coefficient: 0.9987191809179978\n",
      "Covariance Matrix: [[117640.75565731 132494.79339062]\n",
      " [132494.79339062 149607.38688638]]\n",
      "Array Size: 10000\n",
      "Correlation Coefficient: 0.9985331013841918\n",
      "Covariance Matrix: [[118140.55832299 133316.82664629]\n",
      " [133316.82664629 150884.97092599]]\n",
      "Array Size: 100000\n",
      "Correlation Coefficient: 0.9985596420330034\n",
      "Covariance Matrix: [[118072.72988142 133214.81927144]\n",
      " [133214.81927144 150732.69230776]]\n",
      "Array Size: 1000000\n",
      "Correlation Coefficient: 0.9985599971355671\n",
      "Covariance Matrix: [[118073.59330886 133215.80533789]\n",
      " [133215.80533789 150733.71431258]]\n"
     ]
    }
   ],
   "source": [
    "print(\"Array Size: 1000\")\n",
    "print(\"Correlation Coefficient:\", cor_3)\n",
    "print(\"Covariance Matrix:\", cov_3)\n",
    "\n",
    "print(\"Array Size: 10000\")\n",
    "print(\"Correlation Coefficient:\", cor_4)\n",
    "print(\"Covariance Matrix:\", cov_4)\n",
    "\n",
    "print(\"Array Size: 100000\")\n",
    "print(\"Correlation Coefficient:\", cor_5)\n",
    "print(\"Covariance Matrix:\", cov_5)\n",
    "\n",
    "print(\"Array Size: 1000000\")\n",
    "print(\"Correlation Coefficient:\", cor_6)\n",
    "print(\"Covariance Matrix:\", cov_6)"
   ]
  },
  {
   "cell_type": "code",
   "execution_count": 28,
   "metadata": {},
   "outputs": [
    {
     "name": "stdout",
     "output_type": "stream",
     "text": [
      "Array Size: 1000\n",
      "Mean: 40.6081610293293\n",
      "Variance: 7290.329315669463\n",
      "Standard Deviation: 85.38342529829465\n"
     ]
    }
   ],
   "source": [
    "def vanillaCallDiffEstimator(samples, S, K, r, y, sigma, T):\n",
    "    estimators = callSim(samples, S, K, r, y, sigma, T) - logCallSim(samples, S, K, r, y, sigma, T)\n",
    "    mean = np.mean(estimators)\n",
    "    variance = np.var(estimators)\n",
    "    sdev = np.std(estimators)\n",
    "    return mean, variance, sdev\n",
    "\n",
    "def printDiffEstimatorStats(samples, S, K, r, y, sigma, T):\n",
    "    mean, variance, sdev = vanillaCallDiffEstimator(samples, S, K, r, y, sigma, T)\n",
    "    print(\"Mean:\", mean)\n",
    "    print(\"Variance:\", variance)\n",
    "    print(\"Standard Deviation:\", sdev)\n",
    "\n",
    "print(\"Array Size: 1000\")\n",
    "printDiffEstimatorStats(sobol_3, default_S, default_K, default_r, default_y, default_sigma, default_T)\n"
   ]
  },
  {
   "cell_type": "code",
   "execution_count": 29,
   "metadata": {},
   "outputs": [],
   "source": [
    "def fd_delta_plus(samples, S, K , r, y, sigma, T, optionType = \"logPut\", method = \"standard\", epsilon = 0.01):\n",
    "    simVals_plus = simSwitch(samples, S + epsilon, K, r, y, sigma, T, optionType, method)\n",
    "    simVals = simSwitch(samples, S, K, r, y, sigma, T, optionType, method)\n",
    "    return (np.mean(simVals_plus - simVals))/(epsilon)\n",
    "\n",
    "def fd_delta_minus(samples, S, K , r, y, sigma, T, optionType = \"logPut\", method = \"standard\", epsilon = 0.01):\n",
    "    simVals = simSwitch(samples, S, K, r, y, sigma, T, optionType, method)\n",
    "    simVals_minus = simSwitch(samples, S - epsilon, K, r, y, sigma, T, optionType, method)\n",
    "    return (np.mean(simVals - simVals_minus))/(epsilon)\n",
    "\n",
    "def fd_delta_cd(samples, S, K , r, y, sigma, T, optionType = \"logPut\", method = \"standard\", epsilon = 0.01):\n",
    "    simVals_plus = simSwitch(samples, S + epsilon, K, r, y, sigma, T, optionType, method)\n",
    "    simVals_minus = simSwitch(samples, S - epsilon, K, r, y, sigma, T, optionType, method)\n",
    "    return (np.mean(simVals_plus - simVals_minus))/(2*epsilon)\n",
    "\n",
    "def fd_gamma(samples, S, K, r, y, sigma, T, optionType = \"logPut\", method = \"standard\", epsilon = 0.01):\n",
    "    simFunc = simSwitch(optionType, method)\n",
    "    return (np.mean(simFunc(samples, S + epsilon, K, r, y, sigma, T) - 2*simFunc(samples, S, K, r, y, sigma, T) + simFunc(samples, S - epsilon, K, r, y, sigma, T)))/(epsilon**2)"
   ]
  },
  {
   "cell_type": "code",
   "execution_count": 30,
   "metadata": {},
   "outputs": [
    {
     "data": {
      "image/png": "[encoded data removed]",
      "text/plain": [
       "<Figure size 640x480 with 1 Axes>"
      ]
     },
     "metadata": {},
     "output_type": "display_data"
    },
    {
     "data": {
      "image/png": "[encoded data removed]",
      "text/plain": [
       "<Figure size 640x480 with 1 Axes>"
      ]
     },
     "metadata": {},
     "output_type": "display_data"
    },
    {
     "data": {
      "image/png": "[encoded data removed]",
      "text/plain": [
       "<Figure size 640x480 with 1 Axes>"
      ]
     },
     "metadata": {},
     "output_type": "display_data"
    }
   ],
   "source": [
    "def plotDelta(samples, S, K, r, y, sigma, T, optionType = \"logPut\", method = \"call\", intervals = 1000, epsilon = 0.01):\n",
    "    range_plus = K*np.exp(2*sigma*np.sqrt(T))\n",
    "    range_minus = K*np.exp(-2*sigma*np.sqrt(T))\n",
    "    deltas = []\n",
    "    for i in np.linspace(range_minus, range_plus, intervals):\n",
    "        S = i\n",
    "        deltas.append(fd_delta_plus(samples, S, K, r, y, sigma, T, optionType, method, epsilon))\n",
    "    sns.set_style(\"whitegrid\")\n",
    "    sns.lineplot(x=np.linspace(range_minus, range_plus, intervals), y=deltas)\n",
    "    plt.title(f\"FD Delta of {method} sampled K = {K} {optionType} Option vs. S w/ {epsilon} Bump size\")\n",
    "    plt.show()\n",
    "\n",
    "for epsilon in [0.1, 0.01, 0.001]:\n",
    "    plotDelta(sobol_3, default_S, default_K, default_r, default_y, default_sigma, default_T, \"logPut\", \"standard\", 1000, epsilon)"
   ]
  },
  {
   "cell_type": "code",
   "execution_count": 31,
   "metadata": {},
   "outputs": [
    {
     "ename": "TypeError",
     "evalue": "simSwitch() missing 7 required positional arguments: 'K', 'r', 'y', 'sigma', 'T', 'optionType', and 'method'",
     "output_type": "error",
     "traceback": [
      "\u001b[1;31m---------------------------------------------------------------------------\u001b[0m",
      "\u001b[1;31mTypeError\u001b[0m                                 Traceback (most recent call last)",
      "Cell \u001b[1;32mIn[31], line 24\u001b[0m\n\u001b[0;32m     21\u001b[0m     plt\u001b[38;5;241m.\u001b[39mshow()\n\u001b[0;32m     23\u001b[0m \u001b[38;5;28;01mfor\u001b[39;00m epsilon \u001b[38;5;129;01min\u001b[39;00m [\u001b[38;5;241m0.1\u001b[39m, \u001b[38;5;241m0.01\u001b[39m, \u001b[38;5;241m0.001\u001b[39m]:\n\u001b[1;32m---> 24\u001b[0m     plotGamma(sobol_3, default_S, default_K, default_r, default_y, default_sigma, default_T, \u001b[38;5;124m\"\u001b[39m\u001b[38;5;124mlogPut\u001b[39m\u001b[38;5;124m\"\u001b[39m, \u001b[38;5;124m\"\u001b[39m\u001b[38;5;124mstandard\u001b[39m\u001b[38;5;124m\"\u001b[39m, \u001b[38;5;241m1000\u001b[39m, epsilon)\n",
      "Cell \u001b[1;32mIn[31], line 16\u001b[0m, in \u001b[0;36mplotGamma\u001b[1;34m(samples, S, K, r, y, sigma, T, optionType, method, intervals, epsilon)\u001b[0m\n\u001b[0;32m     14\u001b[0m \u001b[38;5;28;01mfor\u001b[39;00m i \u001b[38;5;129;01min\u001b[39;00m np\u001b[38;5;241m.\u001b[39mlinspace(range_minus, range_plus, intervals):\n\u001b[0;32m     15\u001b[0m     S \u001b[38;5;241m=\u001b[39m i\n\u001b[1;32m---> 16\u001b[0m     gammas\u001b[38;5;241m.\u001b[39mappend(fd_gamma(samples, S, K, r, y, sigma, T, optionType, method, epsilon))\n\u001b[0;32m     17\u001b[0m sns\u001b[38;5;241m.\u001b[39mset_style(\u001b[38;5;124m\"\u001b[39m\u001b[38;5;124mwhitegrid\u001b[39m\u001b[38;5;124m\"\u001b[39m)\n\u001b[0;32m     18\u001b[0m sns\u001b[38;5;241m.\u001b[39mscatterplot(x\u001b[38;5;241m=\u001b[39mnp\u001b[38;5;241m.\u001b[39mlinspace(range_minus, range_plus, intervals), y\u001b[38;5;241m=\u001b[39mgammas)\n",
      "Cell \u001b[1;32mIn[29], line 17\u001b[0m, in \u001b[0;36mfd_gamma\u001b[1;34m(samples, S, K, r, y, sigma, T, optionType, method, epsilon)\u001b[0m\n\u001b[0;32m     16\u001b[0m \u001b[38;5;28;01mdef\u001b[39;00m \u001b[38;5;21mfd_gamma\u001b[39m(samples, S, K, r, y, sigma, T, optionType \u001b[38;5;241m=\u001b[39m \u001b[38;5;124m\"\u001b[39m\u001b[38;5;124mlogPut\u001b[39m\u001b[38;5;124m\"\u001b[39m, method \u001b[38;5;241m=\u001b[39m \u001b[38;5;124m\"\u001b[39m\u001b[38;5;124mstandard\u001b[39m\u001b[38;5;124m\"\u001b[39m, epsilon \u001b[38;5;241m=\u001b[39m \u001b[38;5;241m0.01\u001b[39m):\n\u001b[1;32m---> 17\u001b[0m     simFunc \u001b[38;5;241m=\u001b[39m simSwitch(optionType, method)\n\u001b[0;32m     18\u001b[0m     \u001b[38;5;28;01mreturn\u001b[39;00m (np\u001b[38;5;241m.\u001b[39mmean(simFunc(samples, S \u001b[38;5;241m+\u001b[39m epsilon, K, r, y, sigma, T) \u001b[38;5;241m-\u001b[39m \u001b[38;5;241m2\u001b[39m\u001b[38;5;241m*\u001b[39msimFunc(samples, S, K, r, y, sigma, T) \u001b[38;5;241m+\u001b[39m simFunc(samples, S \u001b[38;5;241m-\u001b[39m epsilon, K, r, y, sigma, T)))\u001b[38;5;241m/\u001b[39m(epsilon\u001b[38;5;241m*\u001b[39m\u001b[38;5;241m*\u001b[39m\u001b[38;5;241m2\u001b[39m)\n",
      "\u001b[1;31mTypeError\u001b[0m: simSwitch() missing 7 required positional arguments: 'K', 'r', 'y', 'sigma', 'T', 'optionType', and 'method'"
     ]
    }
   ],
   "source": [
    "def analyticalGammas(S, K, r, y, sigma, T, optionType = \"logPut\"):\n",
    "    d1 = (np.log(S/K) + (r - y + 0.5*sigma**2)*T)/(sigma*np.sqrt(T))\n",
    "    if optionType == \"logPut\":\n",
    "        return np.exp(-y*T)*stats.norm.pdf(d1)/(S*sigma*np.sqrt(T))\n",
    "    if optionType == \"logCall\":\n",
    "        return np.exp(-y*T)*stats.norm.pdf(d1)/(S*sigma*np.sqrt(T))\n",
    "    \n",
    "    \n",
    "\n",
    "def plotGamma(samples, S, K, r, y, sigma, T, optionType = \"logPut\", method = \"call\", intervals = 1000, epsilon = 0.01):\n",
    "    range_plus = K*np.exp(2*sigma*np.sqrt(T))\n",
    "    range_minus = K*np.exp(-2*sigma*np.sqrt(T))\n",
    "    gammas = []\n",
    "    for i in np.linspace(range_minus, range_plus, intervals):\n",
    "        S = i\n",
    "        gammas.append(fd_gamma(samples, S, K, r, y, sigma, T, optionType, method, epsilon))\n",
    "    sns.set_style(\"whitegrid\")\n",
    "    sns.scatterplot(x=np.linspace(range_minus, range_plus, intervals), y=gammas)\n",
    "    sns\n",
    "    plt.title(f\"FD Gamma of {method} sampled {optionType} Option vs. S w/ {epsilon} Bump size\")\n",
    "    plt.show()\n",
    "\n",
    "for epsilon in [0.1, 0.01, 0.001]:\n",
    "    plotGamma(sobol_3, default_S, default_K, default_r, default_y, default_sigma, default_T, \"logPut\", \"standard\", 1000, epsilon)"
   ]
  },
  {
   "cell_type": "markdown",
   "metadata": {},
   "source": [
    "# Problem 3:"
   ]
  },
  {
   "cell_type": "code",
   "execution_count": null,
   "metadata": {},
   "outputs": [
    {
     "name": "stderr",
     "output_type": "stream",
     "text": [
      "c:\\Users\\simon\\anaconda3\\Lib\\site-packages\\scipy\\stats\\_qmc.py:804: UserWarning: The balance properties of Sobol' points require n to be a power of 2.\n",
      "  sample = self._random(n, workers=workers)\n"
     ]
    }
   ],
   "source": [
    "sobol_4_6 = sobolNormalGen(100000, 4)\n",
    "sobol_12_6 = sobolNormalGen(100000, 12)\n",
    "sobol_52_6 = sobolNormalGen(100000, 52)\n",
    "sobol_252_6 = sobolNormalGen(100000, 252)\n",
    "\n",
    "sobol_4_6_asset = stockSample(sobol_4_6, default_S, default_r, default_y, default_sigma, default_T)\n",
    "sobol_12_6_asset = stockSample(sobol_12_6, default_S, default_r, default_y, default_sigma, default_T)\n",
    "sobol_52_6_asset = stockSample(sobol_52_6, default_S, default_r, default_y, default_sigma, default_T)\n",
    "sobol_252_6_asset = stockSample(sobol_252_6, default_S, default_r, default_y, default_sigma, default_T)\n"
   ]
  },
  {
   "cell_type": "code",
   "execution_count": null,
   "metadata": {},
   "outputs": [
    {
     "name": "stdout",
     "output_type": "stream",
     "text": [
      "put\n",
      "[[-0.36939016 -0.57818521 -0.96767738 -0.98906022 -0.98906028]\n",
      " [-0.36939016 -0.27048216 -0.82472498 -0.98822651 -0.98906028]\n",
      " [-0.36939016 -0.84199847 -0.98902569 -0.98906028 -0.98906028]\n",
      " ...\n",
      " [-0.36939016 -0.80793062 -0.98766316 -0.9890601  -0.98906028]\n",
      " [-0.36939016 -0.69771535 -0.94866572 -0.98904443 -0.98906028]\n",
      " [-0.36939016 -0.98034888 -0.98637508 -0.98906028 -0.98906028]]\n",
      "[[0.41269899 0.60718583 0.93683335 0.9521811  0.95218113]\n",
      " [0.41269899 0.30605954 0.82082066 0.95160933 0.95218113]\n",
      " [0.41269899 0.83900611 0.95216116 0.95218113 0.95218113]\n",
      " ...\n",
      " [0.41269899 0.81061398 0.95127893 0.95218103 0.95218113]\n",
      " [0.41269899 0.71541595 0.92231376 0.95217124 0.95218113]\n",
      " [0.41269899 0.94646957 0.95040695 0.95218113 0.95218113]]\n"
     ]
    }
   ],
   "source": [
    "\n",
    "\n",
    "def deltas(stockSamples,  optionType, S=default_S, K=default_K, r=default_r, y=default_y, sigma=default_sigma, T=default_T):\n",
    "    t = np.arange(0, T, T / stockSamples.shape[1]).reshape(-1, 1).flatten()  # Generate time points\n",
    "    d1 = (np.log(stockSamples / K) + (r - y + 0.5 * sigma ** 2) * T - t) / (sigma * np.sqrt(T - t))\n",
    "    d2 = d1 - sigma * np.sqrt(T - t)\n",
    "    if optionType == \"call\":\n",
    "        print(\"call\")\n",
    "        delta_S = np.exp(-y * t) * stats.norm.cdf(d1)\n",
    "        delta_K = -np.exp(-r * t) * stats.norm.cdf(d2)\n",
    "    elif optionType == \"put\":\n",
    "        print(\"put\")\n",
    "        delta_S = -np.exp(-y * T) * stats.norm.cdf(-1*d1)\n",
    "        delta_K = np.exp(-r * T) * stats.norm.cdf(-1*d2)\n",
    "    else:\n",
    "        raise ValueError(\"Invalid optionType. Should be 'call' or 'put'.\")\n",
    "    return delta_S, delta_K\n",
    "\n",
    "deltas_put = deltas(sobol_4_6_asset, optionType=\"put\")\n",
    "print(deltas_put[0])\n",
    "print(deltas_put[1])\n",
    "\n",
    "\n",
    "\n"
   ]
  },
  {
   "cell_type": "code",
   "execution_count": null,
   "metadata": {},
   "outputs": [
    {
     "name": "stdout",
     "output_type": "stream",
     "text": [
      "put\n",
      "-0.3693901635163745 0.4126989875340386\n",
      "216.54412008832037\n"
     ]
    },
    {
     "ename": "IndexError",
     "evalue": "invalid index to scalar variable.",
     "output_type": "error",
     "traceback": [
      "\u001b[1;31m---------------------------------------------------------------------------\u001b[0m",
      "\u001b[1;31mIndexError\u001b[0m                                Traceback (most recent call last)",
      "Cell \u001b[1;32mIn[197], line 13\u001b[0m\n\u001b[0;32m     10\u001b[0m     delta_hedged_return \u001b[38;5;241m=\u001b[39m cash_holding[:,\u001b[38;5;241m-\u001b[39m\u001b[38;5;241m1\u001b[39m] \u001b[38;5;241m-\u001b[39m K\u001b[38;5;241m*\u001b[39mnp\u001b[38;5;241m.\u001b[39mexp(\u001b[38;5;241m-\u001b[39mr\u001b[38;5;241m*\u001b[39mT)\u001b[38;5;241m*\u001b[39mnp\u001b[38;5;241m.\u001b[39mmaximum(K \u001b[38;5;241m-\u001b[39m stockSamples[:, \u001b[38;5;241m-\u001b[39m\u001b[38;5;241m1\u001b[39m], \u001b[38;5;241m0\u001b[39m)\n\u001b[0;32m     11\u001b[0m     \u001b[38;5;28;01mreturn\u001b[39;00m np\u001b[38;5;241m.\u001b[39mmean(delta_hedged_return)\n\u001b[1;32m---> 13\u001b[0m hedge_returns_4_6 \u001b[38;5;241m=\u001b[39m hedgeSimulator(sobol_4_6_asset, default_S, default_K, default_r, default_y, default_sigma, default_T)\n\u001b[0;32m     14\u001b[0m \u001b[38;5;28mprint\u001b[39m(\u001b[38;5;124m\"\u001b[39m\u001b[38;5;124mHedge Returns 4-6:\u001b[39m\u001b[38;5;124m\"\u001b[39m, hedge_returns_4_6)\n",
      "Cell \u001b[1;32mIn[197], line 9\u001b[0m, in \u001b[0;36mhedgeSimulator\u001b[1;34m(stockSamples, S, K, r, y, sigma, T, optionType, method, intervals)\u001b[0m\n\u001b[0;32m      7\u001b[0m appreciation \u001b[38;5;241m=\u001b[39m np\u001b[38;5;241m.\u001b[39mexp(r\u001b[38;5;241m*\u001b[39mT\u001b[38;5;241m/\u001b[39mstockSamples\u001b[38;5;241m.\u001b[39mshape[\u001b[38;5;241m1\u001b[39m]) \u001b[38;5;241m-\u001b[39m \u001b[38;5;241m1\u001b[39m\n\u001b[0;32m      8\u001b[0m \u001b[38;5;66;03m# long dollar position at time j-1 to j\u001b[39;00m\n\u001b[1;32m----> 9\u001b[0m cash_holding[:, \u001b[38;5;241m1\u001b[39m:] \u001b[38;5;241m=\u001b[39m \u001b[38;5;241m-\u001b[39mdelta_K[:, :\u001b[38;5;241m-\u001b[39m\u001b[38;5;241m1\u001b[39m] \u001b[38;5;241m*\u001b[39m K\u001b[38;5;241m*\u001b[39mappreciation \u001b[38;5;241m+\u001b[39m delta_S[:, :\u001b[38;5;241m-\u001b[39m\u001b[38;5;241m1\u001b[39m] \u001b[38;5;241m*\u001b[39m stockSamples[:, :\u001b[38;5;241m-\u001b[39m\u001b[38;5;241m1\u001b[39m] \u001b[38;5;241m+\u001b[39m cash_holding[:, :\u001b[38;5;241m-\u001b[39m\u001b[38;5;241m1\u001b[39m]\n\u001b[0;32m     10\u001b[0m delta_hedged_return \u001b[38;5;241m=\u001b[39m cash_holding[:,\u001b[38;5;241m-\u001b[39m\u001b[38;5;241m1\u001b[39m] \u001b[38;5;241m-\u001b[39m K\u001b[38;5;241m*\u001b[39mnp\u001b[38;5;241m.\u001b[39mexp(\u001b[38;5;241m-\u001b[39mr\u001b[38;5;241m*\u001b[39mT)\u001b[38;5;241m*\u001b[39mnp\u001b[38;5;241m.\u001b[39mmaximum(K \u001b[38;5;241m-\u001b[39m stockSamples[:, \u001b[38;5;241m-\u001b[39m\u001b[38;5;241m1\u001b[39m], \u001b[38;5;241m0\u001b[39m)\n\u001b[0;32m     11\u001b[0m \u001b[38;5;28;01mreturn\u001b[39;00m np\u001b[38;5;241m.\u001b[39mmean(delta_hedged_return)\n",
      "\u001b[1;31mIndexError\u001b[0m: invalid index to scalar variable."
     ]
    }
   ],
   "source": [
    "\n",
    "def hedgeSimulator(stockSamples, S = default_S, K = default_K, r = default_r, y = default_y, sigma = default_sigma, T = default_T, optionType = \"put\", method = \"standard\", intervals = 252):\n",
    "    delta_hedged_return = np.zeros(stockSamples.shape[0])\n",
    "    delta_S, delta_K = deltas(stockSamples, optionType, S, K, r, y, sigma, T)\n",
    "    print(delta_S[0,0], delta_K[0,0])\n",
    "    cash_holding = K*delta_K[0,0] + S*delta_S[0,0]\n",
    "    print(cash_holding)\n",
    "    appreciation = np.exp(r*T/stockSamples.shape[1]) - 1\n",
    "    # long dollar position at time j-1 to j\n",
    "    cash_holding[:, 1:] = -delta_K[:, :-1] * K*appreciation + delta_S[:, :-1] * stockSamples[:, :-1] + cash_holding[:, :-1]\n",
    "    delta_hedged_return = cash_holding[:,-1] - K*np.exp(-r*T)*np.maximum(K - stockSamples[:, -1], 0)\n",
    "    return np.mean(delta_hedged_return)\n",
    "\n",
    "hedge_returns_4_6 = hedgeSimulator(sobol_4_6_asset, default_S, default_K, default_r, default_y, default_sigma, default_T)\n",
    "print(\"Hedge Returns 4-6:\", hedge_returns_4_6)\n",
    "\n",
    "# hedge_returns_12_6 = hedgeSimulator(sobol_12_6_asset, default_S, default_K, default_r, default_y, default_sigma, default_T)\n",
    "# print(\"Hedge Returns 12-6:\", hedge_returns_12_6)\n",
    "\n",
    "# hedge_returns_52_6 = hedgeSimulator(sobol_52_6_asset, default_S, default_K, default_r, default_y, default_sigma, default_T)\n",
    "# print(\"Hedge Returns 52-6:\", hedge_returns_52_6)\n",
    "\n",
    "# hedge_returns_252_6 = hedgeSimulator(sobol_252_6_asset, default_S, default_K, default_r, default_y, default_sigma, default_T)\n",
    "# print(\"Hedge Returns 252-6:\", hedge_returns_252_6)"
   ]
  },
  {
   "cell_type": "code",
   "execution_count": null,
   "metadata": {},
   "outputs": [
    {
     "name": "stdout",
     "output_type": "stream",
     "text": [
      "-126.94721587807497\n",
      "-388.98169127741085\n",
      "-405.4339384546475\n",
      "-410.2983363910761\n"
     ]
    }
   ],
   "source": [
    "print(hedge_returns_4_6[0])\n",
    "print(hedge_returns_12_6[0])\n",
    "print(hedge_returns_52_6[0])\n",
    "print(hedge_returns_252_6[0])"
   ]
  },
  {
   "cell_type": "code",
   "execution_count": null,
   "metadata": {},
   "outputs": [
    {
     "data": {
      "image/png": "[encoded data removed]",
      "text/plain": [
       "<Figure size 640x480 with 1 Axes>"
      ]
     },
     "metadata": {},
     "output_type": "display_data"
    }
   ],
   "source": [
    "x= [4, 12, 52, 252]\n",
    "y = [hedge_returns_4_6[0], hedge_returns_12_6[0], hedge_returns_52_6[0], hedge_returns_252_6[0]]\n",
    "sns.set_style(\"whitegrid\")\n",
    "sns.scatterplot(x=x, y=y)\n",
    "plt.title(\"Hedged Portfolio Mean Error vs. Number of Time Steps\")\n",
    "plt.show()\n",
    "\n",
    "y = [hedge_returns_4_6[2], hedge_returns_12_6[2], hedge_returns_52_6[2], hedge_returns_252_6[2]]\n"
   ]
  }
 ],
 "metadata": {
  "kernelspec": {
   "display_name": "base",
   "language": "python",
   "name": "python3"
  },
  "language_info": {
   "codemirror_mode": {
    "name": "ipython",
    "version": 3
   },
   "file_extension": ".py",
   "mimetype": "text/x-python",
   "name": "python",
   "nbconvert_exporter": "python",
   "pygments_lexer": "ipython3",
   "version": "3.11.7"
  }
 },
 "nbformat": 4,
 "nbformat_minor": 2
}
