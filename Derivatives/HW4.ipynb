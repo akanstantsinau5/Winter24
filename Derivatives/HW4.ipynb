{
 "cells": [
  {
   "cell_type": "code",
   "execution_count": 1,
   "metadata": {},
   "outputs": [],
   "source": [
    "import numpy as np  \n",
    "import matplotlib.pyplot as plt\n",
    "import pandas as pd\n",
    "import statsmodels.api as sm\n",
    "import math\n",
    "from scipy.stats import norm\n",
    "from scipy.optimize import minimize"
   ]
  },
  {
   "cell_type": "markdown",
   "metadata": {},
   "source": [
    "### Problem 1\n",
    "Consider BSM Put: $P = Ke^{-rT}N(-Z_{-}) - Se^{-yT}N(-Z_{+})\\\\ $\n",
    "(a)\n",
    "$$\\Delta_S = \\frac{\\partial P}{\\partial S} = -e^{-yt}N(-Z_{+})\\\\\n",
    "\\Delta_K = \\frac{\\partial P}{\\partial K} = e^{-rT}N(-Z_{-})\\\\\n",
    "\\Gamma_{SS} = \\frac{\\partial^2 P}{\\partial S^2} = -e^{-yt} \\partial_S N(-Z_{+}) = \\frac{-e^{-yT}}{\\sigma\\sqrt{T}S}n(-Z_{+}) \\\\\n",
    "\\Gamma_{SK} = \\frac{\\partial^2 P}{\\partial S \\partial K} = -e^{-yt} \\partial_K N(-Z_{+}) = \\frac{e^{-yT}}{\\sigma\\sqrt{T}K}n(-Z_{+}) \\\\\n",
    "\\Gamma_{KS} = \\frac{\\partial^2 P}{\\partial K \\partial S} = e^{-rt} \\partial_S N(-Z_{-}) = \\frac{e^{-rT}}{\\sigma\\sqrt{T}S}n(-Z_{-}) \\\\\n",
    "\\Gamma_{KK} = \\frac{\\partial^2 P}{\\partial K^2} = e^{-rt} \\partial_K N(-Z_{-}) = \\frac{-e^{-rT}}{\\sigma\\sqrt{T}K}n(-Z_{-})  \\\\$$\n",
    "(i) All asset prices are in numeraire units (dollars for instance), therefore deltas would be $\\frac{measuringstick}{measuring stick}$ and gammas will be $\\frac{measuring stick}{measuring stick^2}$"
   ]
  },
  {
   "cell_type": "code",
   "execution_count": 4,
   "metadata": {},
   "outputs": [
    {
     "ename": "AttributeError",
     "evalue": "'DataFrame' object has no attribute 'append'",
     "output_type": "error",
     "traceback": [
      "\u001b[1;31m---------------------------------------------------------------------------\u001b[0m",
      "\u001b[1;31mAttributeError\u001b[0m                            Traceback (most recent call last)",
      "\u001b[1;32m~\\AppData\\Local\\Temp\\ipykernel_23840\\1036413755.py\u001b[0m in \u001b[0;36m?\u001b[1;34m()\u001b[0m\n\u001b[0;32m     50\u001b[0m         \u001b[1;34m'Gamma SK'\u001b[0m\u001b[1;33m:\u001b[0m \u001b[0mgamma_SK\u001b[0m\u001b[1;33m(\u001b[0m\u001b[0mz_plus\u001b[0m\u001b[1;33m,\u001b[0m \u001b[0mstrike\u001b[0m\u001b[1;33m,\u001b[0m \u001b[0my\u001b[0m\u001b[1;33m,\u001b[0m \u001b[0mT\u001b[0m\u001b[1;33m,\u001b[0m \u001b[0msigma\u001b[0m\u001b[1;33m)\u001b[0m\u001b[1;33m,\u001b[0m\u001b[1;33m\u001b[0m\u001b[1;33m\u001b[0m\u001b[0m\n\u001b[0;32m     51\u001b[0m         \u001b[1;34m'Gamma KS'\u001b[0m\u001b[1;33m:\u001b[0m \u001b[0mgamma_KS\u001b[0m\u001b[1;33m(\u001b[0m\u001b[0mz_minus\u001b[0m\u001b[1;33m,\u001b[0m \u001b[0mstrike\u001b[0m\u001b[1;33m,\u001b[0m \u001b[0mr\u001b[0m\u001b[1;33m,\u001b[0m \u001b[0mT\u001b[0m\u001b[1;33m,\u001b[0m \u001b[0msigma\u001b[0m\u001b[1;33m)\u001b[0m\u001b[1;33m,\u001b[0m\u001b[1;33m\u001b[0m\u001b[1;33m\u001b[0m\u001b[0m\n\u001b[0;32m     52\u001b[0m         \u001b[1;34m'Gamma KK'\u001b[0m\u001b[1;33m:\u001b[0m \u001b[0mgamma_KK\u001b[0m\u001b[1;33m(\u001b[0m\u001b[0mz_minus\u001b[0m\u001b[1;33m,\u001b[0m \u001b[0mstrike\u001b[0m\u001b[1;33m,\u001b[0m \u001b[0mr\u001b[0m\u001b[1;33m,\u001b[0m \u001b[0mT\u001b[0m\u001b[1;33m,\u001b[0m \u001b[0msigma\u001b[0m\u001b[1;33m)\u001b[0m\u001b[1;33m\u001b[0m\u001b[1;33m\u001b[0m\u001b[0m\n\u001b[0;32m     53\u001b[0m     }\n\u001b[1;32m---> 54\u001b[1;33m     \u001b[0mresults\u001b[0m \u001b[1;33m=\u001b[0m \u001b[0mresults\u001b[0m\u001b[1;33m.\u001b[0m\u001b[0mappend\u001b[0m\u001b[1;33m(\u001b[0m\u001b[0mresult\u001b[0m\u001b[1;33m,\u001b[0m \u001b[0mignore_index\u001b[0m\u001b[1;33m=\u001b[0m\u001b[1;32mTrue\u001b[0m\u001b[1;33m)\u001b[0m     \u001b[1;31m# Append values to the dataframe\u001b[0m\u001b[1;33m\u001b[0m\u001b[1;33m\u001b[0m\u001b[0m\n\u001b[0m\u001b[0;32m     55\u001b[0m \u001b[1;33m\u001b[0m\u001b[0m\n\u001b[0;32m     56\u001b[0m \u001b[0mresults\u001b[0m\u001b[1;33m\u001b[0m\u001b[1;33m\u001b[0m\u001b[0m\n",
      "\u001b[1;32mc:\\Users\\simon\\anaconda3\\Lib\\site-packages\\pandas\\core\\generic.py\u001b[0m in \u001b[0;36m?\u001b[1;34m(self, name)\u001b[0m\n\u001b[0;32m   5985\u001b[0m             \u001b[1;32mand\u001b[0m \u001b[0mname\u001b[0m \u001b[1;32mnot\u001b[0m \u001b[1;32min\u001b[0m \u001b[0mself\u001b[0m\u001b[1;33m.\u001b[0m\u001b[0m_accessors\u001b[0m\u001b[1;33m\u001b[0m\u001b[1;33m\u001b[0m\u001b[0m\n\u001b[0;32m   5986\u001b[0m             \u001b[1;32mand\u001b[0m \u001b[0mself\u001b[0m\u001b[1;33m.\u001b[0m\u001b[0m_info_axis\u001b[0m\u001b[1;33m.\u001b[0m\u001b[0m_can_hold_identifiers_and_holds_name\u001b[0m\u001b[1;33m(\u001b[0m\u001b[0mname\u001b[0m\u001b[1;33m)\u001b[0m\u001b[1;33m\u001b[0m\u001b[1;33m\u001b[0m\u001b[0m\n\u001b[0;32m   5987\u001b[0m         ):\n\u001b[0;32m   5988\u001b[0m             \u001b[1;32mreturn\u001b[0m \u001b[0mself\u001b[0m\u001b[1;33m[\u001b[0m\u001b[0mname\u001b[0m\u001b[1;33m]\u001b[0m\u001b[1;33m\u001b[0m\u001b[1;33m\u001b[0m\u001b[0m\n\u001b[1;32m-> 5989\u001b[1;33m         \u001b[1;32mreturn\u001b[0m \u001b[0mobject\u001b[0m\u001b[1;33m.\u001b[0m\u001b[0m__getattribute__\u001b[0m\u001b[1;33m(\u001b[0m\u001b[0mself\u001b[0m\u001b[1;33m,\u001b[0m \u001b[0mname\u001b[0m\u001b[1;33m)\u001b[0m\u001b[1;33m\u001b[0m\u001b[1;33m\u001b[0m\u001b[0m\n\u001b[0m",
      "\u001b[1;31mAttributeError\u001b[0m: 'DataFrame' object has no attribute 'append'"
     ]
    }
   ],
   "source": [
    "# (ii) Get the prices\n",
    "\n",
    "# Set d1 and d2 (or z+ and z-)\n",
    "def z_values(S, K, r, y, T, sigma):\n",
    "    z_plus = (math.log(S/K)+(r-y)*T)/(sigma * math.sqrt(T)) + (sigma * math.sqrt(T))/2\n",
    "    z_minus = (math.log(S/K)+(r-y)*T)/(sigma * math.sqrt(T)) - (sigma * math.sqrt(T))/2\n",
    "    return z_plus, z_minus\n",
    "\n",
    "# Define delta S\n",
    "def delta_S(z_plus, y, T):\n",
    "    return -math.exp(-y*T) * norm.cdf(-z_plus)\n",
    "\n",
    "# Define delta K\n",
    "def delta_K(z_minus, y, T):\n",
    "    return math.exp(-r*T) * norm.cdf(-z_minus)\n",
    "\n",
    "# Define gamma SS\n",
    "def gamma_SS(z_plus, S, y, T, sigma):\n",
    "    return (-math.exp(-y*T) * norm.cdf(-z_plus))/(sigma * np.sqrt(T) * S)\n",
    "\n",
    "# Define gamma SK\n",
    "def gamma_SK(z_plus, K, y, T, sigma):\n",
    "    return (math.exp(-y*T) * norm.cdf(-z_plus))/(sigma * np.sqrt(T) * K)\n",
    "\n",
    "# Define gamma KS\n",
    "def gamma_KS(z_minus, K, r, T, sigma):\n",
    "    return (math.exp(-r*T) * norm.cdf(-z_minus))/(sigma * np.sqrt(T) * S)\n",
    "\n",
    "# Define gamma KK  \n",
    "def gamma_KK(z_minus, K, r, T, sigma):\n",
    "    return (-math.exp(-r*T) * norm.cdf(-z_minus))/(sigma * np.sqrt(T) * K)\n",
    "\n",
    "# Set numerical values\n",
    "S = 5000\n",
    "K = [4500, 5000, 5500]\n",
    "r = 0.049\n",
    "y = 0.011\n",
    "T = 1\n",
    "sigma = 0.155\n",
    "\n",
    "# Create a DataFrame to store results\n",
    "results = pd.DataFrame(columns=['Strike Price', 'Delta S', 'Delta K', 'Gamma SS', 'Gamma SK', 'Gamma KS', 'Gamma KK'])\n",
    "for strike in K:                                            # Iterate through strike prices\n",
    "    z_plus, z_minus = z_values(S, strike, r, y, T, sigma)\n",
    "    result = {\n",
    "        'Strike Price': strike,\n",
    "        'Delta S': delta_S(z_plus, y, T),\n",
    "        'Delta K': delta_K(z_minus, y, T),\n",
    "        'Gamma SS': gamma_SS(z_plus, S, y, T, sigma),\n",
    "        'Gamma SK': gamma_SK(z_plus, strike, y, T, sigma),\n",
    "        'Gamma KS': gamma_KS(z_minus, strike, r, T, sigma),\n",
    "        'Gamma KK': gamma_KK(z_minus, strike, r, T, sigma)\n",
    "    }\n",
    "    results = results.append(result, ignore_index=True)     # Append values to the dataframe\n",
    "\n",
    "results"
   ]
  },
  {
   "cell_type": "markdown",
   "metadata": {},
   "source": [
    "(iii) \n",
    "$$ S\\Delta_S + K\\Delta_K = -Se^{-yt}N(-Z_{+}) + Ke^{-rT}N(-Z_{-}) = P \\\\\n",
    "S\\Gamma_{SS} + K\\Gamma_{SK} = S\\frac{-e^{-yT}}{\\sigma\\sqrt{T}S}n(-Z_{+}) + K\\frac{e^{-yT}}{\\sigma\\sqrt{T}K}n(-Z_{+}) = 0 \\\\\n",
    "S\\Gamma_{KS} + K\\Gamma_{KK} = S\\frac{e^{-rT}}{\\sigma\\sqrt{T}S}n(-Z_{-}) + K\\frac{-e^{-rT}}{\\sigma\\sqrt{T}K}n(-Z_{-}) = 0\n",
    "$$\n",
    "We can write the composition of replicating portfolio with delta sums. Gamma sums being zero reflects dynamic hedging properties of the portfolio."
   ]
  },
  {
   "cell_type": "markdown",
   "metadata": {},
   "source": [
    "(b) (i)\n",
    "$$\\rho_r = \\frac{\\partial P}{\\partial r} = -TKe^{-rT}N(-Z_{-})\\\\\n",
    "\\rho_y = \\frac{\\partial P}{\\partial y} = TSe^{-yT}N(-Z_{+}) \\\\\n",
    "\\nu = \\frac{\\partial P}{\\partial \\sigma} = -\\sqrt{T}Se^{-yT}n(-Z_{+}) = \\sqrt{T}Ke^{-rT}n(-Z_{-})\n",
    "$$\n",
    "r and y have $time^{-1}$ units, while vega has $time^{1/2}$"
   ]
  },
  {
   "cell_type": "code",
   "execution_count": null,
   "metadata": {},
   "outputs": [
    {
     "name": "stderr",
     "output_type": "stream",
     "text": [
      "/var/folders/vv/3nnd1g4506z6vdqnf44fkr2c0000gn/T/ipykernel_25739/3419014947.py:23: FutureWarning: The frame.append method is deprecated and will be removed from pandas in a future version. Use pandas.concat instead.\n",
      "  results_b = results_b.append(result, ignore_index=True)\n",
      "/var/folders/vv/3nnd1g4506z6vdqnf44fkr2c0000gn/T/ipykernel_25739/3419014947.py:23: FutureWarning: The frame.append method is deprecated and will be removed from pandas in a future version. Use pandas.concat instead.\n",
      "  results_b = results_b.append(result, ignore_index=True)\n",
      "/var/folders/vv/3nnd1g4506z6vdqnf44fkr2c0000gn/T/ipykernel_25739/3419014947.py:23: FutureWarning: The frame.append method is deprecated and will be removed from pandas in a future version. Use pandas.concat instead.\n",
      "  results_b = results_b.append(result, ignore_index=True)\n"
     ]
    },
    {
     "data": {
      "text/html": [
       "<div>\n",
       "<style scoped>\n",
       "    .dataframe tbody tr th:only-of-type {\n",
       "        vertical-align: middle;\n",
       "    }\n",
       "\n",
       "    .dataframe tbody tr th {\n",
       "        vertical-align: top;\n",
       "    }\n",
       "\n",
       "    .dataframe thead th {\n",
       "        text-align: right;\n",
       "    }\n",
       "</style>\n",
       "<table border=\"1\" class=\"dataframe\">\n",
       "  <thead>\n",
       "    <tr style=\"text-align: right;\">\n",
       "      <th></th>\n",
       "      <th>Strike Price</th>\n",
       "      <th>Rho r</th>\n",
       "      <th>Rho y</th>\n",
       "      <th>Vega</th>\n",
       "    </tr>\n",
       "  </thead>\n",
       "  <tbody>\n",
       "    <tr>\n",
       "      <th>0</th>\n",
       "      <td>4500.0</td>\n",
       "      <td>-850.039941</td>\n",
       "      <td>703.549610</td>\n",
       "      <td>-781.721789</td>\n",
       "    </tr>\n",
       "    <tr>\n",
       "      <th>1</th>\n",
       "      <td>5000.0</td>\n",
       "      <td>-2063.494938</td>\n",
       "      <td>1846.950818</td>\n",
       "      <td>-1846.950818</td>\n",
       "    </tr>\n",
       "    <tr>\n",
       "      <th>2</th>\n",
       "      <td>5500.0</td>\n",
       "      <td>-3522.666685</td>\n",
       "      <td>3345.222324</td>\n",
       "      <td>-3041.111204</td>\n",
       "    </tr>\n",
       "  </tbody>\n",
       "</table>\n",
       "</div>"
      ],
      "text/plain": [
       "   Strike Price        Rho r        Rho y         Vega\n",
       "0        4500.0  -850.039941   703.549610  -781.721789\n",
       "1        5000.0 -2063.494938  1846.950818 -1846.950818\n",
       "2        5500.0 -3522.666685  3345.222324 -3041.111204"
      ]
     },
     "execution_count": 3,
     "metadata": {},
     "output_type": "execute_result"
    }
   ],
   "source": [
    "# Define rho r\n",
    "def rho_r(z_minus, K, r, T):\n",
    "    return -T * K * math.exp(-r*T) * norm.cdf(-z_minus)\n",
    "\n",
    "# Define rho y\n",
    "def rho_y(z_plus, K, y, T, sigma):\n",
    "    return T * K * math.exp(-y*T) * norm.cdf(-z_plus)\n",
    "\n",
    "# Define vega\n",
    "def vega(z_plus, S, y, T):\n",
    "    return -np.sqrt(T) * S * np.exp(-y*T) * norm.cdf(-z_plus)\n",
    "\n",
    "# Store results in dataframe\n",
    "results_b = pd.DataFrame(columns=['Strike Price', 'Rho r', 'Rho y', 'Vega'])  \n",
    "for strike in K:\n",
    "    z_plus, z_minus = z_values(S, strike, r, y, T, sigma)\n",
    "    result = {\n",
    "        'Strike Price': strike,\n",
    "        'Rho r': rho_r(z_minus, strike, r, T),\n",
    "        'Rho y': rho_y(z_plus, strike, y, T, sigma),\n",
    "        'Vega' : vega(z_plus, S, y, T)\n",
    "    }\n",
    "    results_b = results_b.append(result, ignore_index=True)\n",
    "\n",
    "results_b"
   ]
  },
  {
   "cell_type": "markdown",
   "metadata": {},
   "source": [
    "(c)\n",
    "$$ \\frac{\\rho_y}{S \\Delta_S} = \\frac{TSe^{-yT}N(-Z_{+})}{-Se^{-yT}N(-Z_{+})} = -T = -1\\\\\n",
    "\\frac{\\rho_r}{K \\Delta_K} = \\frac{-TKe^{-rT}N(-Z_{-})}{Ke^{-rT}N(-Z_{-})} = -T = -1\\\\\n",
    "\\frac{\\nu}{\\sigma S^2 \\Gamma_{SS}} = \\frac{-\\sqrt{T}Se^{-yT}n(-Z_{+})}{\\sigma S^2 \\frac{-e^{-yT}}{\\sigma\\sqrt{T}S}n(-Z_{+})} = T = 1\\\\\n",
    "\\frac{\\nu}{\\sigma S K \\Gamma_{SK}} = \\frac{-\\sqrt{T}Se^{-yT}n(-Z_{+})}{\\sigma S K \\frac{e^{-yT}}{\\sigma\\sqrt{T}K}n(-Z_{+})} = -T = -1\\\\\n",
    "\\frac{\\nu}{\\sigma K^2 \\Gamma_{KK}} = \\frac{\\sqrt{T}Ke^{-rT}n(-Z_{-})}{\\sigma K^2 \\frac{-e^{-rT}}{\\sigma\\sqrt{T}K}n(-Z_{-})} = -T = -1\\\\\n",
    "$$"
   ]
  },
  {
   "cell_type": "code",
   "execution_count": null,
   "metadata": {},
   "outputs": [],
   "source": [
    "# Define Put\n",
    "def BSM_Put(S, K, r, y, T, sigma):\n",
    "    z_plus, z_minus = z_values(S, K, r, y, T, sigma)\n",
    "    return K * math.exp(-r * T) * norm.cdf(-z_minus) - S*math.exp(-y*T) * norm.cdf(-z_plus)\n",
    "\n",
    "# Newton-Raphson Implied Vol solver for put\n",
    "'''Global variables redifined'''\n",
    "def IV_Put(S, K, r, y, T, value):\n",
    "    tolerance = 1e-6\n",
    "    max_iterations = 1000\n",
    "    sigma = 0.5\n",
    "    for _ in range(max_iterations):\n",
    "        price = BSM_Put(S, K, r, y, T, sigma)\n",
    "        vega = S * math.exp(-y * T) * math.sqrt(T) * norm.pdf((math.log(S / K) + (r - y + 0.5 * sigma ** 2) * T) / (sigma * math.sqrt(T)))\n",
    "        increment = (price - value) / vega\n",
    "        sigma -= increment\n",
    "        if abs(increment) < tolerance:\n",
    "            return sigma\n",
    "    return None"
   ]
  },
  {
   "cell_type": "code",
   "execution_count": null,
   "metadata": {},
   "outputs": [
    {
     "name": "stdout",
     "output_type": "stream",
     "text": [
      "Delta S: -0.15634435778595193 K Delta K: 850.0399411575129\n",
      "Current Portfolio Value: 0.0\n"
     ]
    }
   ],
   "source": [
    "#(d)\n",
    "#(i) Calculate delta S and K*delta K\n",
    "delta_S_d = results.at[0, 'Delta S']\n",
    "K_delta_K_d = 4500 * results.at[0, 'Delta K']\n",
    "print('Delta S:', delta_S_d, 'K Delta K:', K_delta_K_d)\n",
    "\n",
    "#(ii)\n",
    "portfolio_d = BSM_Put(5000, 4500, .049, 0.011, 1, .155) - 5000 * delta_S_d - K_delta_K_d\n",
    "print('Current Portfolio Value:', portfolio_d)\n"
   ]
  },
  {
   "cell_type": "markdown",
   "metadata": {},
   "source": [
    "(iii) \n",
    "$$ \\Pi = P_{4500} - \\Delta_S - \\Delta_K K\\\\\n",
    "\\frac{\\partial\\Pi}{\\partial S} = \\partial_S P - (\\partial_S S) \\Delta S = \\Delta S - \\Delta S = 0\\\\\n",
    "\\frac{\\partial\\Pi}{\\partial K} = \\partial_K P - (\\partial_K K) \\Delta K = \\Delta K - \\Delta K = 0\\\\\n",
    "$$"
   ]
  },
  {
   "cell_type": "code",
   "execution_count": null,
   "metadata": {},
   "outputs": [
    {
     "name": "stdout",
     "output_type": "stream",
     "text": [
      "r sensitivity: -0.0850039941157513 ; y sensitivity: 0.07035496100367838 ; sigma sensitivity: -0.07817217889297597\n"
     ]
    }
   ],
   "source": [
    "# (iv) Get values for 1bp change\n",
    "z_plus_e, z_minus_e = z_values(S, 4500, r, y, T, sigma)\n",
    "rho_r_1bp = .0001 * rho_r(z_minus_e, 4500, r, T)\n",
    "rho_y_1bp = .0001 * rho_y(z_plus_e, 4500, y, T, sigma)\n",
    "vega_1bp = .0001 * vega(z_plus_e, S, y, T)\n",
    "\n",
    "print('r sensitivity:', rho_r_1bp, '; y sensitivity:', rho_y_1bp, '; sigma sensitivity:', vega_1bp)\n"
   ]
  },
  {
   "cell_type": "markdown",
   "metadata": {},
   "source": [
    "(e) (i)\n",
    "$$\\Delta_{1_T} = e^{rT}K\\Delta_K = e^{rT}K(-e^{-rT}N(-Z_{-})) = -KN(-Z_{-})\\\\\n",
    "\\Delta_{F_T} = e^{yT}\\Delta_S = e^{yT}(e^{-yT}N(-Z_{+})) = N(-Z_{+})$$\n"
   ]
  },
  {
   "cell_type": "code",
   "execution_count": null,
   "metadata": {},
   "outputs": [
    {
     "name": "stdout",
     "output_type": "stream",
     "text": [
      "Delta 1T Holding:  892.7292451454759 ; FT Holding:  0.15807363933322027\n"
     ]
    }
   ],
   "source": [
    "delta_1T = 4500 * norm.cdf(-z_minus_e)\n",
    "delta_FT = norm.cdf(-z_plus_e)\n",
    "print('Delta 1T Holding: ', delta_1T, '; FT Holding: ', delta_FT)"
   ]
  },
  {
   "cell_type": "markdown",
   "metadata": {},
   "source": [
    "(ii)  $\\Pi = P - e^{-yT}S\\Delta_{F_T}- e^{-rT}\\Delta_{1_T}$"
   ]
  },
  {
   "cell_type": "code",
   "execution_count": null,
   "metadata": {},
   "outputs": [
    {
     "name": "stdout",
     "output_type": "stream",
     "text": [
      "Portfolio value:  -781.8781332875456\n"
     ]
    },
    {
     "data": {
      "text/plain": [
       "'This must be 0'"
      ]
     },
     "execution_count": 35,
     "metadata": {},
     "output_type": "execute_result"
    }
   ],
   "source": [
    "portfolio_e = BSM_Put(5000, 4500, .049, 0.011, 1, .155) - math.exp(-y*T)*delta_FT - math.exp(-r*T)*delta_1T\n",
    "print('Portfolio value: ', portfolio_e)\n",
    "'''This must be 0'''\n",
    "\n",
    "#5000*math.exp(-y*T)*math.exp(-r*T)*"
   ]
  },
  {
   "cell_type": "markdown",
   "metadata": {},
   "source": [
    "(iii) \n",
    "$$\\frac{\\partial\\Pi}{\\partial S} = \\partial_S P - (\\partial_S S) e^{-yT}\\Delta F_T = \\Delta S - \\Delta S = 0\\\\\n",
    "\\frac{\\partial\\Pi}{\\partial K} = \\partial_K P - (\\partial_K K) e^{-rT}\\Delta 1_T = \\Delta K - \\Delta K = 0\\\\$$"
   ]
  },
  {
   "cell_type": "markdown",
   "metadata": {},
   "source": [
    "(iv)"
   ]
  },
  {
   "cell_type": "markdown",
   "metadata": {},
   "source": [
    "(f) (i) \n",
    "$$ \\Delta_{P_{atm}}*\\Gamma_{SS, atm} = \\Gamma_{SS, otm} => \\Delta_{P_{atm}} = \\frac{\\Gamma_{SS, otm}}{\\Gamma_{SS, atm}} = \\frac{-0.000202}{-0.000477} = .42348\n",
    "$$"
   ]
  },
  {
   "cell_type": "markdown",
   "metadata": {},
   "source": [
    "(ii) \n",
    "$$\\partial_S = \\Delta_{S, 4500} - \\Delta_{P, 5000}\\Delta_{S, 5000}\\\\\n",
    "\\partial_{\\$} = 4500\\Delta_{K, 4500} - 5000\\Delta_{P, 5000}\\Delta_{K, 5000}\n",
    "$$"
   ]
  },
  {
   "cell_type": "code",
   "execution_count": null,
   "metadata": {},
   "outputs": [
    {
     "name": "stdout",
     "output_type": "stream",
     "text": [
      "Delta FT Holdings:  8.498865996234284e-05 ; Delta 1_T Holdings: -23.808895047060446\n"
     ]
    }
   ],
   "source": [
    "# Lets get deltas\n",
    "delta_put_f = .42348\n",
    "\n",
    "delta_S_f = results.at[0, 'Delta S'] - delta_put_f * results.at[1, 'Delta S']\n",
    "delta_D_f = 4500 * results.at[0, 'Delta K']- 5000 * delta_put_f * results.at[1, 'Delta K']\n",
    "print('Delta FT Holdings: ', delta_S_f,'; Delta 1_T Holdings:', delta_D_f)"
   ]
  },
  {
   "cell_type": "code",
   "execution_count": null,
   "metadata": {},
   "outputs": [
    {
     "name": "stdout",
     "output_type": "stream",
     "text": [
      "Portfolio value: -1.133865703041149\n"
     ]
    },
    {
     "data": {
      "text/plain": [
       "'MUst be 0 again.'"
      ]
     },
     "execution_count": 11,
     "metadata": {},
     "output_type": "execute_result"
    }
   ],
   "source": [
    "#(iii)\n",
    "portfolio_f = BSM_Put(5000, 4500, .049, 0.011, 1, .155) - delta_put_f*BSM_Put(5000, 5000, .049, 0.011, 1, .155) - (math.exp(-y*T)*5000*delta_S_f) - (math.exp(-r*T)*delta_D_f)\n",
    "print('Portfolio value:', portfolio_f)\n",
    "\n",
    "'''MUst be 0 again.'''"
   ]
  },
  {
   "cell_type": "markdown",
   "metadata": {},
   "source": [
    "(iv) \n",
    "$$\\frac{\\partial\\Pi}{\\partial S} = \\partial S(P_{4500}) - \\Delta P_{5000}\\partial S(P_{5000}) - \\partial S(e^{-yT})\\Delta F_T\\\\\n",
    "\\frac{\\partial\\Pi}{\\partial K} = 4500 \\partial K(P_{4500}) - \\Delta P_{5000}4500\\partial K(P_{5000}) - \\partial S(e^{-rT})\\Delta 1_T\n",
    "$$"
   ]
  },
  {
   "cell_type": "code",
   "execution_count": null,
   "metadata": {},
   "outputs": [
    {
     "name": "stdout",
     "output_type": "stream",
     "text": [
      "9.297522472430164e-07 -1.1385144642772929 1.0966278704820781e-07\n"
     ]
    }
   ],
   "source": [
    "# Calculate the values\n",
    "dp_ds = results.at[0, 'Delta S'] - delta_put_f * results.at[1, 'Delta S'] - math.exp(-y*T) * delta_S_f\n",
    "dp_dk = 4500*results.at[0, 'Delta K'] - delta_put_f * 5000 * results.at[1, 'Delta K'] - math.exp(-r*T) * delta_D_f\n",
    "dp2_ds = results.at[0, 'Gamma SS'] - delta_put_f * results.at[1, 'Gamma SS']\n",
    "print(dp_ds, dp_dk, dp2_ds)"
   ]
  },
  {
   "cell_type": "markdown",
   "metadata": {},
   "source": [
    "(v)\n",
    "$$ \\partial r\\Pi= \\rho_{r, 4500} - \\Delta P_{5000}\\rho_{r, 5000} - (-Te^{-rT}\\Delta_{1_T})\\\\\n",
    "\\partial y\\Pi= \\rho_{y, 4500} - \\Delta P_{5000}\\rho_{y, 5000} - (-TSe^{-yT}\\Delta_{F_T})\\\\\n",
    "\\partial \\sigma \\Pi = \\nu_{4500} - \\Delta P_{5000}\\nu_{5000}\n",
    "\n",
    "$$"
   ]
  },
  {
   "cell_type": "code",
   "execution_count": null,
   "metadata": {},
   "outputs": [
    {
     "name": "stdout",
     "output_type": "stream",
     "text": [
      "0.00011385144642772929 -0.007817682765421215 4.2494329981173e-05\n"
     ]
    }
   ],
   "source": [
    "dr_p = results_b.at[0, 'Rho r'] - delta_put_f * results_b.at[1, 'Rho r'] + math.exp(-r*T) * delta_D_f\n",
    "dy_p = results_b.at[0, 'Rho y'] - delta_put_f * results_b.at[1, 'Rho y'] + 5000 * math.exp(-y*T) * delta_S_f\n",
    "dsigma_p = results_b.at[0, 'Vega'] - delta_put_f * results_b.at[1, 'Vega']\n",
    "dr_p_1bp = .0001 * dr_p\n",
    "dy_p_1bp = .0001 * dy_p\n",
    "dsigma_p_1bp = .0001 * dsigma_p\n",
    "\n",
    "print(dr_p_1bp, dy_p_1bp, dsigma_p_1bp)"
   ]
  },
  {
   "cell_type": "markdown",
   "metadata": {},
   "source": [
    "(vi) ?"
   ]
  },
  {
   "cell_type": "markdown",
   "metadata": {},
   "source": [
    "### Problem 2"
   ]
  },
  {
   "cell_type": "code",
   "execution_count": null,
   "metadata": {},
   "outputs": [
    {
     "name": "stdout",
     "output_type": "stream",
     "text": [
      "ATM Put value:  216.5441200883206 Cash-or-nothing:  0.4126989875340386 Asset-or-nothing:  1846.9508175818723\n"
     ]
    }
   ],
   "source": [
    "# (a)\n",
    "# (i)\n",
    "# Calculate new vol\n",
    "sigma_2 = sigma + .3*(math.log(1))\n",
    "# Get put value\n",
    "atm_put = BSM_Put(5000, 5000, .049, 0.011, 1, sigma)\n",
    "z_plus_2, z_minus_2 = z_values(5000, 5000, .049, 0.011, 1, sigma)\n",
    "# (ii)\n",
    "con_a = math.exp(-r*T) * norm.cdf(-z_minus_2)\n",
    "# (iii)\n",
    "aon_a = math.exp(-y*T) * 5000 * norm.cdf(-z_plus_2)\n",
    "print('ATM Put value: ', atm_put, 'Cash-or-nothing: ', con_a, 'Asset-or-nothing: ', aon_a)"
   ]
  },
  {
   "cell_type": "code",
   "execution_count": null,
   "metadata": {},
   "outputs": [
    {
     "name": "stdout",
     "output_type": "stream",
     "text": [
      "0.0005070505653878582\n",
      "Cash or nothing:  0.4126989875340386 Asset or nothing:  1846.9508175818723\n"
     ]
    }
   ],
   "source": [
    "def breeden_litzenberger_put(S, K, r, y, T, sigma):\n",
    "    z_plus, z_minus = z_values(S, K, r, y, T, sigma)\n",
    "    second_derivative = math.exp(-r*T)/(sigma*math.sqrt(T)*K) * norm.cdf(-z_minus) #I dont think second derivative goes here. \n",
    "    return second_derivative * math.exp(-r*T)\n",
    "\n",
    "imp_vol = sigma + .3 * math.log(S/5000)\n",
    "print(breeden_litzenberger_put(5000, 5000, .049, 0.011, 1, imp_vol))\n",
    "\n",
    "#result makes 0 sense\n",
    "z_plus_3, z_minus_3 = z_values(5000, 5000, .049, .011, 1, imp_vol)\n",
    "con_b = math.exp(-r*T) * norm.cdf(-z_minus_3)\n",
    "aon_b = math.exp(-y*T) * 5000 * norm.cdf(-z_plus_3)\n",
    "print('Cash or nothing: ', con_b, 'Asset or nothing: ', aon_b)\n"
   ]
  },
  {
   "cell_type": "code",
   "execution_count": 18,
   "metadata": {},
   "outputs": [
    {
     "name": "stdout",
     "output_type": "stream",
     "text": [
      "0.41149075498519777\n",
      "0.4139072858863983\n",
      "0.2992954891817135\n",
      "0.30136833052638395\n"
     ]
    }
   ],
   "source": [
    "def BSM_Call(S, K, r, y, sigma, T):\n",
    "    z_plus = (math.log(S/K)+(r-y)*T)/(sigma * math.sqrt(T)) + (sigma * math.sqrt(T))/2\n",
    "    z_minus = (math.log(S/K)+(r-y)*T)/(sigma * math.sqrt(T)) - (sigma * math.sqrt(T))/2\n",
    "    return S*math.exp(-y*T)*norm.cdf(z_plus) - K*math.exp(-r*T)*norm.cdf(z_minus)\n",
    "    \n",
    "def BSM_Put(S, K, r, y, sigma, T):\n",
    "    z_plus = (math.log(S/K)+(r-y)*T)/(sigma * math.sqrt(T)) + (sigma * math.sqrt(T))/2\n",
    "    z_minus = (math.log(S/K)+(r-y)*T)/(sigma * math.sqrt(T)) - (sigma * math.sqrt(T))/2\n",
    "    return K*math.exp(-r*T)*norm.cdf(-z_minus) - S*math.exp(-y*T)*norm.cdf(-z_plus)\n",
    "\n",
    "def CoN_Put_Sub(S, K, r, y, T, granularity):\n",
    "    return (BSM_Put(S, K, r, y, sigma, T) - BSM_Put(S, K*(1-granularity), r, y, sigma, T))/(S*granularity)\n",
    "\n",
    "def CoN_Put_Super(S, K, r, y, T, granularity):\n",
    "    return (-BSM_Put(S, K, r, y, sigma, T) + BSM_Put(S, K*(1+granularity), r, y, sigma, T))/(S*granularity)\n",
    "\n",
    "granularity = .001\n",
    "print(CoN_Put_Sub(5000, 5000, .049, .011, 1, granularity))\n",
    "print(CoN_Put_Super(5000, 5000, .049, .011, 1, granularity))\n",
    "\n",
    "def volSkew(S, K):\n",
    "    return 0.155 + 0.3 * (math.log(S/K))\n",
    "\n",
    "def CoN_Put_Sub_Skew(S, K, r, y, T, granularity):\n",
    "    return (BSM_Put(S, K, r, y, volSkew(S, K), T) - BSM_Put(S, K*(1-granularity), r, y, volSkew(5000, 4995), T))/(S*granularity)\n",
    "\n",
    "def CoN_Put_Super_Skew(S, K, r, y, T, granularity):\n",
    "    return (-BSM_Put(S, K, r, y, volSkew(S, K), T) + BSM_Put(S, K*(1+granularity), r, y, volSkew(S, K*(1+granularity)), T))/(S*granularity)\n",
    "\n",
    "print(CoN_Put_Sub_Skew(5000, 5000, .049, .011, 1, granularity))\n",
    "print(CoN_Put_Super_Skew(5000, 5000, .049, .011, 1, granularity))\n"
   ]
  },
  {
   "cell_type": "markdown",
   "metadata": {},
   "source": [
    "### Problem 3"
   ]
  },
  {
   "cell_type": "code",
   "execution_count": null,
   "metadata": {},
   "outputs": [],
   "source": [
    "S0 = 4997.9102\n",
    "\n",
    "daysToNov15 = 195\n",
    "daysPerYear = 252\n",
    "\n",
    "T = daysToNov15 / daysPerYear"
   ]
  },
  {
   "cell_type": "code",
   "execution_count": null,
   "metadata": {},
   "outputs": [
    {
     "data": {
      "text/html": [
       "<div>\n",
       "<style scoped>\n",
       "    .dataframe tbody tr th:only-of-type {\n",
       "        vertical-align: middle;\n",
       "    }\n",
       "\n",
       "    .dataframe tbody tr th {\n",
       "        vertical-align: top;\n",
       "    }\n",
       "\n",
       "    .dataframe thead th {\n",
       "        text-align: right;\n",
       "    }\n",
       "</style>\n",
       "<table border=\"1\" class=\"dataframe\">\n",
       "  <thead>\n",
       "    <tr style=\"text-align: right;\">\n",
       "      <th></th>\n",
       "      <th>Expiration Date</th>\n",
       "      <th>Calls</th>\n",
       "      <th>Last Sale</th>\n",
       "      <th>Net</th>\n",
       "      <th>Bid</th>\n",
       "      <th>Ask</th>\n",
       "      <th>Volume</th>\n",
       "      <th>IV</th>\n",
       "      <th>Delta</th>\n",
       "      <th>Gamma</th>\n",
       "      <th>...</th>\n",
       "      <th>Puts</th>\n",
       "      <th>Last Sale.1</th>\n",
       "      <th>Net.1</th>\n",
       "      <th>Bid.1</th>\n",
       "      <th>Ask.1</th>\n",
       "      <th>Volume.1</th>\n",
       "      <th>IV.1</th>\n",
       "      <th>Delta.1</th>\n",
       "      <th>Gamma.1</th>\n",
       "      <th>Open Interest.1</th>\n",
       "    </tr>\n",
       "  </thead>\n",
       "  <tbody>\n",
       "    <tr>\n",
       "      <th>2355</th>\n",
       "      <td>Nov 15 2024</td>\n",
       "      <td>SPX241115C00200000</td>\n",
       "      <td>4324.10</td>\n",
       "      <td>0.0</td>\n",
       "      <td>4747.8</td>\n",
       "      <td>4770.9</td>\n",
       "      <td>0</td>\n",
       "      <td>0.0</td>\n",
       "      <td>1.0</td>\n",
       "      <td>0.0</td>\n",
       "      <td>...</td>\n",
       "      <td>SPX241115P00200000</td>\n",
       "      <td>0.05</td>\n",
       "      <td>0.0</td>\n",
       "      <td>0.00</td>\n",
       "      <td>0.15</td>\n",
       "      <td>0</td>\n",
       "      <td>1.1006</td>\n",
       "      <td>0.0000</td>\n",
       "      <td>0.0</td>\n",
       "      <td>94</td>\n",
       "    </tr>\n",
       "    <tr>\n",
       "      <th>2356</th>\n",
       "      <td>Nov 15 2024</td>\n",
       "      <td>SPX241115C00400000</td>\n",
       "      <td>0.00</td>\n",
       "      <td>0.0</td>\n",
       "      <td>4555.8</td>\n",
       "      <td>4578.6</td>\n",
       "      <td>0</td>\n",
       "      <td>0.0</td>\n",
       "      <td>1.0</td>\n",
       "      <td>0.0</td>\n",
       "      <td>...</td>\n",
       "      <td>SPX241115P00400000</td>\n",
       "      <td>0.05</td>\n",
       "      <td>0.0</td>\n",
       "      <td>0.00</td>\n",
       "      <td>0.20</td>\n",
       "      <td>0</td>\n",
       "      <td>0.8745</td>\n",
       "      <td>-0.0001</td>\n",
       "      <td>0.0</td>\n",
       "      <td>771</td>\n",
       "    </tr>\n",
       "    <tr>\n",
       "      <th>2357</th>\n",
       "      <td>Nov 15 2024</td>\n",
       "      <td>SPX241115C00600000</td>\n",
       "      <td>0.00</td>\n",
       "      <td>0.0</td>\n",
       "      <td>4363.6</td>\n",
       "      <td>4386.7</td>\n",
       "      <td>0</td>\n",
       "      <td>0.0</td>\n",
       "      <td>1.0</td>\n",
       "      <td>0.0</td>\n",
       "      <td>...</td>\n",
       "      <td>SPX241115P00600000</td>\n",
       "      <td>0.20</td>\n",
       "      <td>0.0</td>\n",
       "      <td>0.10</td>\n",
       "      <td>0.30</td>\n",
       "      <td>0</td>\n",
       "      <td>0.7718</td>\n",
       "      <td>-0.0002</td>\n",
       "      <td>0.0</td>\n",
       "      <td>457</td>\n",
       "    </tr>\n",
       "    <tr>\n",
       "      <th>2358</th>\n",
       "      <td>Nov 15 2024</td>\n",
       "      <td>SPX241115C00800000</td>\n",
       "      <td>0.00</td>\n",
       "      <td>0.0</td>\n",
       "      <td>4171.8</td>\n",
       "      <td>4194.5</td>\n",
       "      <td>0</td>\n",
       "      <td>0.0</td>\n",
       "      <td>1.0</td>\n",
       "      <td>0.0</td>\n",
       "      <td>...</td>\n",
       "      <td>SPX241115P00800000</td>\n",
       "      <td>0.40</td>\n",
       "      <td>0.0</td>\n",
       "      <td>0.25</td>\n",
       "      <td>0.50</td>\n",
       "      <td>0</td>\n",
       "      <td>0.7024</td>\n",
       "      <td>-0.0004</td>\n",
       "      <td>0.0</td>\n",
       "      <td>329</td>\n",
       "    </tr>\n",
       "    <tr>\n",
       "      <th>2359</th>\n",
       "      <td>Nov 15 2024</td>\n",
       "      <td>SPX241115C01000000</td>\n",
       "      <td>3730.43</td>\n",
       "      <td>0.0</td>\n",
       "      <td>3979.9</td>\n",
       "      <td>4002.6</td>\n",
       "      <td>0</td>\n",
       "      <td>0.0</td>\n",
       "      <td>1.0</td>\n",
       "      <td>0.0</td>\n",
       "      <td>...</td>\n",
       "      <td>SPX241115P01000000</td>\n",
       "      <td>0.75</td>\n",
       "      <td>0.0</td>\n",
       "      <td>0.50</td>\n",
       "      <td>0.80</td>\n",
       "      <td>0</td>\n",
       "      <td>0.6490</td>\n",
       "      <td>-0.0007</td>\n",
       "      <td>0.0</td>\n",
       "      <td>300</td>\n",
       "    </tr>\n",
       "  </tbody>\n",
       "</table>\n",
       "<p>5 rows × 22 columns</p>\n",
       "</div>"
      ],
      "text/plain": [
       "     Expiration Date               Calls  Last Sale  Net     Bid     Ask  \\\n",
       "2355     Nov 15 2024  SPX241115C00200000    4324.10  0.0  4747.8  4770.9   \n",
       "2356     Nov 15 2024  SPX241115C00400000       0.00  0.0  4555.8  4578.6   \n",
       "2357     Nov 15 2024  SPX241115C00600000       0.00  0.0  4363.6  4386.7   \n",
       "2358     Nov 15 2024  SPX241115C00800000       0.00  0.0  4171.8  4194.5   \n",
       "2359     Nov 15 2024  SPX241115C01000000    3730.43  0.0  3979.9  4002.6   \n",
       "\n",
       "      Volume   IV  Delta  Gamma  ...                Puts  Last Sale.1 Net.1  \\\n",
       "2355       0  0.0    1.0    0.0  ...  SPX241115P00200000         0.05   0.0   \n",
       "2356       0  0.0    1.0    0.0  ...  SPX241115P00400000         0.05   0.0   \n",
       "2357       0  0.0    1.0    0.0  ...  SPX241115P00600000         0.20   0.0   \n",
       "2358       0  0.0    1.0    0.0  ...  SPX241115P00800000         0.40   0.0   \n",
       "2359       0  0.0    1.0    0.0  ...  SPX241115P01000000         0.75   0.0   \n",
       "\n",
       "      Bid.1  Ask.1  Volume.1    IV.1  Delta.1  Gamma.1  Open Interest.1  \n",
       "2355   0.00   0.15         0  1.1006   0.0000      0.0               94  \n",
       "2356   0.00   0.20         0  0.8745  -0.0001      0.0              771  \n",
       "2357   0.10   0.30         0  0.7718  -0.0002      0.0              457  \n",
       "2358   0.25   0.50         0  0.7024  -0.0004      0.0              329  \n",
       "2359   0.50   0.80         0  0.6490  -0.0007      0.0              300  \n",
       "\n",
       "[5 rows x 22 columns]"
      ]
     },
     "execution_count": 5,
     "metadata": {},
     "output_type": "execute_result"
    }
   ],
   "source": [
    "data = pd.read_csv('spx_quotedata-2024-02-08_NoZerosNoW.csv', skiprows=2)\n",
    "dataNov15 = data[data['Expiration Date'] == 'Nov 15 2024']\n",
    "dataNov15.head()\n"
   ]
  },
  {
   "cell_type": "code",
   "execution_count": null,
   "metadata": {},
   "outputs": [
    {
     "name": "stderr",
     "output_type": "stream",
     "text": [
      "C:\\Users\\simon\\AppData\\Local\\Temp\\ipykernel_4148\\642111761.py:1: SettingWithCopyWarning: \n",
      "A value is trying to be set on a copy of a slice from a DataFrame.\n",
      "Try using .loc[row_indexer,col_indexer] = value instead\n",
      "\n",
      "See the caveats in the documentation: https://pandas.pydata.org/pandas-docs/stable/user_guide/indexing.html#returning-a-view-versus-a-copy\n",
      "  dataNov15['Call Mid'] = (dataNov15['Ask']+dataNov15['Bid'])/2\n",
      "C:\\Users\\simon\\AppData\\Local\\Temp\\ipykernel_4148\\642111761.py:2: SettingWithCopyWarning: \n",
      "A value is trying to be set on a copy of a slice from a DataFrame.\n",
      "Try using .loc[row_indexer,col_indexer] = value instead\n",
      "\n",
      "See the caveats in the documentation: https://pandas.pydata.org/pandas-docs/stable/user_guide/indexing.html#returning-a-view-versus-a-copy\n",
      "  dataNov15['Put Mid'] = (dataNov15['Ask.1']+dataNov15['Bid.1'])/2\n",
      "C:\\Users\\simon\\AppData\\Local\\Temp\\ipykernel_4148\\642111761.py:3: SettingWithCopyWarning: \n",
      "A value is trying to be set on a copy of a slice from a DataFrame.\n",
      "Try using .loc[row_indexer,col_indexer] = value instead\n",
      "\n",
      "See the caveats in the documentation: https://pandas.pydata.org/pandas-docs/stable/user_guide/indexing.html#returning-a-view-versus-a-copy\n",
      "  dataNov15['Parity'] = dataNov15['Call Mid'] - dataNov15['Put Mid']\n"
     ]
    },
    {
     "data": {
      "text/html": [
       "<div>\n",
       "<style scoped>\n",
       "    .dataframe tbody tr th:only-of-type {\n",
       "        vertical-align: middle;\n",
       "    }\n",
       "\n",
       "    .dataframe tbody tr th {\n",
       "        vertical-align: top;\n",
       "    }\n",
       "\n",
       "    .dataframe thead th {\n",
       "        text-align: right;\n",
       "    }\n",
       "</style>\n",
       "<table border=\"1\" class=\"dataframe\">\n",
       "  <thead>\n",
       "    <tr style=\"text-align: right;\">\n",
       "      <th></th>\n",
       "      <th>Call Mid</th>\n",
       "      <th>Put Mid</th>\n",
       "      <th>Parity</th>\n",
       "    </tr>\n",
       "  </thead>\n",
       "  <tbody>\n",
       "    <tr>\n",
       "      <th>2355</th>\n",
       "      <td>4759.35</td>\n",
       "      <td>0.075</td>\n",
       "      <td>4759.275</td>\n",
       "    </tr>\n",
       "    <tr>\n",
       "      <th>2356</th>\n",
       "      <td>4567.20</td>\n",
       "      <td>0.100</td>\n",
       "      <td>4567.100</td>\n",
       "    </tr>\n",
       "    <tr>\n",
       "      <th>2357</th>\n",
       "      <td>4375.15</td>\n",
       "      <td>0.200</td>\n",
       "      <td>4374.950</td>\n",
       "    </tr>\n",
       "    <tr>\n",
       "      <th>2358</th>\n",
       "      <td>4183.15</td>\n",
       "      <td>0.375</td>\n",
       "      <td>4182.775</td>\n",
       "    </tr>\n",
       "    <tr>\n",
       "      <th>2359</th>\n",
       "      <td>3991.25</td>\n",
       "      <td>0.650</td>\n",
       "      <td>3990.600</td>\n",
       "    </tr>\n",
       "  </tbody>\n",
       "</table>\n",
       "</div>"
      ],
      "text/plain": [
       "      Call Mid  Put Mid    Parity\n",
       "2355   4759.35    0.075  4759.275\n",
       "2356   4567.20    0.100  4567.100\n",
       "2357   4375.15    0.200  4374.950\n",
       "2358   4183.15    0.375  4182.775\n",
       "2359   3991.25    0.650  3990.600"
      ]
     },
     "execution_count": 6,
     "metadata": {},
     "output_type": "execute_result"
    }
   ],
   "source": [
    "dataNov15['Call Mid'] = (dataNov15['Ask']+dataNov15['Bid'])/2 \n",
    "dataNov15['Put Mid'] = (dataNov15['Ask.1']+dataNov15['Bid.1'])/2\n",
    "dataNov15['Parity'] = dataNov15['Call Mid'] - dataNov15['Put Mid']\n",
    "dataNov15[['Call Mid', 'Put Mid', 'Parity']].head()\n"
   ]
  },
  {
   "cell_type": "code",
   "execution_count": null,
   "metadata": {},
   "outputs": [
    {
     "name": "stdout",
     "output_type": "stream",
     "text": [
      "                            OLS Regression Results                            \n",
      "==============================================================================\n",
      "Dep. Variable:                 Parity   R-squared:                       1.000\n",
      "Model:                            OLS   Adj. R-squared:                  1.000\n",
      "Method:                 Least Squares   F-statistic:                 2.040e+09\n",
      "Date:                Fri, 16 Feb 2024   Prob (F-statistic):               0.00\n",
      "Time:                        11:40:04   Log-Likelihood:                -44.726\n",
      "No. Observations:                 134   AIC:                             93.45\n",
      "Df Residuals:                     132   BIC:                             99.25\n",
      "Df Model:                           1                                         \n",
      "Covariance Type:            nonrobust                                         \n",
      "==============================================================================\n",
      "                 coef    std err          t      P>|t|      [0.025      0.975]\n",
      "------------------------------------------------------------------------------\n",
      "const       4952.3182      0.089   5.59e+04      0.000    4952.143    4952.494\n",
      "Strike        -0.9611   2.13e-05  -4.52e+04      0.000      -0.961      -0.961\n",
      "==============================================================================\n",
      "Omnibus:                       12.663   Durbin-Watson:                   0.056\n",
      "Prob(Omnibus):                  0.002   Jarque-Bera (JB):                5.468\n",
      "Skew:                          -0.242   Prob(JB):                       0.0649\n",
      "Kurtosis:                       2.137   Cond. No.                     1.26e+04\n",
      "==============================================================================\n",
      "\n",
      "Notes:\n",
      "[1] Standard Errors assume that the covariance matrix of the errors is correctly specified.\n",
      "[2] The condition number is large, 1.26e+04. This might indicate that there are\n",
      "strong multicollinearity or other numerical problems.\n"
     ]
    }
   ],
   "source": [
    "X = dataNov15['Strike']\n",
    "y = dataNov15['Parity']\n",
    "X = sm.add_constant(X)\n",
    "\n",
    "model = sm.OLS(y, X)\n",
    "results = model.fit()\n",
    "print(results.summary())"
   ]
  },
  {
   "cell_type": "code",
   "execution_count": null,
   "metadata": {},
   "outputs": [
    {
     "data": {
      "image/png": "[encoded data removed]",
      "text/plain": [
       "<Figure size 640x480 with 1 Axes>"
      ]
     },
     "metadata": {},
     "output_type": "display_data"
    }
   ],
   "source": [
    "residuals = results.resid\n",
    "\n",
    "# Plot residuals versus the independent variable K\n",
    "plt.scatter(dataNov15['Strike'], residuals)\n",
    "plt.xlabel('Strike')\n",
    "plt.ylabel('Residuals')\n",
    "plt.title('Residuals vs. Strike')\n",
    "plt.grid(True)\n",
    "plt.show()"
   ]
  },
  {
   "cell_type": "code",
   "execution_count": null,
   "metadata": {},
   "outputs": [
    {
     "name": "stdout",
     "output_type": "stream",
     "text": [
      "0.05003730701604159\n",
      "0.010547544446488099\n"
     ]
    }
   ],
   "source": [
    "r_imp = 1 - (-results.params[1])**(daysPerYear/daysToNov15)\n",
    "\n",
    "div0_FT = S0*math.exp(r_imp*daysToNov15 / daysPerYear)\n",
    "FT = results.params[0]/(-results.params[1])\n",
    "\n",
    "# Calculate the implied dividend yield (y_imp)\n",
    "y_imp = math.log(div0_FT / (FT)) * (daysPerYear / daysToNov15)\n",
    "\n",
    "\n",
    "print(r_imp)\n",
    "print(y_imp)\n"
   ]
  },
  {
   "cell_type": "code",
   "execution_count": null,
   "metadata": {},
   "outputs": [
    {
     "name": "stderr",
     "output_type": "stream",
     "text": [
      "C:\\Users\\simon\\AppData\\Local\\Temp\\ipykernel_4148\\1757302808.py:19: RuntimeWarning: divide by zero encountered in scalar divide\n",
      "  increment = (price - value) / vega\n",
      "C:\\Users\\simon\\AppData\\Local\\Temp\\ipykernel_4148\\1757302808.py:2: RuntimeWarning: invalid value encountered in scalar divide\n",
      "  d1 = (math.log(S/K) + (r -y + 0.5 * sigma ** 2) * T) / (sigma * math.sqrt(T))\n",
      "C:\\Users\\simon\\AppData\\Local\\Temp\\ipykernel_4148\\1757302808.py:18: RuntimeWarning: invalid value encountered in scalar divide\n",
      "  vega = S * math.exp(-y * T) * math.sqrt(T) * norm.pdf((math.log(S / K) + (r - y + 0.5 * sigma ** 2) * T) / (sigma * math.sqrt(T)))\n",
      "C:\\Users\\simon\\AppData\\Local\\Temp\\ipykernel_4148\\1757302808.py:2: RuntimeWarning: overflow encountered in scalar power\n",
      "  d1 = (math.log(S/K) + (r -y + 0.5 * sigma ** 2) * T) / (sigma * math.sqrt(T))\n",
      "C:\\Users\\simon\\AppData\\Local\\Temp\\ipykernel_4148\\1757302808.py:18: RuntimeWarning: overflow encountered in scalar power\n",
      "  vega = S * math.exp(-y * T) * math.sqrt(T) * norm.pdf((math.log(S / K) + (r - y + 0.5 * sigma ** 2) * T) / (sigma * math.sqrt(T)))\n",
      "C:\\Users\\simon\\AppData\\Local\\Temp\\ipykernel_4148\\3715951370.py:1: SettingWithCopyWarning: \n",
      "A value is trying to be set on a copy of a slice from a DataFrame.\n",
      "Try using .loc[row_indexer,col_indexer] = value instead\n",
      "\n",
      "See the caveats in the documentation: https://pandas.pydata.org/pandas-docs/stable/user_guide/indexing.html#returning-a-view-versus-a-copy\n",
      "  dataNov15['IV Call'] = dataNov15.apply(lambda row: IV_Call(S0, row['Strike'], r_imp, y_imp, daysToNov15/daysPerYear, row['Call Mid']), axis=1)\n",
      "C:\\Users\\simon\\AppData\\Local\\Temp\\ipykernel_4148\\1757302808.py:33: RuntimeWarning: divide by zero encountered in scalar divide\n",
      "  increment = (price - value) / vega\n",
      "C:\\Users\\simon\\AppData\\Local\\Temp\\ipykernel_4148\\1757302808.py:7: RuntimeWarning: invalid value encountered in scalar divide\n",
      "  d1 = (math.log(S/K) + (r -y + 0.5 * sigma ** 2) * T) / (sigma * math.sqrt(T))\n",
      "C:\\Users\\simon\\AppData\\Local\\Temp\\ipykernel_4148\\1757302808.py:32: RuntimeWarning: invalid value encountered in scalar divide\n",
      "  vega = S * math.exp(-y * T) * math.sqrt(T) * norm.pdf((math.log(S / K) + (r - y + 0.5 * sigma ** 2) * T) / (sigma * math.sqrt(T)))\n",
      "C:\\Users\\simon\\AppData\\Local\\Temp\\ipykernel_4148\\3715951370.py:2: SettingWithCopyWarning: \n",
      "A value is trying to be set on a copy of a slice from a DataFrame.\n",
      "Try using .loc[row_indexer,col_indexer] = value instead\n",
      "\n",
      "See the caveats in the documentation: https://pandas.pydata.org/pandas-docs/stable/user_guide/indexing.html#returning-a-view-versus-a-copy\n",
      "  dataNov15['IV Put'] = dataNov15.apply(lambda row: IV_Put(S0, row['Strike'], r_imp, y_imp, daysToNov15/daysPerYear, row['Put Mid']), axis=1)\n",
      "C:\\Users\\simon\\AppData\\Local\\Temp\\ipykernel_4148\\3715951370.py:3: SettingWithCopyWarning: \n",
      "A value is trying to be set on a copy of a slice from a DataFrame\n",
      "\n",
      "See the caveats in the documentation: https://pandas.pydata.org/pandas-docs/stable/user_guide/indexing.html#returning-a-view-versus-a-copy\n",
      "  dataNov15[['IV Call', 'IV Put']].fillna(0, inplace=True)\n"
     ]
    }
   ],
   "source": [
    "dataNov15['IV Call'] = dataNov15.apply(lambda row: IV_Call(S0, row['Strike'], r_imp, y_imp, daysToNov15/daysPerYear, row['Call Mid']), axis=1)\n",
    "dataNov15['IV Put'] = dataNov15.apply(lambda row: IV_Put(S0, row['Strike'], r_imp, y_imp, daysToNov15/daysPerYear, row['Put Mid']), axis=1)\n",
    "dataNov15[['IV Call', 'IV Put']].fillna(0, inplace=True)\n"
   ]
  },
  {
   "cell_type": "code",
   "execution_count": null,
   "metadata": {},
   "outputs": [
    {
     "data": {
      "text/plain": [
       "Text(0.5, 1.0, 'Realized Variance vs. Strike')"
      ]
     },
     "execution_count": 11,
     "metadata": {},
     "output_type": "execute_result"
    },
    {
     "data": {
      "image/png": "[encoded data removed]",
      "text/plain": [
       "<Figure size 640x480 with 1 Axes>"
      ]
     },
     "metadata": {},
     "output_type": "display_data"
    }
   ],
   "source": [
    "Call_Variances = (dataNov15['IV Call'] ** 2) * T\n",
    "Put_Variances = (dataNov15['IV Put'] ** 2) * T\n",
    "\n",
    "plt.plot(dataNov15['Strike'], Call_Variances, label='IV Call Squared Times T')\n",
    "plt.plot(dataNov15['Strike'], Put_Variances, label='IV Put Squared Times T')\n",
    "\n",
    "# Set labels and title\n",
    "plt.xlabel('Strike')\n",
    "plt.ylabel('Realized Variance')\n",
    "plt.legend()\n",
    "plt.title('Realized Variance vs. Strike')"
   ]
  },
  {
   "cell_type": "markdown",
   "metadata": {},
   "source": [
    "## Part C)"
   ]
  },
  {
   "cell_type": "code",
   "execution_count": null,
   "metadata": {},
   "outputs": [
    {
     "name": "stdout",
     "output_type": "stream",
     "text": [
      "                            OLS Regression Results                            \n",
      "==============================================================================\n",
      "Dep. Variable:                 Parity   R-squared:                       1.000\n",
      "Model:                            OLS   Adj. R-squared:                  1.000\n",
      "Method:                 Least Squares   F-statistic:                 6.546e+08\n",
      "Date:                Fri, 16 Feb 2024   Prob (F-statistic):          1.33e-179\n",
      "Time:                        11:40:07   Log-Likelihood:                 39.844\n",
      "No. Observations:                  52   AIC:                            -75.69\n",
      "Df Residuals:                      50   BIC:                            -71.79\n",
      "Df Model:                           1                                         \n",
      "Covariance Type:            nonrobust                                         \n",
      "==============================================================================\n",
      "                 coef    std err          t      P>|t|      [0.025      0.975]\n",
      "------------------------------------------------------------------------------\n",
      "const       4953.6353      0.181   2.74e+04      0.000    4953.272    4953.998\n",
      "Strike        -0.9614   3.76e-05  -2.56e+04      0.000      -0.961      -0.961\n",
      "==============================================================================\n",
      "Omnibus:                        6.432   Durbin-Watson:                   0.627\n",
      "Prob(Omnibus):                  0.040   Jarque-Bera (JB):                5.695\n",
      "Skew:                           0.585   Prob(JB):                       0.0580\n",
      "Kurtosis:                       4.123   Cond. No.                     5.46e+04\n",
      "==============================================================================\n",
      "\n",
      "Notes:\n",
      "[1] Standard Errors assume that the covariance matrix of the errors is correctly specified.\n",
      "[2] The condition number is large, 5.46e+04. This might indicate that there are\n",
      "strong multicollinearity or other numerical problems.\n",
      "0.049644114961684305\n",
      "0.010224519956008257\n"
     ]
    },
    {
     "name": "stderr",
     "output_type": "stream",
     "text": [
      "C:\\Users\\simon\\AppData\\Local\\Temp\\ipykernel_4148\\4134987441.py:28: SettingWithCopyWarning: \n",
      "A value is trying to be set on a copy of a slice from a DataFrame.\n",
      "Try using .loc[row_indexer,col_indexer] = value instead\n",
      "\n",
      "See the caveats in the documentation: https://pandas.pydata.org/pandas-docs/stable/user_guide/indexing.html#returning-a-view-versus-a-copy\n",
      "  restrictedNov15['IV Call'] = restrictedNov15.apply(lambda row: IV_Call(S0, row['Strike'], r_imp, y_imp, daysToNov15/daysPerYear, row['Call Mid']), axis=1)\n",
      "C:\\Users\\simon\\AppData\\Local\\Temp\\ipykernel_4148\\4134987441.py:29: SettingWithCopyWarning: \n",
      "A value is trying to be set on a copy of a slice from a DataFrame.\n",
      "Try using .loc[row_indexer,col_indexer] = value instead\n",
      "\n",
      "See the caveats in the documentation: https://pandas.pydata.org/pandas-docs/stable/user_guide/indexing.html#returning-a-view-versus-a-copy\n",
      "  restrictedNov15['IV Put'] = restrictedNov15.apply(lambda row: IV_Put(S0, row['Strike'], r_imp, y_imp, daysToNov15/daysPerYear, row['Put Mid']), axis=1)\n",
      "C:\\Users\\simon\\AppData\\Local\\Temp\\ipykernel_4148\\4134987441.py:30: SettingWithCopyWarning: \n",
      "A value is trying to be set on a copy of a slice from a DataFrame\n",
      "\n",
      "See the caveats in the documentation: https://pandas.pydata.org/pandas-docs/stable/user_guide/indexing.html#returning-a-view-versus-a-copy\n",
      "  restrictedNov15[['IV Call', 'IV Put']].fillna(0, inplace=True)\n"
     ]
    },
    {
     "data": {
      "text/plain": [
       "Text(0.5, 1.0, 'Realized Variance vs. Strike')"
      ]
     },
     "execution_count": 12,
     "metadata": {},
     "output_type": "execute_result"
    },
    {
     "data": {
      "image/png": "[encoded data removed]",
      "text/plain": [
       "<Figure size 640x480 with 1 Axes>"
      ]
     },
     "metadata": {},
     "output_type": "display_data"
    },
    {
     "data": {
      "image/png": "[encoded data removed]",
      "text/plain": [
       "<Figure size 640x480 with 1 Axes>"
      ]
     },
     "metadata": {},
     "output_type": "display_data"
    }
   ],
   "source": [
    "restrictedNov15 = dataNov15[(dataNov15['Strike'] > 5000*(1-0.2*math.sqrt(daysToNov15/daysPerYear))) & (dataNov15['Strike'] < 5000*(1+0.2*math.sqrt(daysToNov15/daysPerYear)))]\n",
    "restrictedNov15.head()\n",
    "new_X = restrictedNov15['Strike']\n",
    "new_y = restrictedNov15['Parity']\n",
    "new_X = sm.add_constant(new_X)\n",
    "new_results = sm.OLS(new_y, new_X).fit()\n",
    "print(new_results.summary())\n",
    "\n",
    "new_residuals = new_results.resid\n",
    "plt.scatter(restrictedNov15['Strike'], new_residuals)\n",
    "plt.xlabel('Strike')\n",
    "plt.ylabel('Residuals')\n",
    "plt.title('Residuals vs. Strike')\n",
    "plt.ylim(-5, 5)\n",
    "plt.grid(True)\n",
    "\n",
    "FT = new_results.params[0]/(-new_results.params[1])\n",
    "r_imp_new = 1 - (-new_results.params[1])**(daysPerYear/daysToNov15)\n",
    "\n",
    "div0_FT_new = S0*math.exp(r_imp_new*daysToNov15 / daysPerYear)\n",
    "\n",
    "# Calculate the implied dividend yield (y_imp)\n",
    "y_imp_new = math.log(div0_FT_new / (FT)) * (daysPerYear / daysToNov15)\n",
    "\n",
    "print(r_imp_new)\n",
    "print(y_imp_new)\n",
    "\n",
    "restrictedNov15['IV Call'] = restrictedNov15.apply(lambda row: IV_Call(S0, row['Strike'], r_imp, y_imp, daysToNov15/daysPerYear, row['Call Mid']), axis=1)\n",
    "restrictedNov15['IV Put'] = restrictedNov15.apply(lambda row: IV_Put(S0, row['Strike'], r_imp, y_imp, daysToNov15/daysPerYear, row['Put Mid']), axis=1)\n",
    "restrictedNov15[['IV Call', 'IV Put']].fillna(0, inplace=True)\n",
    "\n",
    "Call_Variances_new = (restrictedNov15['IV Call'] ** 2) * T\n",
    "Put_Variances_new = (restrictedNov15['IV Put'] ** 2) * T\n",
    "\n",
    "plt.figure()\n",
    "plt.plot(restrictedNov15['Strike'], Call_Variances_new, label='IV Call Squared Times T')\n",
    "plt.plot(restrictedNov15['Strike'], Put_Variances_new, label='IV Put Squared Times T')\n",
    "\n",
    "# Set labels and title\n",
    "plt.xlabel('Strike')\n",
    "plt.ylabel('Realized Variance')\n",
    "plt.legend()\n",
    "plt.title('Realized Variance vs. Strike')"
   ]
  },
  {
   "cell_type": "code",
   "execution_count": null,
   "metadata": {},
   "outputs": [
    {
     "name": "stderr",
     "output_type": "stream",
     "text": [
      "C:\\Users\\simon\\AppData\\Local\\Temp\\ipykernel_4148\\2848513632.py:1: SettingWithCopyWarning: \n",
      "A value is trying to be set on a copy of a slice from a DataFrame.\n",
      "Try using .loc[row_indexer,col_indexer] = value instead\n",
      "\n",
      "See the caveats in the documentation: https://pandas.pydata.org/pandas-docs/stable/user_guide/indexing.html#returning-a-view-versus-a-copy\n",
      "  restrictedNov15['Call Spread'] = restrictedNov15['Ask'] - restrictedNov15['Bid']\n",
      "C:\\Users\\simon\\AppData\\Local\\Temp\\ipykernel_4148\\2848513632.py:2: SettingWithCopyWarning: \n",
      "A value is trying to be set on a copy of a slice from a DataFrame.\n",
      "Try using .loc[row_indexer,col_indexer] = value instead\n",
      "\n",
      "See the caveats in the documentation: https://pandas.pydata.org/pandas-docs/stable/user_guide/indexing.html#returning-a-view-versus-a-copy\n",
      "  restrictedNov15['Put Spread'] = restrictedNov15['Ask.1'] - restrictedNov15['Bid.1']\n"
     ]
    },
    {
     "ename": "ValueError",
     "evalue": "unrecognized variable name/index 'type'",
     "output_type": "error",
     "traceback": [
      "\u001b[1;31m---------------------------------------------------------------------------\u001b[0m",
      "\u001b[1;31mValueError\u001b[0m                                Traceback (most recent call last)",
      "Cell \u001b[1;32mIn[20], line 15\u001b[0m\n\u001b[0;32m     13\u001b[0m constraints \u001b[38;5;241m=\u001b[39m {\u001b[38;5;124m'\u001b[39m\u001b[38;5;124mtype\u001b[39m\u001b[38;5;124m'\u001b[39m: \u001b[38;5;124m'\u001b[39m\u001b[38;5;124meq\u001b[39m\u001b[38;5;124m'\u001b[39m, \u001b[38;5;124m'\u001b[39m\u001b[38;5;124mfun\u001b[39m\u001b[38;5;124m'\u001b[39m: \u001b[38;5;28;01mlambda\u001b[39;00m params: parity \u001b[38;5;241m-\u001b[39m (params[\u001b[38;5;241m0\u001b[39m] \u001b[38;5;241m-\u001b[39m params[\u001b[38;5;241m1\u001b[39m])}\n\u001b[0;32m     14\u001b[0m model \u001b[38;5;241m=\u001b[39m sm\u001b[38;5;241m.\u001b[39mGLM(Y, X)\n\u001b[1;32m---> 15\u001b[0m result \u001b[38;5;241m=\u001b[39m model\u001b[38;5;241m.\u001b[39mfit_constrained(constraints, initial_guess\u001b[38;5;241m=\u001b[39m[np\u001b[38;5;241m.\u001b[39mzeros(X\u001b[38;5;241m.\u001b[39mshape[\u001b[38;5;241m1\u001b[39m]), np\u001b[38;5;241m.\u001b[39mzeros(X\u001b[38;5;241m.\u001b[39mshape[\u001b[38;5;241m1\u001b[39m])])\n\u001b[0;32m     16\u001b[0m \u001b[38;5;28mprint\u001b[39m(result\u001b[38;5;241m.\u001b[39msummary())\n",
      "File \u001b[1;32mc:\\Users\\simon\\anaconda3\\Lib\\site-packages\\statsmodels\\genmod\\generalized_linear_model.py:1453\u001b[0m, in \u001b[0;36mGLM.fit_constrained\u001b[1;34m(self, constraints, start_params, **fit_kwds)\u001b[0m\n\u001b[0;32m   1447\u001b[0m \u001b[38;5;28;01mfrom\u001b[39;00m \u001b[38;5;21;01mstatsmodels\u001b[39;00m\u001b[38;5;21;01m.\u001b[39;00m\u001b[38;5;21;01mbase\u001b[39;00m\u001b[38;5;21;01m.\u001b[39;00m\u001b[38;5;21;01m_constraints\u001b[39;00m \u001b[38;5;28;01mimport\u001b[39;00m (\n\u001b[0;32m   1448\u001b[0m     LinearConstraints,\n\u001b[0;32m   1449\u001b[0m     fit_constrained,\n\u001b[0;32m   1450\u001b[0m )\n\u001b[0;32m   1452\u001b[0m \u001b[38;5;66;03m# same pattern as in base.LikelihoodModel.t_test\u001b[39;00m\n\u001b[1;32m-> 1453\u001b[0m lc \u001b[38;5;241m=\u001b[39m DesignInfo(\u001b[38;5;28mself\u001b[39m\u001b[38;5;241m.\u001b[39mexog_names)\u001b[38;5;241m.\u001b[39mlinear_constraint(constraints)\n\u001b[0;32m   1454\u001b[0m R, q \u001b[38;5;241m=\u001b[39m lc\u001b[38;5;241m.\u001b[39mcoefs, lc\u001b[38;5;241m.\u001b[39mconstants\n\u001b[0;32m   1456\u001b[0m \u001b[38;5;66;03m# TODO: add start_params option, need access to tranformation\u001b[39;00m\n\u001b[0;32m   1457\u001b[0m \u001b[38;5;66;03m#       fit_constrained needs to do the transformation\u001b[39;00m\n",
      "File \u001b[1;32mc:\\Users\\simon\\anaconda3\\Lib\\site-packages\\patsy\\design_info.py:536\u001b[0m, in \u001b[0;36mDesignInfo.linear_constraint\u001b[1;34m(self, constraint_likes)\u001b[0m\n\u001b[0;32m    487\u001b[0m \u001b[38;5;28;01mdef\u001b[39;00m \u001b[38;5;21mlinear_constraint\u001b[39m(\u001b[38;5;28mself\u001b[39m, constraint_likes):\n\u001b[0;32m    488\u001b[0m \u001b[38;5;250m    \u001b[39m\u001b[38;5;124;03m\"\"\"Construct a linear constraint in matrix form from a (possibly\u001b[39;00m\n\u001b[0;32m    489\u001b[0m \u001b[38;5;124;03m    symbolic) description.\u001b[39;00m\n\u001b[0;32m    490\u001b[0m \n\u001b[1;32m   (...)\u001b[0m\n\u001b[0;32m    534\u001b[0m \u001b[38;5;124;03m      di.linear_constraint(\"x1 = x2 = 3\")\u001b[39;00m\n\u001b[0;32m    535\u001b[0m \u001b[38;5;124;03m    \"\"\"\u001b[39;00m\n\u001b[1;32m--> 536\u001b[0m     \u001b[38;5;28;01mreturn\u001b[39;00m linear_constraint(constraint_likes, \u001b[38;5;28mself\u001b[39m\u001b[38;5;241m.\u001b[39mcolumn_names)\n",
      "File \u001b[1;32mc:\\Users\\simon\\anaconda3\\Lib\\site-packages\\patsy\\constraint.py:385\u001b[0m, in \u001b[0;36mlinear_constraint\u001b[1;34m(constraint_like, variable_names)\u001b[0m\n\u001b[0;32m    383\u001b[0m     idx \u001b[38;5;241m=\u001b[39m name\n\u001b[0;32m    384\u001b[0m \u001b[38;5;28;01melse\u001b[39;00m:\n\u001b[1;32m--> 385\u001b[0m     \u001b[38;5;28;01mraise\u001b[39;00m \u001b[38;5;167;01mValueError\u001b[39;00m(\u001b[38;5;124m\"\u001b[39m\u001b[38;5;124munrecognized variable name/index \u001b[39m\u001b[38;5;132;01m%r\u001b[39;00m\u001b[38;5;124m\"\u001b[39m\n\u001b[0;32m    386\u001b[0m                      \u001b[38;5;241m%\u001b[39m (name,))\n\u001b[0;32m    387\u001b[0m \u001b[38;5;28;01mif\u001b[39;00m idx \u001b[38;5;129;01min\u001b[39;00m used:\n\u001b[0;32m    388\u001b[0m     \u001b[38;5;28;01mraise\u001b[39;00m \u001b[38;5;167;01mValueError\u001b[39;00m(\u001b[38;5;124m\"\u001b[39m\u001b[38;5;124mduplicated constraint on \u001b[39m\u001b[38;5;132;01m%r\u001b[39;00m\u001b[38;5;124m\"\u001b[39m\n\u001b[0;32m    389\u001b[0m                      \u001b[38;5;241m%\u001b[39m (variable_names[idx],))\n",
      "\u001b[1;31mValueError\u001b[0m: unrecognized variable name/index 'type'"
     ]
    }
   ],
   "source": [
    "#This just won't work\n",
    "\n",
    "restrictedNov15['Call Spread'] = restrictedNov15['Ask'] - restrictedNov15['Bid']\n",
    "restrictedNov15['Put Spread'] = restrictedNov15['Ask.1'] - restrictedNov15['Bid.1']\n",
    "\n",
    "Y = restrictedNov15[['Call Mid', 'Put Mid']]\n",
    "X = restrictedNov15['Strike']\n",
    "X = sm.add_constant(X)\n",
    "variances = restrictedNov15[['Call Spread', 'Put Spread']] ** 2\n",
    "parity = new_results.params[0] + new_results.params[1] * restrictedNov15['Strike']\n",
    "\n",
    "def loss_function(y_pred):\n",
    "    return (y_pred[0] - Y[0])**2/variances[0] + (y_pred[1] - Y[1])**2/variances[1]\n",
    "\n",
    "constraints = {'type': 'eq', 'fun': lambda params: parity - (params[0] - params[1])}\n",
    "model = sm.GLM(Y, X)\n",
    "result = model.fit_constrained(constraints, initial_guess=[np.zeros(X.shape[1]), np.zeros(X.shape[1])])\n",
    "print(result.summary())\n"
   ]
  }
 ],
 "metadata": {
  "kernelspec": {
   "display_name": "Python 3 (ipykernel)",
   "language": "python",
   "name": "python3"
  },
  "language_info": {
   "codemirror_mode": {
    "name": "ipython",
    "version": 3
   },
   "file_extension": ".py",
   "mimetype": "text/x-python",
   "name": "python",
   "nbconvert_exporter": "python",
   "pygments_lexer": "ipython3",
   "version": "3.11.7"
  }
 },
 "nbformat": 4,
 "nbformat_minor": 2
}
