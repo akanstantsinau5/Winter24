{
 "cells": [
  {
   "cell_type": "code",
   "execution_count": 1,
   "metadata": {},
   "outputs": [
    {
     "name": "stderr",
     "output_type": "stream",
     "text": [
      "/Users/cwx/opt/anaconda3/lib/python3.8/site-packages/pandas/core/computation/expressions.py:20: UserWarning: Pandas requires version '2.7.3' or newer of 'numexpr' (version '2.7.1' currently installed).\n",
      "  from pandas.core.computation.check import NUMEXPR_INSTALLED\n"
     ]
    }
   ],
   "source": [
    "import numpy as np\n",
    "import pandas as pd\n",
    "from scipy.optimize import fsolve\n",
    "import statsmodels.api as sm\n",
    "import matplotlib.pyplot as plt"
   ]
  },
  {
   "cell_type": "code",
   "execution_count": 2,
   "metadata": {},
   "outputs": [],
   "source": [
    "discountVec = np.array(pd.read_excel(\"Homework_7_Data.xlsx\", sheet_name=\"Discount Function\", header=None).values.flatten())\n",
    "volVec = np.array(pd.read_excel(\"Homework_7_Data.xlsx\", sheet_name=\"Volatilities (Sigma)\", header=None)[0].values.flatten())\n",
    "choleskyMatrix = np.array(pd.read_excel(\"Homework_7_Data.xlsx\", sheet_name=\"Cholesky Matrix\", header=None))"
   ]
  },
  {
   "cell_type": "markdown",
   "metadata": {},
   "source": [
    "1. The objective of this homework exercise is to implement the curve model described\n",
    "in class where the risk-neutral dynamics of zero-coupon bonds are given by\n",
    "$dB(t, T_i) = rB(t, T_i)dt + \\sigma(T_i − t)B(t, T_i)dZ_i$\n",
    "where each bond is driven by its own Brownian motion process.\n"
   ]
  },
  {
   "cell_type": "markdown",
   "metadata": {},
   "source": [
    "2. The accompanying spreadsheet has the data for the case. The first sheet has the\n",
    "20 × 20 matrix of correlations among the first 20 zero-coupon bond prices (ignore\n",
    "the first zero-coupon bond price which is assumed to be non-stochastic). The second\n",
    "sheet has the Cholesky decomposition of the correlation matrix. The third sheet has\n",
    "the zero-coupon bond prices (the B(T) function). The fourth sheet has the volatility\n",
    "function (the vector of σ values)."
   ]
  },
  {
   "cell_type": "markdown",
   "metadata": {},
   "source": [
    "3. Following the methodology discussed in class, simulate the evolution of the vector\n",
    "of zero-coupon prices out to 10 years. Ideally, one would want to simulate several\n",
    "thousand paths of the vector of zero-coupon bond prices. We will leave it to you\n",
    "to decide how many paths of the evolution of the zero-coupon bond price vector to\n",
    "simulate."
   ]
  },
  {
   "cell_type": "code",
   "execution_count": 3,
   "metadata": {},
   "outputs": [],
   "source": [
    "class MonteCarlo:\n",
    "    def __init__(self, _discountVec, _volVec, _choleskyMatrix, _num_simulations):\n",
    "        self.disc = _discountVec\n",
    "        self.vol = _volVec\n",
    "        self.cholesky = _choleskyMatrix\n",
    "        self.num = _num_simulations\n",
    "    \n",
    "    def generate_r(self):\n",
    "        dz = self.cholesky @ np.random.normal(0,1,(20,20))\n",
    "        b_arr = np.zeros((20,21))\n",
    "        r_arr = np.zeros(20)\n",
    "        b_arr[:,0] = self.disc\n",
    "        for i in range(0,20):\n",
    "            vol_arr = np.zeros(20)\n",
    "            vol_arr[i:] = self.vol[:20-i]\n",
    "            r = (1/b_arr[i,i]-1)*2\n",
    "            b_arr[:,i+1] = b_arr[:,i]+r*b_arr[:,i]/2+vol_arr*b_arr[:,i]*dz[:,i]\n",
    "            r_arr[i] = r\n",
    "        return r_arr\n",
    "    \n",
    "    def get_sim(self):\n",
    "        r_sim = np.zeros((20,self.num))\n",
    "        for i in range(self.num):\n",
    "            np.random.seed(i)\n",
    "            r_sim[:,i] = self.generate_r()\n",
    "        disc_sim = (1/(1+r_sim/2)).cumprod(axis=0)\n",
    "        return r_sim,disc_sim\n",
    "    \n"
   ]
  },
  {
   "cell_type": "code",
   "execution_count": 4,
   "metadata": {},
   "outputs": [],
   "source": [
    "model = MonteCarlo(discountVec,volVec,choleskyMatrix,10000)\n",
    "r_sim, disc_sim = model.get_sim()"
   ]
  },
  {
   "cell_type": "code",
   "execution_count": 5,
   "metadata": {},
   "outputs": [
    {
     "data": {
      "image/png": "[encoded data removed]",
      "text/plain": [
       "<Figure size 1080x360 with 2 Axes>"
      ]
     },
     "metadata": {
      "needs_background": "light"
     },
     "output_type": "display_data"
    }
   ],
   "source": [
    "plt.figure(figsize=(15,5))\n",
    "plt.subplot(1,2,1)\n",
    "plt.plot(np.arange(0, 10, 0.5),r_sim.mean(axis=1),label='Interest Rate')\n",
    "plt.legend()\n",
    "plt.subplot(1,2,2)\n",
    "plt.plot(np.arange(0.5, 10.5, 0.5),disc_sim.mean(axis=1),label='Discount Factor')\n",
    "plt.legend()\n",
    "plt.show()"
   ]
  },
  {
   "cell_type": "markdown",
   "metadata": {},
   "source": [
    "4. Using the initial B(T) function given in the spreadsheet, solve for the 2-year,\n",
    "3-year, 5-year, and 10-year par rates.\n"
   ]
  },
  {
   "cell_type": "code",
   "execution_count": 6,
   "metadata": {},
   "outputs": [
    {
     "name": "stdout",
     "output_type": "stream",
     "text": [
      "Actual: [0.0602296  0.0620556  0.06398321 0.06669473]\n",
      "Simulation: [0.06015055 0.06201866 0.06417367 0.06732128]\n"
     ]
    }
   ],
   "source": [
    "times = [2, 3, 5, 10]\n",
    "num = 10000\n",
    "par_rates = np.zeros(len(times))\n",
    "par_rates_sim = np.zeros(len(times))\n",
    "\n",
    "def par_rate(maturity, _discountVec):\n",
    "    return 2 * (1 - _discountVec[maturity*2-1])/sum(_discountVec[:maturity*2])\n",
    "\n",
    "for time in times:\n",
    "    par_rates[times.index(time)] = par_rate(time, discountVec)\n",
    "    par_rates_sim[times.index(time)] = np.mean([par_rate(time,disc_sim[:,i]) for i in range(num)])\n",
    "\n",
    "print('Actual:',par_rates)\n",
    "print('Simulation:', par_rates_sim)"
   ]
  },
  {
   "cell_type": "markdown",
   "metadata": {},
   "source": [
    "5. Use the model to find the values of 2-year, 3-year, 5-year, and 10-year caps on Lt,\n",
    "where Lt denotes the six-month rate at time t implied by the six-month zero-coupon\n",
    "bond price B(t, t + 0.50). Set the strike rate of each cap to the par rate identified in\n",
    "the previous question. For simplicity, assume that caplets are semiannual rather than\n",
    "quarterly. Recall that the first caplet is omitted because of the setting in advance\n",
    "feature."
   ]
  },
  {
   "cell_type": "code",
   "execution_count": 7,
   "metadata": {},
   "outputs": [
    {
     "data": {
      "text/plain": [
       "array([0.12892194, 0.12215669, 0.11537063, 0.10641647])"
      ]
     },
     "execution_count": 7,
     "metadata": {},
     "output_type": "execute_result"
    }
   ],
   "source": [
    "cap = np.zeros(len(times))\n",
    "\n",
    "def cap_price(K,r,disc):\n",
    "    cf = (r-K)*0.5\n",
    "    cf = np.where(cf < 0, 0, cf)\n",
    "    return (cf*disc).sum(axis=0).mean()\n",
    "\n",
    "for i in range(len(times)):\n",
    "    cap[i] = cap_price(par_rates[i],r_sim,disc_sim)\n",
    "\n",
    "cap"
   ]
  },
  {
   "cell_type": "markdown",
   "metadata": {},
   "source": [
    "6. Value a 5-year resettable cap with a strike of 0.07 and semiannual caplets. The\n",
    "cashflows from each caplet are $0.50 \\cdot max(0, L_{0.5} − L_{0.0}), 0.50 \\cdot max(0, L_{1.0} − L_{0.50})$, etc.\n",
    "where Lt denotes the six-month rate at time t implied by the six-month zero-coupon\n",
    "bond price B(t, t + 0.50).\n"
   ]
  },
  {
   "cell_type": "code",
   "execution_count": 8,
   "metadata": {},
   "outputs": [
    {
     "data": {
      "text/plain": [
       "0.04815411486370308"
      ]
     },
     "execution_count": 8,
     "metadata": {},
     "output_type": "execute_result"
    }
   ],
   "source": [
    "def reset_cap_price(T,K,r,disc):\n",
    "    cf = 0.5 * np.diff(r,axis=0)\n",
    "    cf = np.where(cf<0,0,cf)\n",
    "    cf2 = (r[T*2-1] - K)*0.5\n",
    "    cf2 = np.where(cf2<0,0,cf2)\n",
    "    return ((cf*disc[:-1])[:T*2].sum(axis=0)+cf2*disc[T*2-1]).mean()\n",
    "\n",
    "reset_cap_price(5,0.07,r_sim,disc_sim)"
   ]
  },
  {
   "cell_type": "markdown",
   "metadata": {},
   "source": [
    "7. Value a 5-year CMS cap with a strike of 0.05 (semiannual caplets for simplicity).\n",
    "The cash flow for the caplet expiring at time t + 0.50 is 0.50 $max(0, CMS_t − .05)$,\n",
    "where CMSt denotes the 5-year par rate implied by the vector of zero-coupon bond\n",
    "prices at time t. Note that the first caplet is omitted because of the setting in\n",
    "advance feature."
   ]
  },
  {
   "cell_type": "code",
   "execution_count": 9,
   "metadata": {},
   "outputs": [
    {
     "data": {
      "text/plain": [
       "0.08015274996819785"
      ]
     },
     "execution_count": 9,
     "metadata": {},
     "output_type": "execute_result"
    }
   ],
   "source": [
    "def cms_cap_price(maturity,disc):\n",
    "    cms = np.zeros((maturity*2,disc.shape[1]))\n",
    "    for t in range(maturity*2):\n",
    "        cms[t,:] = 2*(disc[t,:]-disc[t+maturity*2,:])/(disc[t:(t+maturity*2)]).sum(axis=0)\n",
    "    cf = 0.5*(cms-0.05)\n",
    "    cf = np.where(cf<0,0,cf)\n",
    "    return (cf*disc[:5*2]).sum(axis=0).mean()\n",
    "\n",
    "cms_cap_price(5,disc_sim)"
   ]
  }
 ],
 "metadata": {
  "kernelspec": {
   "display_name": "base",
   "language": "python",
   "name": "python3"
  },
  "language_info": {
   "codemirror_mode": {
    "name": "ipython",
    "version": 3
   },
   "file_extension": ".py",
   "mimetype": "text/x-python",
   "name": "python",
   "nbconvert_exporter": "python",
   "pygments_lexer": "ipython3",
   "version": "3.8.3"
  }
 },
 "nbformat": 4,
 "nbformat_minor": 2
}
