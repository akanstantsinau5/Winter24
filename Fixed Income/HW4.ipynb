{
 "cells": [
  {
   "cell_type": "markdown",
   "metadata": {},
   "source": [
    "## Homework 4\n",
    "### Cohort 1 Group7\n",
    "#### Members: Simon Geller, Alex Kanstantsinau, Weixia Cheng, Mengxiao Li, Darshan Parvadiya"
   ]
  },
  {
   "cell_type": "code",
   "execution_count": 2,
   "metadata": {},
   "outputs": [],
   "source": [
    "import numpy as np\n",
    "import pandas as pd\n",
    "from IPython.display import Markdown as md"
   ]
  },
  {
   "cell_type": "code",
   "execution_count": 3,
   "metadata": {},
   "outputs": [
    {
     "data": {
      "text/html": [
       "<div>\n",
       "<style scoped>\n",
       "    .dataframe tbody tr th:only-of-type {\n",
       "        vertical-align: middle;\n",
       "    }\n",
       "\n",
       "    .dataframe tbody tr th {\n",
       "        vertical-align: top;\n",
       "    }\n",
       "\n",
       "    .dataframe thead th {\n",
       "        text-align: right;\n",
       "    }\n",
       "</style>\n",
       "<table border=\"1\" class=\"dataframe\">\n",
       "  <thead>\n",
       "    <tr style=\"text-align: right;\">\n",
       "      <th></th>\n",
       "      <th>0</th>\n",
       "      <th>1</th>\n",
       "      <th>2</th>\n",
       "      <th>3</th>\n",
       "      <th>4</th>\n",
       "      <th>5</th>\n",
       "      <th>6</th>\n",
       "      <th>7</th>\n",
       "      <th>8</th>\n",
       "      <th>9</th>\n",
       "      <th>...</th>\n",
       "      <th>190</th>\n",
       "      <th>191</th>\n",
       "      <th>192</th>\n",
       "      <th>193</th>\n",
       "      <th>194</th>\n",
       "      <th>195</th>\n",
       "      <th>196</th>\n",
       "      <th>197</th>\n",
       "      <th>198</th>\n",
       "      <th>199</th>\n",
       "    </tr>\n",
       "  </thead>\n",
       "  <tbody>\n",
       "    <tr>\n",
       "      <th>0</th>\n",
       "      <td>0.030000</td>\n",
       "      <td>0.030000</td>\n",
       "      <td>0.030000</td>\n",
       "      <td>0.030000</td>\n",
       "      <td>0.030000</td>\n",
       "      <td>0.030000</td>\n",
       "      <td>0.030000</td>\n",
       "      <td>0.030000</td>\n",
       "      <td>0.030000</td>\n",
       "      <td>0.030000</td>\n",
       "      <td>...</td>\n",
       "      <td>0.030000</td>\n",
       "      <td>0.030000</td>\n",
       "      <td>0.030000</td>\n",
       "      <td>0.030000</td>\n",
       "      <td>0.030000</td>\n",
       "      <td>0.030000</td>\n",
       "      <td>0.030000</td>\n",
       "      <td>0.030000</td>\n",
       "      <td>0.030000</td>\n",
       "      <td>0.030000</td>\n",
       "    </tr>\n",
       "    <tr>\n",
       "      <th>1</th>\n",
       "      <td>0.034538</td>\n",
       "      <td>0.044079</td>\n",
       "      <td>0.023008</td>\n",
       "      <td>0.032062</td>\n",
       "      <td>0.028467</td>\n",
       "      <td>0.024166</td>\n",
       "      <td>0.029572</td>\n",
       "      <td>0.035916</td>\n",
       "      <td>0.022969</td>\n",
       "      <td>0.031206</td>\n",
       "      <td>...</td>\n",
       "      <td>0.035436</td>\n",
       "      <td>0.032518</td>\n",
       "      <td>0.035770</td>\n",
       "      <td>0.035488</td>\n",
       "      <td>0.031158</td>\n",
       "      <td>0.034946</td>\n",
       "      <td>0.033237</td>\n",
       "      <td>0.035058</td>\n",
       "      <td>0.026699</td>\n",
       "      <td>0.035858</td>\n",
       "    </tr>\n",
       "    <tr>\n",
       "      <th>2</th>\n",
       "      <td>0.036521</td>\n",
       "      <td>0.040815</td>\n",
       "      <td>0.016484</td>\n",
       "      <td>0.031301</td>\n",
       "      <td>0.040712</td>\n",
       "      <td>0.038415</td>\n",
       "      <td>0.041278</td>\n",
       "      <td>0.028297</td>\n",
       "      <td>0.032999</td>\n",
       "      <td>0.020541</td>\n",
       "      <td>...</td>\n",
       "      <td>0.026117</td>\n",
       "      <td>0.037780</td>\n",
       "      <td>0.040124</td>\n",
       "      <td>0.022153</td>\n",
       "      <td>0.024437</td>\n",
       "      <td>0.042816</td>\n",
       "      <td>0.041074</td>\n",
       "      <td>0.040484</td>\n",
       "      <td>0.034786</td>\n",
       "      <td>0.032768</td>\n",
       "    </tr>\n",
       "    <tr>\n",
       "      <th>3</th>\n",
       "      <td>0.032033</td>\n",
       "      <td>0.034202</td>\n",
       "      <td>0.026603</td>\n",
       "      <td>0.027659</td>\n",
       "      <td>0.038105</td>\n",
       "      <td>0.030390</td>\n",
       "      <td>0.037565</td>\n",
       "      <td>0.041517</td>\n",
       "      <td>0.037384</td>\n",
       "      <td>0.026227</td>\n",
       "      <td>...</td>\n",
       "      <td>0.028123</td>\n",
       "      <td>0.033549</td>\n",
       "      <td>0.038457</td>\n",
       "      <td>0.016132</td>\n",
       "      <td>0.029230</td>\n",
       "      <td>0.043301</td>\n",
       "      <td>0.045932</td>\n",
       "      <td>0.037863</td>\n",
       "      <td>0.029896</td>\n",
       "      <td>0.041746</td>\n",
       "    </tr>\n",
       "    <tr>\n",
       "      <th>4</th>\n",
       "      <td>0.032885</td>\n",
       "      <td>0.030071</td>\n",
       "      <td>0.045279</td>\n",
       "      <td>0.024445</td>\n",
       "      <td>0.037651</td>\n",
       "      <td>0.025908</td>\n",
       "      <td>0.036344</td>\n",
       "      <td>0.029626</td>\n",
       "      <td>0.046883</td>\n",
       "      <td>0.030435</td>\n",
       "      <td>...</td>\n",
       "      <td>0.023506</td>\n",
       "      <td>0.037130</td>\n",
       "      <td>0.035146</td>\n",
       "      <td>0.030222</td>\n",
       "      <td>0.035417</td>\n",
       "      <td>0.043595</td>\n",
       "      <td>0.047138</td>\n",
       "      <td>0.036093</td>\n",
       "      <td>0.048631</td>\n",
       "      <td>0.023957</td>\n",
       "    </tr>\n",
       "  </tbody>\n",
       "</table>\n",
       "<p>5 rows × 200 columns</p>\n",
       "</div>"
      ],
      "text/plain": [
       "        0         1         2         3         4         5         6    \\\n",
       "0  0.030000  0.030000  0.030000  0.030000  0.030000  0.030000  0.030000   \n",
       "1  0.034538  0.044079  0.023008  0.032062  0.028467  0.024166  0.029572   \n",
       "2  0.036521  0.040815  0.016484  0.031301  0.040712  0.038415  0.041278   \n",
       "3  0.032033  0.034202  0.026603  0.027659  0.038105  0.030390  0.037565   \n",
       "4  0.032885  0.030071  0.045279  0.024445  0.037651  0.025908  0.036344   \n",
       "\n",
       "        7         8         9    ...       190       191       192       193  \\\n",
       "0  0.030000  0.030000  0.030000  ...  0.030000  0.030000  0.030000  0.030000   \n",
       "1  0.035916  0.022969  0.031206  ...  0.035436  0.032518  0.035770  0.035488   \n",
       "2  0.028297  0.032999  0.020541  ...  0.026117  0.037780  0.040124  0.022153   \n",
       "3  0.041517  0.037384  0.026227  ...  0.028123  0.033549  0.038457  0.016132   \n",
       "4  0.029626  0.046883  0.030435  ...  0.023506  0.037130  0.035146  0.030222   \n",
       "\n",
       "        194       195       196       197       198       199  \n",
       "0  0.030000  0.030000  0.030000  0.030000  0.030000  0.030000  \n",
       "1  0.031158  0.034946  0.033237  0.035058  0.026699  0.035858  \n",
       "2  0.024437  0.042816  0.041074  0.040484  0.034786  0.032768  \n",
       "3  0.029230  0.043301  0.045932  0.037863  0.029896  0.041746  \n",
       "4  0.035417  0.043595  0.047138  0.036093  0.048631  0.023957  \n",
       "\n",
       "[5 rows x 200 columns]"
      ]
     },
     "execution_count": 3,
     "metadata": {},
     "output_type": "execute_result"
    }
   ],
   "source": [
    "df = pd.read_excel(\"Homework_4_Data_Paths.xlsx\", skiprows=4, sheet_name=\"Sheet1\")\n",
    "df.rename(columns={df.columns[0]: '0', df.columns[1]: '1'}, inplace=True)\n",
    "df = df.transpose()\n",
    "df.head()"
   ]
  },
  {
   "cell_type": "markdown",
   "metadata": {},
   "source": [
    "1. Compute the average short-term interest rate over each path over the next ten\n",
    "years (don’t forget to include the current value in the average) and use these values\n",
    "to solve for the current prices of zero-coupon bonds with maturities ranging from\n",
    "one to ten years (D(1), D(2), D(3), . . . , D(10)).\n"
   ]
  },
  {
   "cell_type": "code",
   "execution_count": 4,
   "metadata": {},
   "outputs": [
    {
     "name": "stdout",
     "output_type": "stream",
     "text": [
      "0    0.968848\n",
      "1    0.936725\n",
      "2    0.904764\n",
      "3    0.873446\n",
      "4    0.843000\n",
      "5    0.813496\n",
      "6    0.784974\n",
      "7    0.757398\n",
      "8    0.730767\n",
      "9    0.705043\n",
      "dtype: float64\n"
     ]
    }
   ],
   "source": [
    "def get_discount(spot_ls):\n",
    "    discount_ls = []\n",
    "    for i in range(len(spot_ls)-1):\n",
    "        avg_spot = spot_ls[:i+2].mean()\n",
    "        d = np.exp(-avg_spot*(i+1))\n",
    "        discount_ls.append(d)\n",
    "    return discount_ls\n",
    "\n",
    "discount_arr = np.zeros([10,200])\n",
    "for index, column in df.items():\n",
    "    discount_arr[:,index] = get_discount(column)\n",
    "\n",
    "discount = np.mean(discount_arr,axis=1)\n",
    "print(pd.Series(discount))"
   ]
  },
  {
   "cell_type": "markdown",
   "metadata": {},
   "source": [
    "2. Solve for the price of a five-year interest rate cap on the short-term rate with a\n",
    "strike rate of .037. An interest rate cap consists of a series of five individual caplets,\n",
    "one for each of the five annual dates. The cash flow for a caplet with maturity T is\n",
    "$max(0, r_T − K)$, where $r_T$ is the short-term rate at time T and K is the strike rate.\n"
   ]
  },
  {
   "cell_type": "code",
   "execution_count": 5,
   "metadata": {},
   "outputs": [],
   "source": [
    "class Rate_Option:\n",
    "    def __init__(self, _maturity, _strike, _type):\n",
    "        self.maturity = _maturity\n",
    "        self.strike = _strike\n",
    "        self.type = _type\n",
    "        self.price = self.valuation()\n",
    "    def valuation(self):\n",
    "        pv_arr = np.zeros([200,self.maturity])\n",
    "        for i in range(self.maturity):\n",
    "            row = df.iloc[i+1]\n",
    "            if self.type == \"Call\":\n",
    "                cashflow = np.maximum(row-self.strike, 0)*100\n",
    "            if self.type == \"Put\":\n",
    "                cashflow = np.maximum(self.strike-row, 0)*100\n",
    "            pv = cashflow * discount_arr[i,:]\n",
    "            pv_arr[:,i] = pv\n",
    "        price = np.mean(np.sum(pv_arr,axis=1))\n",
    "        return price"
   ]
  },
  {
   "cell_type": "code",
   "execution_count": 6,
   "metadata": {},
   "outputs": [
    {
     "name": "stdout",
     "output_type": "stream",
     "text": [
      "The calculated price for C(5, 0.037) is: 0.98612\n"
     ]
    }
   ],
   "source": [
    "Cap = Rate_Option(5, 0.037, \"Call\")\n",
    "print(f\"The calculated price for C(5, 0.037) is: {Cap.price:.5f}\")"
   ]
  },
  {
   "cell_type": "markdown",
   "metadata": {},
   "source": [
    "3. Solve for the price of a five-year interest rate floor on the short-term rate with\n",
    "a strike rate of .020. A floor consists of a series of five individual floorlets, one\n",
    "for each of the five annual dates. The cash flow for a floorlet with maturity T is\n",
    "max(0, K − rT ) using the same notation as in problem 2.\n"
   ]
  },
  {
   "cell_type": "code",
   "execution_count": 7,
   "metadata": {},
   "outputs": [
    {
     "name": "stdout",
     "output_type": "stream",
     "text": [
      "The calculated price for P(5, 0.02) is: 0.02738\n"
     ]
    }
   ],
   "source": [
    "Floor = Rate_Option(5, 0.02, \"Put\")\n",
    "print(f\"The calculated price for P(5, 0.02) is: {Floor.price:.5f}\")"
   ]
  },
  {
   "cell_type": "markdown",
   "metadata": {},
   "source": [
    "4. Solve for the price of a 10-year range accrual note. This is a note with a notional\n",
    "of $100. Each year, the note pays a coupon equal to the short-term rate (set at the\n",
    "end of the year) provided the short-term rate is between 2 and 4 percent, otherwise\n",
    "it pays nothing.\n"
   ]
  },
  {
   "cell_type": "code",
   "execution_count": 8,
   "metadata": {},
   "outputs": [
    {
     "name": "stdout",
     "output_type": "stream",
     "text": [
      "The calculated price for AN(5, 0.02, 0.04) is:  18.4989\n"
     ]
    }
   ],
   "source": [
    "l,h = 0.02,0.04\n",
    "range_df = df.applymap(lambda x: x if l <= x <= h else 0)\n",
    "pv = range_df.iloc[1:] * discount_arr\n",
    "price = np.mean(np.sum(pv,axis=0))*100\n",
    "print(f\"The calculated price for AN(5, 0.02, 0.04) is: {price: .4f}\")"
   ]
  },
  {
   "cell_type": "markdown",
   "metadata": {},
   "source": [
    "5. Solve for the price of a five-year inverse floater with a notional amount of 100\n",
    "that pays two times the short-term rate (set at the beginning of each year) minus\n",
    "6 percent. Thus, if the short-term rate is 4 percent at the beginning of a year, the\n",
    "cash flow at the end of the year would be 2 × 4 - 6 = 2 per $100 notional.\n"
   ]
  },
  {
   "cell_type": "code",
   "execution_count": 9,
   "metadata": {},
   "outputs": [
    {
     "name": "stdout",
     "output_type": "stream",
     "text": [
      "The calculated price for $IF(5, 0.06)$ is: 4.4648\n"
     ]
    }
   ],
   "source": [
    "maturity = 5\n",
    "inverse_df = df.iloc[1:maturity+1].applymap(lambda x: 2*x-0.06)\n",
    "pv = inverse_df * discount_arr[:maturity,:]\n",
    "price = np.mean(np.sum(pv,axis=0))*100\n",
    "print(f'The calculated price for $IF(5, 0.06)$ is: {price:.4f}')"
   ]
  },
  {
   "cell_type": "markdown",
   "metadata": {},
   "source": [
    "6. Which is more valuable? A five-year European call option (caplet) on the short-term interest rate or a five-year European call option on the average short-term\n",
    "interest rate during the five years? Assume that the strike rate is 0.04."
   ]
  },
  {
   "cell_type": "code",
   "execution_count": 11,
   "metadata": {},
   "outputs": [],
   "source": [
    "class Call_Option:\n",
    "    def __init__(self, _maturity, _strike, _type):\n",
    "        self.maturity = _maturity\n",
    "        self.strike = _strike\n",
    "        self.type = _type\n",
    "        self.price = self.valuation()\n",
    "    def valuation(self):\n",
    "        if self.type == \"Avg\":\n",
    "            rate = np.mean(df.iloc[:self.maturity+1],axis=0)\n",
    "        if self.type == \"Reg\":\n",
    "            rate = df.iloc[self.maturity]\n",
    "        cashflow = np.maximum(rate-self.strike, 0)*100\n",
    "        pv = cashflow * discount_arr[self.maturity-1,:]\n",
    "        return pv.mean()"
   ]
  },
  {
   "cell_type": "code",
   "execution_count": 12,
   "metadata": {},
   "outputs": [
    {
     "name": "stdout",
     "output_type": "stream",
     "text": [
      "The calculated price for $AvgCall(5, 0.04)$ is: 0.0135\n",
      "The calculated price for $RegCall(5, 0.04)$ is: 0.1392\n"
     ]
    }
   ],
   "source": [
    "Avg_call = Call_Option(5,0.04,'Avg')\n",
    "Reg_call = Call_Option(5,0.04,'Reg')\n",
    "print(f'The calculated price for $AvgCall(5, 0.04)$ is: {Avg_call.price:.4f}')\n",
    "print(f'The calculated price for $RegCall(5, 0.04)$ is: {Reg_call.price:.4f}')"
   ]
  },
  {
   "cell_type": "code",
   "execution_count": null,
   "metadata": {},
   "outputs": [],
   "source": []
  }
 ],
 "metadata": {
  "kernelspec": {
   "display_name": "Python 3",
   "language": "python",
   "name": "python3"
  },
  "language_info": {
   "codemirror_mode": {
    "name": "ipython",
    "version": 3
   },
   "file_extension": ".py",
   "mimetype": "text/x-python",
   "name": "python",
   "nbconvert_exporter": "python",
   "pygments_lexer": "ipython3",
   "version": "3.8.3"
  }
 },
 "nbformat": 4,
 "nbformat_minor": 2
}
