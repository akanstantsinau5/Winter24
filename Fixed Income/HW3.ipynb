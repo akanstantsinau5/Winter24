{
 "cells": [
  {
   "cell_type": "markdown",
   "metadata": {},
   "source": [
    "## Homework 3\n",
    "### Cohort 1 Group7\n",
    "#### Members: Simon Geller, Alex Kanstantsinau, Weixia Cheng, Mengxiao Li, Darshan Parvadiya"
   ]
  },
  {
   "cell_type": "code",
   "execution_count": 1,
   "metadata": {},
   "outputs": [],
   "source": [
    "import numpy as np\n",
    "import pandas as pd\n",
    "from scipy.optimize import fsolve, root\n",
    "import statsmodels.api as sm\n",
    "import matplotlib.pyplot as plt"
   ]
  },
  {
   "cell_type": "markdown",
   "metadata": {},
   "source": [
    "#### Note\n",
    "We do not use the formula directly to calculate prices (because it requires that the spot curve be straight), we discount each period's coupon using the corresponding spot rate."
   ]
  },
  {
   "cell_type": "code",
   "execution_count": 2,
   "metadata": {},
   "outputs": [],
   "source": [
    "#Loading the Discount Rates\n",
    "spot_df = pd.read_excel(\"Homework_3_Data.xlsx\", skiprows=2)\n",
    "spot_df.columns = [\"Time\", \"Discount\"]\n",
    "spot_df['spot rate'] = ((1/spot_df['Discount'])**(1/spot_df['Time']/2)-1)*2\n",
    "\n",
    "#Bond Class with required functionalities\n",
    "class Bond:\n",
    "    def __init__(self, maturity, coupon_rate):\n",
    "        self.maturity = maturity\n",
    "        self.coupon_rate = coupon_rate\n",
    "    \n",
    "    def price(self):\n",
    "        time = 0\n",
    "        price = 0\n",
    "        while spot_df.iloc[time, 0] < self.maturity:\n",
    "            price += 50 * self.coupon_rate * spot_df.iloc[time, 1]\n",
    "            time += 1\n",
    "        price += 100 * (1 + 0.5*self.coupon_rate) * spot_df.iloc[time, 1]\n",
    "        return price\n",
    "    def DV01(self):\n",
    "        fdif_bond = Bond(self.maturity, self.coupon_rate + 0.0001)\n",
    "        return (fdif_bond.price() - self.price()).flatten()[0]\n",
    "    def Macauley(self):\n",
    "        duration = 0\n",
    "        time = 0\n",
    "        while spot_df.iloc[time, 0] < self.maturity:\n",
    "            duration += 50 * self.coupon_rate * spot_df.iloc[time, 1] * spot_df.iloc[time, 0]\n",
    "            time += 1\n",
    "        duration += 100 * (1+0.5*self.coupon_rate) * spot_df.iloc[time, 1] * self.maturity\n",
    "        duration /= self.price()\n",
    "        return duration.flatten()[0]\n",
    "    def Modified(self):\n",
    "        return (self.Macauley()/(1+self.coupon_rate/2)).flatten()[0]\n",
    "    def convexity(self):\n",
    "        convexity_value = 0\n",
    "        time = 0\n",
    "        while spot_df.iloc[time, 0] < self.maturity:\n",
    "            t = spot_df.iloc[time, 0]\n",
    "            convexity_value += 2*t * (2*t+1) * 50 * self.coupon_rate * spot_df.iloc[time, 1]\n",
    "            time += 1\n",
    "        t = spot_df.iloc[time, 0]\n",
    "        convexity_value += 2*t * (2*t+1) * 100 * (1 + 0.5 * self.coupon_rate) * spot_df.iloc[time, 1]\n",
    "        convexity_value /= (4 * self.price() * (1 + self.coupon_rate/2) ** 2)\n",
    "        return convexity_value.flatten()[0]\n",
    "    def second_order_shift(self, yield_change):\n",
    "        return -self.Modified()*yield_change*100 + 0.5*self.convexity()*(yield_change**2)*100\n",
    "    def actual_shift(self, yield_change):\n",
    "        time = 0\n",
    "        price = 0\n",
    "        while spot_df.iloc[time, 0] < self.maturity:\n",
    "            price += 50 * self.coupon_rate * (1+spot_df.iloc[time, 2]/2+yield_change/2)**(-time-1)\n",
    "            time += 1\n",
    "        price += 100 * (1 + 0.5*self.coupon_rate) * (1+spot_df.iloc[time, 2]/2+yield_change/2)**(-time-1)\n",
    "        return price - self.price()"
   ]
  },
  {
   "cell_type": "markdown",
   "metadata": {},
   "source": [
    "1. Using the spot curve in the accompanying spreadsheet, compute the par rates for\n",
    "bonds with maturities of 1, 2, 3, . . ., 10 years.\n"
   ]
  },
  {
   "cell_type": "code",
   "execution_count": 3,
   "metadata": {},
   "outputs": [
    {
     "data": {
      "text/plain": [
       "0    0.030339\n",
       "1    0.033504\n",
       "2    0.035747\n",
       "3    0.037323\n",
       "4    0.038441\n",
       "5    0.039265\n",
       "6    0.039920\n",
       "7    0.040499\n",
       "8    0.041063\n",
       "9    0.041644\n",
       "dtype: float64"
      ]
     },
     "execution_count": 3,
     "metadata": {},
     "output_type": "execute_result"
    }
   ],
   "source": [
    "# Method 1 use formula\n",
    "spot_df['Discount cums'] = spot_df['Discount'].cumsum()\n",
    "spot_df['Par Rate'] = 2*(1-1*spot_df['Discount'])/spot_df['Discount cums']\n",
    "\n",
    "maturities = range(1, 11)\n",
    "bonds = []\n",
    "par_rates = np.zeros(10)\n",
    "for maturity in maturities:\n",
    "    rate = spot_df.loc[maturity*2-1,'Par Rate']\n",
    "    bonds.append(Bond(maturity, rate))\n",
    "    par_rates[maturity - 1] = rate  \n",
    "\n",
    "pd.Series(par_rates)"
   ]
  },
  {
   "cell_type": "code",
   "execution_count": 4,
   "metadata": {},
   "outputs": [
    {
     "data": {
      "text/plain": [
       "0    0.030339\n",
       "1    0.033504\n",
       "2    0.035747\n",
       "3    0.037323\n",
       "4    0.038441\n",
       "5    0.039265\n",
       "6    0.039920\n",
       "7    0.040499\n",
       "8    0.041063\n",
       "9    0.041644\n",
       "dtype: float64"
      ]
     },
     "execution_count": 4,
     "metadata": {},
     "output_type": "execute_result"
    }
   ],
   "source": [
    "# Method 2 solve IRR\n",
    "def par_rate(maturity):\n",
    "    def equation_to_solve(coupon_rate):\n",
    "        bond = Bond(maturity, coupon_rate)  \n",
    "        return 100 - bond.price()\n",
    "    par_rate = fsolve(equation_to_solve, x0=0.01)\n",
    "    return par_rate.flatten()[0]\n",
    "\n",
    "maturities = range(1, 11)\n",
    "bonds = []\n",
    "par_rates = np.zeros(10)\n",
    "for maturity in maturities:\n",
    "    rate = par_rate(maturity)\n",
    "    bonds.append(Bond(maturity, rate))\n",
    "    par_rates[maturity - 1] = rate  \n",
    "\n",
    "pd.Series(par_rates)"
   ]
  },
  {
   "cell_type": "markdown",
   "metadata": {},
   "source": [
    "2. Compute the DV01 for each of these 10 par bonds.\n"
   ]
  },
  {
   "cell_type": "code",
   "execution_count": 5,
   "metadata": {},
   "outputs": [
    {
     "data": {
      "text/plain": [
       "0    0.009782\n",
       "1    0.019227\n",
       "2    0.028307\n",
       "3    0.037018\n",
       "4    0.045364\n",
       "5    0.053356\n",
       "6    0.061005\n",
       "7    0.068321\n",
       "8    0.075309\n",
       "9    0.081976\n",
       "dtype: float64"
      ]
     },
     "execution_count": 5,
     "metadata": {},
     "output_type": "execute_result"
    }
   ],
   "source": [
    "dv01s = []\n",
    "for bond in bonds:\n",
    "    dv01s.append(bond.DV01())\n",
    "    \n",
    "pd.Series(dv01s)"
   ]
  },
  {
   "cell_type": "markdown",
   "metadata": {},
   "source": [
    "3. Compute the Macauley and modified durations for each of these 10 par bonds.\n"
   ]
  },
  {
   "cell_type": "code",
   "execution_count": 6,
   "metadata": {},
   "outputs": [
    {
     "data": {
      "text/plain": [
       "0    0.992521\n",
       "1    1.950982\n",
       "2    2.870774\n",
       "3    3.751211\n",
       "4    4.593355\n",
       "5    5.398591\n",
       "6    6.167829\n",
       "7    6.901201\n",
       "8    7.598125\n",
       "9    8.257624\n",
       "dtype: float64"
      ]
     },
     "execution_count": 6,
     "metadata": {},
     "output_type": "execute_result"
    }
   ],
   "source": [
    "macauleys = []\n",
    "modifieds = []\n",
    "for bond in bonds:\n",
    "    macauleys.append(bond.Macauley())\n",
    "    modifieds.append(bond.Modified())\n",
    "\n",
    "pd.Series(macauleys)"
   ]
  },
  {
   "cell_type": "code",
   "execution_count": 7,
   "metadata": {},
   "outputs": [
    {
     "data": {
      "text/plain": [
       "0    0.977690\n",
       "1    1.918838\n",
       "2    2.820364\n",
       "3    3.682489\n",
       "4    4.506734\n",
       "5    5.294645\n",
       "6    6.047127\n",
       "7    6.764227\n",
       "8    7.445265\n",
       "9    8.089190\n",
       "dtype: float64"
      ]
     },
     "execution_count": 7,
     "metadata": {},
     "output_type": "execute_result"
    }
   ],
   "source": [
    "pd.Series(modifieds)"
   ]
  },
  {
   "cell_type": "markdown",
   "metadata": {},
   "source": [
    "4. Assume that you have a $100 position in a 5-year par bond. What position in\n",
    "2-year and 10-year par bonds would be needed to hedge the 5-year position against\n",
    "parallel shifts in the term structure?\n",
    "Demonstrate that your answer works by showing how price and reinvestment risk\n",
    "offset each other if there is an immediate one-time parallel shift in the yield curve\n",
    "immediately after putting on the position.\n"
   ]
  },
  {
   "cell_type": "code",
   "execution_count": 8,
   "metadata": {},
   "outputs": [
    {
     "name": "stdout",
     "output_type": "stream",
     "text": [
      "The portfolio consists of 0.5810 2-year bonds and 0.4190 10-year bonds\n"
     ]
    }
   ],
   "source": [
    "maturities = [2-1, 5-1, 10-1]\n",
    "MCs = [macauleys[maturity] for maturity in maturities]\n",
    "\n",
    "alpha = (MCs[1] - MCs[2])/(MCs[0] - MCs[2])\n",
    "weights = np.array([alpha, 1-alpha])\n",
    "print(f\"The portfolio consists of {alpha:.4f} 2-year bonds and {1-alpha:.4f} 10-year bonds\")"
   ]
  },
  {
   "cell_type": "code",
   "execution_count": 9,
   "metadata": {},
   "outputs": [
    {
     "data": {
      "text/html": [
       "<div>\n",
       "<style scoped>\n",
       "    .dataframe tbody tr th:only-of-type {\n",
       "        vertical-align: middle;\n",
       "    }\n",
       "\n",
       "    .dataframe tbody tr th {\n",
       "        vertical-align: top;\n",
       "    }\n",
       "\n",
       "    .dataframe thead th {\n",
       "        text-align: right;\n",
       "    }\n",
       "</style>\n",
       "<table border=\"1\" class=\"dataframe\">\n",
       "  <thead>\n",
       "    <tr style=\"text-align: right;\">\n",
       "      <th></th>\n",
       "      <th>yield shift</th>\n",
       "      <th>5 year bond</th>\n",
       "      <th>2&amp;10 year bond</th>\n",
       "      <th>delta</th>\n",
       "    </tr>\n",
       "  </thead>\n",
       "  <tbody>\n",
       "    <tr>\n",
       "      <th>0</th>\n",
       "      <td>-0.010</td>\n",
       "      <td>104.627142</td>\n",
       "      <td>104.686388</td>\n",
       "      <td>5.924624e-02</td>\n",
       "    </tr>\n",
       "    <tr>\n",
       "      <th>1</th>\n",
       "      <td>-0.008</td>\n",
       "      <td>103.682148</td>\n",
       "      <td>103.719170</td>\n",
       "      <td>3.702211e-02</td>\n",
       "    </tr>\n",
       "    <tr>\n",
       "      <th>2</th>\n",
       "      <td>-0.006</td>\n",
       "      <td>102.747051</td>\n",
       "      <td>102.767219</td>\n",
       "      <td>2.016769e-02</td>\n",
       "    </tr>\n",
       "    <tr>\n",
       "      <th>3</th>\n",
       "      <td>-0.004</td>\n",
       "      <td>101.821735</td>\n",
       "      <td>101.830234</td>\n",
       "      <td>8.498210e-03</td>\n",
       "    </tr>\n",
       "    <tr>\n",
       "      <th>4</th>\n",
       "      <td>-0.002</td>\n",
       "      <td>100.906089</td>\n",
       "      <td>100.907923</td>\n",
       "      <td>1.833936e-03</td>\n",
       "    </tr>\n",
       "    <tr>\n",
       "      <th>5</th>\n",
       "      <td>0.000</td>\n",
       "      <td>100.000000</td>\n",
       "      <td>100.000000</td>\n",
       "      <td>4.263256e-14</td>\n",
       "    </tr>\n",
       "    <tr>\n",
       "      <th>6</th>\n",
       "      <td>0.002</td>\n",
       "      <td>99.103358</td>\n",
       "      <td>99.106184</td>\n",
       "      <td>2.826295e-03</td>\n",
       "    </tr>\n",
       "    <tr>\n",
       "      <th>7</th>\n",
       "      <td>0.004</td>\n",
       "      <td>98.216054</td>\n",
       "      <td>98.226201</td>\n",
       "      <td>1.014735e-02</td>\n",
       "    </tr>\n",
       "    <tr>\n",
       "      <th>8</th>\n",
       "      <td>0.006</td>\n",
       "      <td>97.337980</td>\n",
       "      <td>97.359782</td>\n",
       "      <td>2.180222e-02</td>\n",
       "    </tr>\n",
       "    <tr>\n",
       "      <th>9</th>\n",
       "      <td>0.008</td>\n",
       "      <td>96.469031</td>\n",
       "      <td>96.506665</td>\n",
       "      <td>3.763436e-02</td>\n",
       "    </tr>\n",
       "    <tr>\n",
       "      <th>10</th>\n",
       "      <td>0.010</td>\n",
       "      <td>95.609101</td>\n",
       "      <td>95.666593</td>\n",
       "      <td>5.749150e-02</td>\n",
       "    </tr>\n",
       "  </tbody>\n",
       "</table>\n",
       "</div>"
      ],
      "text/plain": [
       "    yield shift  5 year bond  2&10 year bond         delta\n",
       "0        -0.010   104.627142      104.686388  5.924624e-02\n",
       "1        -0.008   103.682148      103.719170  3.702211e-02\n",
       "2        -0.006   102.747051      102.767219  2.016769e-02\n",
       "3        -0.004   101.821735      101.830234  8.498210e-03\n",
       "4        -0.002   100.906089      100.907923  1.833936e-03\n",
       "5         0.000   100.000000      100.000000  4.263256e-14\n",
       "6         0.002    99.103358       99.106184  2.826295e-03\n",
       "7         0.004    98.216054       98.226201  1.014735e-02\n",
       "8         0.006    97.337980       97.359782  2.180222e-02\n",
       "9         0.008    96.469031       96.506665  3.763436e-02\n",
       "10        0.010    95.609101       95.666593  5.749150e-02"
      ]
     },
     "execution_count": 9,
     "metadata": {},
     "output_type": "execute_result"
    }
   ],
   "source": [
    "bond1,bond2,shift = [],[],[]\n",
    "for i in range(-5,6,1):\n",
    "    delta = i/500\n",
    "    new_price_5 = bonds[4].actual_shift(delta)+bonds[4].price()\n",
    "    new_price_2 = bonds[1].actual_shift(delta)+bonds[1].price()\n",
    "    new_price_10 = bonds[9].actual_shift(delta)+bonds[9].price()\n",
    "    prices = np.array([new_price_2,new_price_10])\n",
    "    bond1.append(new_price_5)\n",
    "    bond2.append(np.dot(weights,prices))\n",
    "    shift.append(delta)\n",
    "\n",
    "data = {\n",
    "    'yield shift': shift,\n",
    "    '5 year bond': bond1,\n",
    "    '2&10 year bond': bond2,\n",
    "}\n",
    "\n",
    "df = pd.DataFrame(data)\n",
    "df['delta'] = df['2&10 year bond'] - df['5 year bond']\n",
    "df"
   ]
  },
  {
   "cell_type": "markdown",
   "metadata": {},
   "source": [
    "5. Compute the convexities for each of these 10 par bonds.\n"
   ]
  },
  {
   "cell_type": "code",
   "execution_count": 10,
   "metadata": {},
   "outputs": [
    {
     "data": {
      "text/plain": [
       "0     1.440993\n",
       "1     4.678763\n",
       "2     9.554129\n",
       "3    15.914579\n",
       "4    23.620004\n",
       "5    32.539475\n",
       "6    42.544426\n",
       "7    53.502107\n",
       "8    65.271870\n",
       "9    77.705700\n",
       "dtype: float64"
      ]
     },
     "execution_count": 10,
     "metadata": {},
     "output_type": "execute_result"
    }
   ],
   "source": [
    "convexities = [bond.convexity() for bond in bonds]\n",
    "pd.Series(convexities)"
   ]
  },
  {
   "cell_type": "markdown",
   "metadata": {},
   "source": [
    "6. Use the computed dollar durations and convexities for these bonds and compute\n",
    "the price change of a 100 basis point upward and downward parallel shift in the\n",
    "spot curve. Compare the price changes with the actual price change obtained by\n",
    "recomputing the price of the bond from the shifted spot curve."
   ]
  },
  {
   "cell_type": "code",
   "execution_count": 11,
   "metadata": {},
   "outputs": [
    {
     "data": {
      "text/html": [
       "<div>\n",
       "<style scoped>\n",
       "    .dataframe tbody tr th:only-of-type {\n",
       "        vertical-align: middle;\n",
       "    }\n",
       "\n",
       "    .dataframe tbody tr th {\n",
       "        vertical-align: top;\n",
       "    }\n",
       "\n",
       "    .dataframe thead th {\n",
       "        text-align: right;\n",
       "    }\n",
       "</style>\n",
       "<table border=\"1\" class=\"dataframe\">\n",
       "  <thead>\n",
       "    <tr style=\"text-align: right;\">\n",
       "      <th></th>\n",
       "      <th>actual_prices_p</th>\n",
       "      <th>shifted_prices_p</th>\n",
       "      <th>actual_prices_n</th>\n",
       "      <th>shifted_prices_n</th>\n",
       "      <th>delta_p</th>\n",
       "      <th>delta_n</th>\n",
       "    </tr>\n",
       "  </thead>\n",
       "  <tbody>\n",
       "    <tr>\n",
       "      <th>0</th>\n",
       "      <td>-0.970532</td>\n",
       "      <td>-0.970485</td>\n",
       "      <td>0.984943</td>\n",
       "      <td>0.984895</td>\n",
       "      <td>0.000047</td>\n",
       "      <td>-0.000048</td>\n",
       "    </tr>\n",
       "    <tr>\n",
       "      <th>1</th>\n",
       "      <td>-1.895672</td>\n",
       "      <td>-1.895444</td>\n",
       "      <td>1.942462</td>\n",
       "      <td>1.942232</td>\n",
       "      <td>0.000228</td>\n",
       "      <td>-0.000231</td>\n",
       "    </tr>\n",
       "    <tr>\n",
       "      <th>2</th>\n",
       "      <td>-2.773211</td>\n",
       "      <td>-2.772593</td>\n",
       "      <td>2.868760</td>\n",
       "      <td>2.868134</td>\n",
       "      <td>0.000618</td>\n",
       "      <td>-0.000626</td>\n",
       "    </tr>\n",
       "    <tr>\n",
       "      <th>3</th>\n",
       "      <td>-3.604196</td>\n",
       "      <td>-3.602916</td>\n",
       "      <td>3.763362</td>\n",
       "      <td>3.762062</td>\n",
       "      <td>0.001279</td>\n",
       "      <td>-0.001299</td>\n",
       "    </tr>\n",
       "    <tr>\n",
       "      <th>4</th>\n",
       "      <td>-4.390899</td>\n",
       "      <td>-4.388634</td>\n",
       "      <td>4.627142</td>\n",
       "      <td>4.624834</td>\n",
       "      <td>0.002265</td>\n",
       "      <td>-0.002308</td>\n",
       "    </tr>\n",
       "    <tr>\n",
       "      <th>5</th>\n",
       "      <td>-5.135566</td>\n",
       "      <td>-5.131948</td>\n",
       "      <td>5.461045</td>\n",
       "      <td>5.457343</td>\n",
       "      <td>0.003618</td>\n",
       "      <td>-0.003702</td>\n",
       "    </tr>\n",
       "    <tr>\n",
       "      <th>6</th>\n",
       "      <td>-5.839777</td>\n",
       "      <td>-5.834405</td>\n",
       "      <td>6.265370</td>\n",
       "      <td>6.259849</td>\n",
       "      <td>0.005372</td>\n",
       "      <td>-0.005520</td>\n",
       "    </tr>\n",
       "    <tr>\n",
       "      <th>7</th>\n",
       "      <td>-6.504268</td>\n",
       "      <td>-6.496716</td>\n",
       "      <td>7.039531</td>\n",
       "      <td>7.031737</td>\n",
       "      <td>0.007551</td>\n",
       "      <td>-0.007793</td>\n",
       "    </tr>\n",
       "    <tr>\n",
       "      <th>8</th>\n",
       "      <td>-7.129077</td>\n",
       "      <td>-7.118905</td>\n",
       "      <td>7.782164</td>\n",
       "      <td>7.771624</td>\n",
       "      <td>0.010172</td>\n",
       "      <td>-0.010540</td>\n",
       "    </tr>\n",
       "    <tr>\n",
       "      <th>9</th>\n",
       "      <td>-7.713898</td>\n",
       "      <td>-7.700662</td>\n",
       "      <td>8.491485</td>\n",
       "      <td>8.477719</td>\n",
       "      <td>0.013236</td>\n",
       "      <td>-0.013766</td>\n",
       "    </tr>\n",
       "  </tbody>\n",
       "</table>\n",
       "</div>"
      ],
      "text/plain": [
       "   actual_prices_p  shifted_prices_p  actual_prices_n  shifted_prices_n  \\\n",
       "0        -0.970532         -0.970485         0.984943          0.984895   \n",
       "1        -1.895672         -1.895444         1.942462          1.942232   \n",
       "2        -2.773211         -2.772593         2.868760          2.868134   \n",
       "3        -3.604196         -3.602916         3.763362          3.762062   \n",
       "4        -4.390899         -4.388634         4.627142          4.624834   \n",
       "5        -5.135566         -5.131948         5.461045          5.457343   \n",
       "6        -5.839777         -5.834405         6.265370          6.259849   \n",
       "7        -6.504268         -6.496716         7.039531          7.031737   \n",
       "8        -7.129077         -7.118905         7.782164          7.771624   \n",
       "9        -7.713898         -7.700662         8.491485          8.477719   \n",
       "\n",
       "    delta_p   delta_n  \n",
       "0  0.000047 -0.000048  \n",
       "1  0.000228 -0.000231  \n",
       "2  0.000618 -0.000626  \n",
       "3  0.001279 -0.001299  \n",
       "4  0.002265 -0.002308  \n",
       "5  0.003618 -0.003702  \n",
       "6  0.005372 -0.005520  \n",
       "7  0.007551 -0.007793  \n",
       "8  0.010172 -0.010540  \n",
       "9  0.013236 -0.013766  "
      ]
     },
     "execution_count": 11,
     "metadata": {},
     "output_type": "execute_result"
    }
   ],
   "source": [
    "shifted_prices_p = [bond.second_order_shift(0.01) for bond in bonds]\n",
    "shifted_prices_n = [bond.second_order_shift(-0.01) for bond in bonds]\n",
    "actual_prices_p = [bond.actual_shift(0.01) for bond in bonds]\n",
    "actual_prices_n = [bond.actual_shift(-0.01) for bond in bonds]\n",
    "\n",
    "data = {\n",
    "    'actual_prices_p': actual_prices_p,\n",
    "    'shifted_prices_p': shifted_prices_p,\n",
    "    'actual_prices_n': actual_prices_n,\n",
    "    'shifted_prices_n': shifted_prices_n,\n",
    "}\n",
    "\n",
    "df = pd.DataFrame(data)\n",
    "df['delta_p']=df['shifted_prices_p']-df['actual_prices_p']\n",
    "df['delta_n']=df['shifted_prices_n']-df['actual_prices_n']\n",
    "df\n"
   ]
  }
 ],
 "metadata": {
  "kernelspec": {
   "display_name": "base",
   "language": "python",
   "name": "python3"
  },
  "language_info": {
   "codemirror_mode": {
    "name": "ipython",
    "version": 3
   },
   "file_extension": ".py",
   "mimetype": "text/x-python",
   "name": "python",
   "nbconvert_exporter": "python",
   "pygments_lexer": "ipython3",
   "version": "3.9.6"
  }
 },
 "nbformat": 4,
 "nbformat_minor": 2
}
