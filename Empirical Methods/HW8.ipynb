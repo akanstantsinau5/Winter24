{
 "cells": [
  {
   "cell_type": "code",
   "execution_count": 1,
   "metadata": {},
   "outputs": [
    {
     "name": "stderr",
     "output_type": "stream",
     "text": [
      "/Users/cwx/opt/anaconda3/lib/python3.8/site-packages/pandas/core/computation/expressions.py:20: UserWarning: Pandas requires version '2.7.3' or newer of 'numexpr' (version '2.7.1' currently installed).\n",
      "  from pandas.core.computation.check import NUMEXPR_INSTALLED\n"
     ]
    }
   ],
   "source": [
    "import numpy as np \n",
    "import pandas as pd\n",
    "import matplotlib.pyplot as plt\n",
    "import seaborn as sns\n",
    "import statsmodels.api as sm\n",
    "\n",
    "import warnings\n",
    "warnings.filterwarnings(\"ignore\")"
   ]
  },
  {
   "cell_type": "markdown",
   "metadata": {},
   "source": [
    "## Principal Component Analysis\n",
    "Download the 48 industry portfolio data (monthly) from Kenneth French's web site. Use the\n",
    "data from 1960 through 2023. Use the value-weighted returns. You may drop the industries\n",
    "that have any missing values (which are reported as -99.99). Also, download the 3 Fama-\n",
    "French factors from his web site. Use the monthly risk-free rate series provided by French in\n",
    "the same FF factor dataset to compute excess returns on these 48 portfolios.\n",
    "\n"
   ]
  },
  {
   "cell_type": "code",
   "execution_count": 2,
   "metadata": {},
   "outputs": [],
   "source": [
    "data = pd.read_csv('48_Industry_Portfolios.csv', skiprows=11)[:1171]\n",
    "data = data.rename(columns={'Unnamed: 0':'Date'})\n",
    "data = data[(data['Date'] >= '196001') & (data['Date'] <= '202312')]\n",
    "data['Date'] = pd.to_datetime(data['Date'],format=\"%Y%m\")\n",
    "data.iloc[:, 1:] = data.iloc[:, 1:].apply(pd.to_numeric)\n",
    "data = data.apply(lambda x: x.replace(-99.99, np.nan))\n",
    "data.dropna(inplace=True)\n",
    "data.set_index('Date',inplace=True)"
   ]
  },
  {
   "cell_type": "code",
   "execution_count": 3,
   "metadata": {},
   "outputs": [],
   "source": [
    "mdata = pd.read_csv(\"F-F_Research_Data_Factors.csv\", skiprows=3)\n",
    "mdata = mdata.rename(columns={'Unnamed: 0':'Date'})\n",
    "mdata = mdata[(mdata['Date'] >= '196001') & (mdata['Date'] <= '202312')]\n",
    "mdata['Date'] = pd.to_datetime(mdata['Date'],format=\"%Y%m\")\n",
    "mdata.iloc[:, 1:] = mdata.iloc[:, 1:].apply(pd.to_numeric)\n",
    "mdata.set_index('Date',inplace=True)"
   ]
  },
  {
   "cell_type": "markdown",
   "metadata": {},
   "source": [
    "1. Get the eigenvalues for the sample variance-covariance matrix of the excess returns to\n",
    "the 48 industries. Plot the fraction of total variance explained by each eigenvalue in a\n",
    "bar plot (that is, plot each eigenvalue divided by the sum of all eigenvalues)."
   ]
  },
  {
   "cell_type": "code",
   "execution_count": 4,
   "metadata": {},
   "outputs": [
    {
     "data": {
      "image/png": "[encoded data removed]",
      "text/plain": [
       "<Figure size 576x288 with 1 Axes>"
      ]
     },
     "metadata": {
      "needs_background": "light"
     },
     "output_type": "display_data"
    }
   ],
   "source": [
    "ex_return = data.copy()\n",
    "for col in data.columns:\n",
    "    ex_return[col] = data[col] - mdata['RF']\n",
    "cov_matrix = ex_return.cov()\n",
    "eigenvalues = np.linalg.eigvals(cov_matrix)\n",
    "var_explained = eigenvalues / np.sum(eigenvalues)\n",
    "\n",
    "sns.set(style='whitegrid')\n",
    "plt.figure(figsize=(8,4))\n",
    "plt.bar(range(1, len(var_explained) + 1), var_explained, color='steelblue')\n",
    "plt.xlabel('Eigenvalue Index')\n",
    "plt.ylabel('Fraction of Total Variance Explained')\n",
    "plt.show()"
   ]
  },
  {
   "cell_type": "markdown",
   "metadata": {},
   "source": [
    "2. Choose the 3 First (largest) principal components.\n",
    "(a) How much of the total variance do these 3 factors explain?\n"
   ]
  },
  {
   "cell_type": "code",
   "execution_count": 5,
   "metadata": {},
   "outputs": [
    {
     "data": {
      "text/plain": [
       "0.6716192763090831"
      ]
     },
     "execution_count": 5,
     "metadata": {},
     "output_type": "execute_result"
    }
   ],
   "source": [
    "eig = np.linalg.eig(cov_matrix)\n",
    "eigenvalues = eig[0]\n",
    "eigenvectors = eig[1]\n",
    "\n",
    "# Select the first three principal components\n",
    "principal_components = eigenvectors[:, :3]\n",
    "\n",
    "# Calculate the variance explained by the first three principal components\n",
    "np.sum(eigenvalues[:3]) / np.sum(eigenvalues)\n"
   ]
  },
  {
   "cell_type": "markdown",
   "metadata": {},
   "source": [
    "(b) Give the mean sample return to these 3 factor portfolios, their standard deviation,\n",
    "and correlation.\n"
   ]
  },
  {
   "cell_type": "code",
   "execution_count": 6,
   "metadata": {},
   "outputs": [
    {
     "name": "stdout",
     "output_type": "stream",
     "text": [
      "Mean: [4.2878, -0.0124, -0.1892]\n",
      "Standard Deviation: [35.2737, 11.9784, 9.4996]\n"
     ]
    }
   ],
   "source": [
    "portfolios = np.dot(ex_return, principal_components)\n",
    "mean_arr = np.mean(portfolios,axis=0)\n",
    "var_arr = np.var(portfolios,axis=0)\n",
    "\n",
    "print('Mean:', [round(value, 4) for value in mean_arr])\n",
    "print('Standard Deviation:', [round(np.sqrt(value), 4) for value in var_arr])"
   ]
  },
  {
   "cell_type": "code",
   "execution_count": 7,
   "metadata": {},
   "outputs": [
    {
     "data": {
      "text/html": [
       "<div>\n",
       "<style scoped>\n",
       "    .dataframe tbody tr th:only-of-type {\n",
       "        vertical-align: middle;\n",
       "    }\n",
       "\n",
       "    .dataframe tbody tr th {\n",
       "        vertical-align: top;\n",
       "    }\n",
       "\n",
       "    .dataframe thead th {\n",
       "        text-align: right;\n",
       "    }\n",
       "</style>\n",
       "<table border=\"1\" class=\"dataframe\">\n",
       "  <thead>\n",
       "    <tr style=\"text-align: right;\">\n",
       "      <th></th>\n",
       "      <th>0</th>\n",
       "      <th>1</th>\n",
       "      <th>2</th>\n",
       "    </tr>\n",
       "  </thead>\n",
       "  <tbody>\n",
       "    <tr>\n",
       "      <th>0</th>\n",
       "      <td>1.000000e+00</td>\n",
       "      <td>2.886621e-16</td>\n",
       "      <td>-2.170734e-17</td>\n",
       "    </tr>\n",
       "    <tr>\n",
       "      <th>1</th>\n",
       "      <td>2.886621e-16</td>\n",
       "      <td>1.000000e+00</td>\n",
       "      <td>4.038882e-16</td>\n",
       "    </tr>\n",
       "    <tr>\n",
       "      <th>2</th>\n",
       "      <td>-2.170734e-17</td>\n",
       "      <td>4.038882e-16</td>\n",
       "      <td>1.000000e+00</td>\n",
       "    </tr>\n",
       "  </tbody>\n",
       "</table>\n",
       "</div>"
      ],
      "text/plain": [
       "              0             1             2\n",
       "0  1.000000e+00  2.886621e-16 -2.170734e-17\n",
       "1  2.886621e-16  1.000000e+00  4.038882e-16\n",
       "2 -2.170734e-17  4.038882e-16  1.000000e+00"
      ]
     },
     "execution_count": 7,
     "metadata": {},
     "output_type": "execute_result"
    }
   ],
   "source": [
    "pd.DataFrame(portfolios).corr()"
   ]
  },
  {
   "cell_type": "markdown",
   "metadata": {},
   "source": [
    "(c) Consider a multi-factor model of returns using these three factors as pricing fac\n",
    "tors. Plot the predicted return from this model for all the industries versus the\n",
    "realized average industry returns over the sample. That is, estimate the betas of\n",
    "each industry with respect to these factors, get the expected excess returns as $E[R^e_{it}] = \\hat{\\beta}'_i\\hat{E}[F_t]$\n",
    "where Ft are the factor returns and $E[F_t]$ is estimated as the sample average of\n",
    "each factor. This expected return will be on your x-axis. The sample average of\n",
    "each industryís excess return will be on the y-axis. Add a 45 degree line to this\n",
    "plot.\n",
    "[You can get factor loadings (betas) from the eigenvectors. Or, if you like, you\n",
    "can run the time-series regression of each industryís return on the 3 factors. The\n",
    "result is the same.]\n"
   ]
  },
  {
   "cell_type": "code",
   "execution_count": 8,
   "metadata": {},
   "outputs": [
    {
     "data": {
      "image/png": "[encoded data removed]",
      "text/plain": [
       "<Figure size 720x432 with 1 Axes>"
      ]
     },
     "metadata": {
      "needs_background": "light"
     },
     "output_type": "display_data"
    }
   ],
   "source": [
    "expected = np.dot(principal_components, mean_arr)\n",
    "actual = np.mean(ex_return, axis=0)\n",
    "\n",
    "plt.figure(figsize=(10,6))\n",
    "plt.scatter(expected,actual)\n",
    "plt.plot([min(expected), max(expected)], [min(actual), max(actual)],\n",
    "         linestyle='dashed', color='coral')\n",
    "plt.xlabel('Expected Excess Returns')\n",
    "plt.ylabel('Actual Average Excess Returns')\n",
    "plt.show()\n"
   ]
  },
  {
   "cell_type": "markdown",
   "metadata": {},
   "source": [
    "(d) Give the implied cross-sectional R2 of the plot in c). That is, calculate:\n",
    "$R^2_{cross-section} = 1 - \\frac{Var(\\bar{R}^{act} - \\hat{R}^{pred})}{Var(\\bar{R}^{act})}$"
   ]
  },
  {
   "cell_type": "code",
   "execution_count": 9,
   "metadata": {},
   "outputs": [
    {
     "data": {
      "text/plain": [
       "-0.6854854897946627"
      ]
     },
     "execution_count": 9,
     "metadata": {},
     "output_type": "execute_result"
    }
   ],
   "source": [
    "var_actual = np.var(actual)\n",
    "var_diff = np.var(actual-expected)\n",
    "1 - var_diff/var_actual"
   ]
  },
  {
   "cell_type": "markdown",
   "metadata": {},
   "source": [
    "Now, download the 25 FF portfolios sorted on size and book-to-market, same sample\n",
    "period. <br>\n",
    "(a) Get the eigenvalues for the sample variance-covariance matrix of the excess re\n",
    "turns to these 25 F-F portfolios. Plot the fraction of variance explained by each\n",
    "eigenvalue in a bar plot.\n"
   ]
  },
  {
   "cell_type": "code",
   "execution_count": 10,
   "metadata": {},
   "outputs": [],
   "source": [
    "data2 = pd.read_csv('25_Portfolios_5x5.csv', skiprows=15)[:1171]\n",
    "data2 = data2.rename(columns={'Unnamed: 0':'Date'})\n",
    "data2 = data2[(data2['Date'] >= '196001') & (data2['Date'] <= '202312')]\n",
    "data2['Date'] = pd.to_datetime(data2['Date'],format=\"%Y%m\")\n",
    "data2.iloc[:, 1:] = data2.iloc[:, 1:].apply(pd.to_numeric)\n",
    "data2 = data2.apply(lambda x: x.replace(-99.99, np.nan))\n",
    "data2.dropna(inplace=True)\n",
    "data2.set_index('Date',inplace=True)"
   ]
  },
  {
   "cell_type": "code",
   "execution_count": 11,
   "metadata": {},
   "outputs": [
    {
     "data": {
      "image/png": "[encoded data removed]",
      "text/plain": [
       "<Figure size 576x288 with 1 Axes>"
      ]
     },
     "metadata": {},
     "output_type": "display_data"
    }
   ],
   "source": [
    "ex_return_2 = data2.copy()\n",
    "for col in data2.columns:\n",
    "    ex_return_2[col] = data2[col] - mdata['RF']\n",
    "cov_matrix = ex_return_2.cov()\n",
    "eigenvalues = np.linalg.eigvals(cov_matrix)\n",
    "var_explained = eigenvalues / np.sum(eigenvalues)\n",
    "\n",
    "sns.set(style='whitegrid')\n",
    "plt.figure(figsize=(8,4))\n",
    "plt.bar(range(1, len(var_explained) + 1), var_explained, color='steelblue')\n",
    "plt.xlabel('Eigenvalue Index')\n",
    "plt.ylabel('Fraction of Total Variance Explained')\n",
    "plt.show()"
   ]
  },
  {
   "cell_type": "markdown",
   "metadata": {},
   "source": [
    "(b) Let's pick three of the 25 portfolios at random. So we all do the same thing, pick\n",
    "(1) the portfolio in the second size and first bm bucket, (2) the portfolio in the\n",
    "third size and the fifth bm bucket, and (3) the portfolio in the fifth size and third\n",
    "bm bucket.\n",
    "For each of the 22 remaining F-F portfolios, regress the portfolio return on the\n",
    "three portfolio returns that you chose. Report the average R2 across these 22\n",
    "portfolios."
   ]
  },
  {
   "cell_type": "code",
   "execution_count": 12,
   "metadata": {},
   "outputs": [
    {
     "data": {
      "text/plain": [
       "0.861852263576766"
      ]
     },
     "execution_count": 12,
     "metadata": {},
     "output_type": "execute_result"
    }
   ],
   "source": [
    "chosed = ['ME2 BM1','ME3 BM5','ME5 BM3']\n",
    "remained = [col for col in data2.columns if col not in chosed]\n",
    "\n",
    "r_square = []\n",
    "for c in remained:\n",
    "    y = data2[c].fillna(0)\n",
    "    X = sm.add_constant(data2[chosed]).fillna(0)\n",
    "    model = sm.OLS(y, X).fit()\n",
    "    r_square.append(model.rsquared)\n",
    "\n",
    "np.mean(r_square)"
   ]
  },
  {
   "cell_type": "markdown",
   "metadata": {},
   "source": [
    "(c) You should find that the R2s are very high. Relate this finding to the pattern in\n",
    "the eigenvalues you found in a. Are you surprised about the high $R^2$ s or not?\n"
   ]
  },
  {
   "cell_type": "markdown",
   "metadata": {},
   "source": [
    "Answer: The high R-squared values are not surprising in this context. It indicates that a substantial portion of the variability in the 22 remaining portfolios can be explained by the chosen three portfolios, which aligns with the dominance of the first principal component in explaining the variance in the data."
   ]
  },
  {
   "cell_type": "markdown",
   "metadata": {},
   "source": [
    "(d) For the sake of argument, letís say that all the R2s were 100%. That means\n",
    "that instead of having 22 test assets you only have three test assets that are not\n",
    "linearly dependent and that these are completely linearly spanned by the factors.\n",
    "Intuitively, what do you think of a model test that tries to explain three average\n",
    "returns with three coefcients? Could we ever reject this model?"
   ]
  },
  {
   "cell_type": "markdown",
   "metadata": {},
   "source": [
    "Answer: It's highly likely that we would not reject the null hypothesis of no effect (i.e., the coefficients are equal to zero). This is because the model already perfectly explains the dependent variable, and adding more variables or information would not improve the fit."
   ]
  },
  {
   "cell_type": "markdown",
   "metadata": {},
   "source": []
  }
 ],
 "metadata": {
  "kernelspec": {
   "display_name": "base",
   "language": "python",
   "name": "python3"
  },
  "language_info": {
   "codemirror_mode": {
    "name": "ipython",
    "version": 3
   },
   "file_extension": ".py",
   "mimetype": "text/x-python",
   "name": "python",
   "nbconvert_exporter": "python",
   "pygments_lexer": "ipython3",
   "version": "3.8.3"
  }
 },
 "nbformat": 4,
 "nbformat_minor": 2
}
